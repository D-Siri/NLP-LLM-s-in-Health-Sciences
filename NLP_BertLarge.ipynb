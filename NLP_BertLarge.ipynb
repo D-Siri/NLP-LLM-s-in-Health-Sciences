{
  "cells": [
    {
      "cell_type": "code",
      "execution_count": null,
      "metadata": {
        "colab": {
          "base_uri": "https://localhost:8080/"
        },
        "id": "F8AikVeadayd",
        "outputId": "c45f5f5f-aba0-48c4-ffcf-30aa06661240"
      },
      "outputs": [
        {
          "name": "stdout",
          "output_type": "stream",
          "text": [
            "Drive already mounted at /content/drive; to attempt to forcibly remount, call drive.mount(\"/content/drive\", force_remount=True).\n"
          ]
        }
      ],
      "source": [
        "from google.colab import drive\n",
        "drive.mount('/content/drive')"
      ]
    },
    {
      "cell_type": "code",
      "execution_count": null,
      "metadata": {
        "ExecuteTime": {
          "end_time": "2024-03-25T12:44:28.900350Z",
          "start_time": "2024-03-25T12:44:28.892923Z"
        },
        "id": "mwbaGfWidWz_"
      },
      "outputs": [],
      "source": [
        "json_file_path = '/content/drive/MyDrive/Colab Notebooks/train.json'\n",
        "import json\n",
        "with open(json_file_path, 'r') as file:\n",
        "    train_data = json.load(file)\n"
      ]
    },
    {
      "cell_type": "code",
      "execution_count": null,
      "metadata": {
        "id": "yBV2i0SCdW0B"
      },
      "outputs": [],
      "source": [
        "import torch\n",
        "from transformers import BertTokenizer, BertModel\n",
        "\n",
        "tokenizer = BertTokenizer.from_pretrained('bert-large-uncased')\n",
        "\n",
        "clinical_bert_model = BertModel.from_pretrained('bert-large-uncased', )"
      ]
    },
    {
      "cell_type": "code",
      "execution_count": null,
      "metadata": {
        "colab": {
          "base_uri": "https://localhost:8080/"
        },
        "id": "JyOwkKzodW0C",
        "outputId": "293e3ed0-ff26-4a9d-930a-35c6c195fc4b"
      },
      "outputs": [
        {
          "name": "stdout",
          "output_type": "stream",
          "text": [
            "BertModel(\n",
            "  (embeddings): BertEmbeddings(\n",
            "    (word_embeddings): Embedding(30522, 1024, padding_idx=0)\n",
            "    (position_embeddings): Embedding(512, 1024)\n",
            "    (token_type_embeddings): Embedding(2, 1024)\n",
            "    (LayerNorm): LayerNorm((1024,), eps=1e-12, elementwise_affine=True)\n",
            "    (dropout): Dropout(p=0.1, inplace=False)\n",
            "  )\n",
            "  (encoder): BertEncoder(\n",
            "    (layer): ModuleList(\n",
            "      (0-23): 24 x BertLayer(\n",
            "        (attention): BertAttention(\n",
            "          (self): BertSelfAttention(\n",
            "            (query): Linear(in_features=1024, out_features=1024, bias=True)\n",
            "            (key): Linear(in_features=1024, out_features=1024, bias=True)\n",
            "            (value): Linear(in_features=1024, out_features=1024, bias=True)\n",
            "            (dropout): Dropout(p=0.1, inplace=False)\n",
            "          )\n",
            "          (output): BertSelfOutput(\n",
            "            (dense): Linear(in_features=1024, out_features=1024, bias=True)\n",
            "            (LayerNorm): LayerNorm((1024,), eps=1e-12, elementwise_affine=True)\n",
            "            (dropout): Dropout(p=0.1, inplace=False)\n",
            "          )\n",
            "        )\n",
            "        (intermediate): BertIntermediate(\n",
            "          (dense): Linear(in_features=1024, out_features=4096, bias=True)\n",
            "          (intermediate_act_fn): GELUActivation()\n",
            "        )\n",
            "        (output): BertOutput(\n",
            "          (dense): Linear(in_features=4096, out_features=1024, bias=True)\n",
            "          (LayerNorm): LayerNorm((1024,), eps=1e-12, elementwise_affine=True)\n",
            "          (dropout): Dropout(p=0.1, inplace=False)\n",
            "        )\n",
            "      )\n",
            "    )\n",
            "  )\n",
            "  (pooler): BertPooler(\n",
            "    (dense): Linear(in_features=1024, out_features=1024, bias=True)\n",
            "    (activation): Tanh()\n",
            "  )\n",
            ")\n"
          ]
        }
      ],
      "source": [
        "print(clinical_bert_model)"
      ]
    },
    {
      "cell_type": "code",
      "execution_count": null,
      "metadata": {
        "ExecuteTime": {
          "end_time": "2024-03-25T12:44:33.350766Z",
          "start_time": "2024-03-25T12:44:33.348680Z"
        },
        "id": "NSQcLREYdW0C"
      },
      "outputs": [],
      "source": [
        "label_mapping = {\n",
        "    'Entailment': 1,\n",
        "    'Contradiction': 0\n",
        "}"
      ]
    },
    {
      "cell_type": "code",
      "execution_count": null,
      "metadata": {
        "id": "WcRHx_HqdW0D"
      },
      "outputs": [],
      "source": [
        "import json\n",
        "import os\n",
        "import re\n",
        "import random\n",
        "from torch.utils.data import DataLoader\n",
        "\n",
        "\n",
        "ctr_json_folder = '/content/drive/MyDrive/Colab Notebooks/CT json' \n",
        "\n",
        "\n",
        "\n",
        "\n",
        "def preprocess_data(train_data):\n",
        "    preprocessed_data = []\n",
        "    for data_id, data in train_data.items():\n",
        "        ctr_1 = data['Primary_id'] + '.json'\n",
        "        ctr_1f = os.path.join(ctr_json_folder, ctr_1)\n",
        "        secondaryid_exists = False\n",
        "        if 'Secondary_id' in data:\n",
        "            ctr_2 = data['Secondary_id'] + '.json'\n",
        "            ctr_2f = os.path.join(ctr_json_folder, ctr_2)\n",
        "            secondaryid_exists = True\n",
        "\n",
        "        with open(ctr_1f, 'r') as file:\n",
        "            ctr_a = json.load(file)\n",
        "            if secondaryid_exists:\n",
        "                with open(ctr_2f, 'r') as file:\n",
        "                    ctr_b = json.load(file)\n",
        "                ctr = \"Compare CTR 1\" + \" [SEP] \".join(ctr_a[data['Section_id']])  + \"[SEP]\"+ \"and CTR 2\" + \" [SEP] \".join(\n",
        "                    ctr_b[data[\"Section_id\"]]) + \"to determine if the given statement\" + \" [SEP] \" + data[\"Statement\"] +\"[SEP]\"+\"is true\"\n",
        "            else:\n",
        "                ctr = \"Analyze CTR 1\" + \" [SEP] \".join(ctr_a[data['Section_id']]) + \"[SEP]\"+\" To determine if the given Statement\" + \" [SEP] \" + data[\"Statement\"]+\"[SEP]\"+\"is true\"\n",
        "        ctr = ctr.lower()\n",
        "        url_ptrn = r'http[s]?://(?:[a-zA-Z]|[0-9]|[$-_@.&+]|[!*\\\\(\\\\),]|(?:%[0-9a-fA-F][0-9a-fA-F]))+'\n",
        "\n",
        "        ctr = re.sub(url_ptrn, '', ctr)\n",
        "        ctr = re.sub(r'[^\\w\\s]', '', ctr)\n",
        "\n",
        "        inputs = tokenizer(ctr, return_tensors='pt', max_length=512, padding='max_length', truncation=True)\n",
        "        labels = torch.tensor([label_mapping[data['Label']]])\n",
        "\n",
        "        preprocessed_data.append((inputs, labels))\n",
        "\n",
        "    return preprocessed_data\n"
      ]
    },
    {
      "cell_type": "code",
      "execution_count": null,
      "metadata": {
        "id": "JE5kSeNSdW0D"
      },
      "outputs": [],
      "source": [
        "\n",
        "preprocessed_data = preprocess_data(train_data)\n",
        "\n"
      ]
    },
    {
      "cell_type": "code",
      "execution_count": null,
      "metadata": {
        "colab": {
          "base_uri": "https://localhost:8080/"
        },
        "id": "X5yBjTvIdW0D",
        "outputId": "867e0cbb-3789-4c39-bf93-bef68af9eba8"
      },
      "outputs": [
        {
          "name": "stdout",
          "output_type": "stream",
          "text": [
            "1700\n"
          ]
        }
      ],
      "source": [
        "print(len(preprocessed_data))"
      ]
    },
    {
      "cell_type": "code",
      "execution_count": null,
      "metadata": {
        "id": "UPq0TnY_dW0D"
      },
      "outputs": [],
      "source": [
        "import json\n",
        "with open('/content/drive/MyDrive/Colab Notebooks/dev.json', 'r') as file:\n",
        "    dev_data = json.load(file)\n",
        "\n",
        "dev_preprocessed_data = preprocess_data(dev_data)"
      ]
    },
    {
      "cell_type": "code",
      "execution_count": null,
      "metadata": {
        "id": "mBplH-G8dW0D"
      },
      "outputs": [],
      "source": [
        "import numpy as np\n",
        "\n",
        "\n",
        "data = preprocessed_data + dev_preprocessed_data\n",
        "data = list(data)\n",
        "val_size = int(len(data) * 0.15)\n",
        "\n",
        "np.random.shuffle(data)\n",
        "\n",
        "val_data = data[:val_size]\n",
        "train_data = data[val_size:]\n"
      ]
    },
    {
      "cell_type": "code",
      "execution_count": null,
      "metadata": {
        "id": "FYzEdLvQdW0E"
      },
      "outputs": [],
      "source": [
        "from torch.utils.data import DataLoader\n",
        "\n",
        "batch_size = 32\n",
        "train_loader = DataLoader(train_data, batch_size=batch_size)\n",
        "val_loader = DataLoader(val_data, batch_size=batch_size)"
      ]
    },
    {
      "cell_type": "code",
      "execution_count": null,
      "metadata": {
        "id": "Od0_p6bFrLs2"
      },
      "outputs": [],
      "source": []
    },
    {
      "cell_type": "code",
      "execution_count": null,
      "metadata": {
        "ExecuteTime": {
          "end_time": "2024-03-25T12:45:37.137943Z",
          "start_time": "2024-03-25T12:45:37.135875Z"
        },
        "id": "WgiUCXgHdW0E"
      },
      "outputs": [],
      "source": [
        "for param in list(clinical_bert_model.parameters())[:-3]:\n",
        "    param.requires_grad = False"
      ]
    },
    {
      "cell_type": "code",
      "execution_count": null,
      "metadata": {
        "id": "TFmlQ_kXdW0E"
      },
      "outputs": [],
      "source": [
        "import torch\n",
        "import torch.nn as nn\n",
        "import torch.optim as optim\n",
        "from torch.utils.data import DataLoader, TensorDataset\n",
        "import numpy as np\n",
        "import matplotlib.pyplot as plt\n",
        "from sklearn.metrics import confusion_matrix, classification_report"
      ]
    },
    {
      "cell_type": "code",
      "execution_count": null,
      "metadata": {
        "ExecuteTime": {
          "end_time": "2024-03-25T14:15:26.365678Z",
          "start_time": "2024-03-25T12:46:04.369754Z"
        },
        "colab": {
          "base_uri": "https://localhost:8080/"
        },
        "id": "g3bKniqRdW0E",
        "outputId": "2488d2df-1f13-4869-9875-2f8475885bbd"
      },
      "outputs": [
        {
          "name": "stdout",
          "output_type": "stream",
          "text": [
            "Epoch 1/50, Train Loss: 0.7043, Train Accuracy: 0.4954, Val Loss: 0.7060, Val Accuracy: 0.4632\n",
            "Epoch 2/50, Train Loss: 0.7141, Train Accuracy: 0.4663, Val Loss: 0.7065, Val Accuracy: 0.4632\n",
            "Epoch 3/50, Train Loss: 0.7092, Train Accuracy: 0.5022, Val Loss: 0.7154, Val Accuracy: 0.4632\n",
            "Epoch 4/50, Train Loss: 0.7022, Train Accuracy: 0.4978, Val Loss: 0.7127, Val Accuracy: 0.4632\n",
            "Epoch 5/50, Train Loss: 0.7044, Train Accuracy: 0.4954, Val Loss: 0.7135, Val Accuracy: 0.4632\n",
            "Epoch 6/50, Train Loss: 0.6985, Train Accuracy: 0.5220, Val Loss: 0.7125, Val Accuracy: 0.4632\n",
            "Epoch 7/50, Train Loss: 0.7087, Train Accuracy: 0.4935, Val Loss: 0.7095, Val Accuracy: 0.4632\n",
            "Epoch 8/50, Train Loss: 0.7102, Train Accuracy: 0.4960, Val Loss: 0.7118, Val Accuracy: 0.4632\n",
            "Epoch 9/50, Train Loss: 0.7002, Train Accuracy: 0.5127, Val Loss: 0.7141, Val Accuracy: 0.4632\n",
            "Epoch 10/50, Train Loss: 0.7033, Train Accuracy: 0.5053, Val Loss: 0.7121, Val Accuracy: 0.4632\n",
            "Epoch 11/50, Train Loss: 0.7166, Train Accuracy: 0.4737, Val Loss: 0.7113, Val Accuracy: 0.4632\n",
            "Epoch 12/50, Train Loss: 0.7084, Train Accuracy: 0.5059, Val Loss: 0.7101, Val Accuracy: 0.4632\n",
            "Epoch 13/50, Train Loss: 0.7037, Train Accuracy: 0.5139, Val Loss: 0.7145, Val Accuracy: 0.4632\n",
            "Epoch 14/50, Train Loss: 0.7083, Train Accuracy: 0.4910, Val Loss: 0.7155, Val Accuracy: 0.4632\n",
            "Epoch 15/50, Train Loss: 0.7066, Train Accuracy: 0.4916, Val Loss: 0.7136, Val Accuracy: 0.4632\n",
            "Epoch 16/50, Train Loss: 0.7029, Train Accuracy: 0.5139, Val Loss: 0.7103, Val Accuracy: 0.4632\n",
            "Epoch 17/50, Train Loss: 0.7046, Train Accuracy: 0.5028, Val Loss: 0.7095, Val Accuracy: 0.4632\n",
            "Epoch 18/50, Train Loss: 0.7022, Train Accuracy: 0.5046, Val Loss: 0.7138, Val Accuracy: 0.4632\n",
            "Epoch 19/50, Train Loss: 0.7006, Train Accuracy: 0.4991, Val Loss: 0.7141, Val Accuracy: 0.4632\n",
            "Epoch 20/50, Train Loss: 0.7003, Train Accuracy: 0.5071, Val Loss: 0.7126, Val Accuracy: 0.4632\n",
            "Epoch 21/50, Train Loss: 0.7053, Train Accuracy: 0.5071, Val Loss: 0.7114, Val Accuracy: 0.4632\n",
            "Epoch 22/50, Train Loss: 0.7055, Train Accuracy: 0.4991, Val Loss: 0.7116, Val Accuracy: 0.4632\n",
            "Epoch 23/50, Train Loss: 0.7004, Train Accuracy: 0.5263, Val Loss: 0.7121, Val Accuracy: 0.4667\n",
            "Epoch 24/50, Train Loss: 0.7042, Train Accuracy: 0.5152, Val Loss: 0.7104, Val Accuracy: 0.4667\n",
            "Epoch 25/50, Train Loss: 0.7053, Train Accuracy: 0.5009, Val Loss: 0.7106, Val Accuracy: 0.4667\n",
            "Epoch 26/50, Train Loss: 0.7046, Train Accuracy: 0.4916, Val Loss: 0.7116, Val Accuracy: 0.4632\n",
            "Epoch 27/50, Train Loss: 0.7071, Train Accuracy: 0.4954, Val Loss: 0.7101, Val Accuracy: 0.4667\n",
            "Epoch 28/50, Train Loss: 0.7071, Train Accuracy: 0.4836, Val Loss: 0.7135, Val Accuracy: 0.4667\n",
            "Epoch 29/50, Train Loss: 0.7033, Train Accuracy: 0.5071, Val Loss: 0.7133, Val Accuracy: 0.4632\n",
            "Epoch 30/50, Train Loss: 0.7081, Train Accuracy: 0.4910, Val Loss: 0.7147, Val Accuracy: 0.4632\n",
            "Epoch 31/50, Train Loss: 0.7039, Train Accuracy: 0.5195, Val Loss: 0.7122, Val Accuracy: 0.4667\n",
            "Epoch 32/50, Train Loss: 0.7036, Train Accuracy: 0.5003, Val Loss: 0.7101, Val Accuracy: 0.4632\n",
            "Epoch 33/50, Train Loss: 0.7094, Train Accuracy: 0.4793, Val Loss: 0.7130, Val Accuracy: 0.4632\n",
            "Epoch 34/50, Train Loss: 0.7040, Train Accuracy: 0.5071, Val Loss: 0.7173, Val Accuracy: 0.4632\n",
            "Epoch 35/50, Train Loss: 0.7054, Train Accuracy: 0.5077, Val Loss: 0.7132, Val Accuracy: 0.4632\n",
            "Epoch 36/50, Train Loss: 0.7056, Train Accuracy: 0.4972, Val Loss: 0.7148, Val Accuracy: 0.4632\n",
            "Epoch 37/50, Train Loss: 0.7044, Train Accuracy: 0.4941, Val Loss: 0.7088, Val Accuracy: 0.4632\n",
            "Epoch 38/50, Train Loss: 0.7038, Train Accuracy: 0.5009, Val Loss: 0.7136, Val Accuracy: 0.4632\n",
            "Epoch 39/50, Train Loss: 0.7036, Train Accuracy: 0.5034, Val Loss: 0.7193, Val Accuracy: 0.4632\n",
            "Epoch 40/50, Train Loss: 0.7029, Train Accuracy: 0.5108, Val Loss: 0.7111, Val Accuracy: 0.4632\n",
            "Epoch 41/50, Train Loss: 0.7036, Train Accuracy: 0.5065, Val Loss: 0.7148, Val Accuracy: 0.4632\n",
            "Epoch 42/50, Train Loss: 0.6996, Train Accuracy: 0.5059, Val Loss: 0.7161, Val Accuracy: 0.4632\n",
            "Epoch 43/50, Train Loss: 0.7007, Train Accuracy: 0.5034, Val Loss: 0.7098, Val Accuracy: 0.4632\n",
            "Epoch 44/50, Train Loss: 0.6993, Train Accuracy: 0.5152, Val Loss: 0.7165, Val Accuracy: 0.4632\n",
            "Epoch 45/50, Train Loss: 0.7044, Train Accuracy: 0.4991, Val Loss: 0.7117, Val Accuracy: 0.4632\n",
            "Epoch 46/50, Train Loss: 0.6978, Train Accuracy: 0.5146, Val Loss: 0.7141, Val Accuracy: 0.4632\n",
            "Epoch 47/50, Train Loss: 0.7060, Train Accuracy: 0.4960, Val Loss: 0.7128, Val Accuracy: 0.4632\n",
            "Epoch 48/50, Train Loss: 0.7065, Train Accuracy: 0.5084, Val Loss: 0.7134, Val Accuracy: 0.4667\n",
            "Epoch 49/50, Train Loss: 0.7007, Train Accuracy: 0.5071, Val Loss: 0.7125, Val Accuracy: 0.4632\n",
            "Epoch 50/50, Train Loss: 0.7050, Train Accuracy: 0.4954, Val Loss: 0.7128, Val Accuracy: 0.4632\n"
          ]
        }
      ],
      "source": [
        "import torch.nn.functional as F\n",
        "import torch.nn as nn\n",
        "import torch.nn.functional as F\n",
        "\n",
        "class CustomClassifier(nn.Module):\n",
        "    def __init__(self, bert_model, num_classes):\n",
        "        super().__init__()\n",
        "        self.bert = bert_model\n",
        "        self.classifier = nn.Sequential(\n",
        "            nn.Linear(1024, 512),  \n",
        "            nn.ReLU(),            \n",
        "            nn.Dropout(0.1),      \n",
        "            nn.Linear(512, 256),  \n",
        "            nn.ReLU(),            \n",
        "            nn.Dropout(0.1),     \n",
        "            nn.Linear(256, num_classes)  \n",
        "        )\n",
        "\n",
        "    def forward(self, input_ids, attention_mask, labels=None):\n",
        "        outputs = self.bert(input_ids, attention_mask=attention_mask)\n",
        "        pooled_output = outputs.pooler_output  \n",
        "        logits = self.classifier(pooled_output)\n",
        "        return logits\n",
        "\n",
        "num_classes = 2  \n",
        "model = CustomClassifier(clinical_bert_model, num_classes)\n",
        "\n",
        "\n",
        "optimizer = torch.optim.AdamW(model.parameters(), lr=1e-4)\n",
        "from sklearn.metrics import accuracy_score\n",
        "\n",
        "\n",
        "device = torch.device('cuda')\n",
        "\n",
        "model.to(device)\n",
        "\n",
        "train_losses = []\n",
        "val_losses = []\n",
        "train_accuracies = []\n",
        "val_accuracies = []\n",
        "NUM_EPOCHS=50\n",
        "best_val_acc = float('-inf')\n",
        "\n",
        "\n",
        "for epoch in range(NUM_EPOCHS):\n",
        "    model.train()\n",
        "    total_train_loss = 0.0\n",
        "    correct_train = 0\n",
        "    total_train = 0\n",
        "    train_predicted = []\n",
        "    train_labels = []\n",
        "    for batch in train_loader:\n",
        "        input_ids = batch[0]['input_ids']\n",
        "        attention_mask = batch[0]['attention_mask']\n",
        "\n",
        "        labels = batch[1]\n",
        "        labels.to(device)\n",
        "        input_ids = input_ids.squeeze(1).to(device)\n",
        "        attention_mask = attention_mask.squeeze(1).to(device)\n",
        "        optimizer.zero_grad()\n",
        "        logits = model(input_ids, attention_mask).to(device)\n",
        "        loss_fn = nn.CrossEntropyLoss()\n",
        "        logits = logits.squeeze(1)\n",
        "        labels = labels.squeeze(1)\n",
        "        labels = labels.to(logits.device)\n",
        "\n",
        "        loss = F.binary_cross_entropy_with_logits(logits[:, 1], labels.float())\n",
        "\n",
        "        loss.backward()\n",
        "\n",
        "        total_train_loss += loss.item()\n",
        "\n",
        "        optimizer.step()\n",
        "        _, predicted = torch.max(logits, 1)\n",
        "        train_predicted.extend(predicted.tolist())\n",
        "        train_labels.extend(labels.tolist())\n",
        "        total_train += labels.size(0)\n",
        "        correct_train += (predicted == labels).sum().item()\n",
        "\n",
        "\n",
        "    train_loss = total_train_loss / len(train_loader)\n",
        "    train_acc_score = accuracy_score(train_labels, train_predicted)\n",
        "\n",
        "    train_losses.append(train_loss)\n",
        "    train_accuracies.append(train_acc_score)\n",
        "\n",
        "\n",
        "    # Validation\n",
        "    model.eval()\n",
        "    total_val_loss = 0.0\n",
        "    correct_val = 0\n",
        "    total_val = 0\n",
        "    val_predicted = []\n",
        "    val_labels = []\n",
        "\n",
        "    with torch.no_grad():\n",
        "        for batch in val_loader:\n",
        "            input_ids = batch[0]['input_ids']\n",
        "            attention_mask = batch[0]['attention_mask']\n",
        "\n",
        "            labels = batch[1]\n",
        "            labels.to(device)\n",
        "            input_ids = input_ids.squeeze(1).to(device)\n",
        "            attention_mask = attention_mask.squeeze(1).to(device)\n",
        "            optimizer.zero_grad()\n",
        "            logits = model(input_ids, attention_mask).to(device)\n",
        "            loss_fn = nn.CrossEntropyLoss()\n",
        "            logits = logits.squeeze(1)\n",
        "            labels = labels.squeeze(1)\n",
        "            labels = labels.to(logits.device)\n",
        "\n",
        "            loss = F.binary_cross_entropy_with_logits(logits[:, 1], labels.float())\n",
        "\n",
        "            total_val_loss += loss.item()\n",
        "            _, predicted = torch.max(logits, 1)\n",
        "            val_predicted.extend(predicted.tolist())\n",
        "            val_labels.extend(labels.tolist())\n",
        "            total_val += labels.size(0)\n",
        "            correct_val += (predicted == labels).sum().item()\n",
        "\n",
        "    val_loss = total_val_loss / len(val_loader)\n",
        "    val_acc_score = accuracy_score(val_labels, val_predicted)\n",
        "\n",
        "    val_losses.append(val_loss)\n",
        "    val_accuracies.append(val_acc_score)\n",
        "\n",
        "    if val_acc_score > best_val_acc:\n",
        "\n",
        "        best_val_acc = val_acc_score\n",
        "        torch.save(model.state_dict(), 'NLP_milestone3_withoutAug_snow_model_state.pth')\n",
        "\n",
        "    print(f'Epoch {epoch + 1}/{NUM_EPOCHS}, Train Loss: {train_loss:.4f}, Train Accuracy: {train_acc_score:.4f}, Val Loss: {val_loss:.4f}, Val Accuracy: {val_acc_score:.4f}')"
      ]
    },
    {
      "cell_type": "code",
      "execution_count": null,
      "metadata": {
        "ExecuteTime": {
          "end_time": "2024-03-25T14:31:33.594107Z",
          "start_time": "2024-03-25T14:31:33.199764Z"
        },
        "id": "Eph4Af4tdW0F"
      },
      "outputs": [],
      "source": []
    },
    {
      "cell_type": "code",
      "execution_count": null,
      "metadata": {
        "ExecuteTime": {
          "end_time": "2024-03-25T14:31:45.290760Z",
          "start_time": "2024-03-25T14:31:45.042919Z"
        },
        "colab": {
          "base_uri": "https://localhost:8080/",
          "height": 927
        },
        "id": "JV372y6fdW0F",
        "outputId": "fc52ca68-9a7c-4066-91de-996b001c9576"
      },
      "outputs": [
        {
          "data": {
            "image/png": "[encoded data removed]",
            "text/plain": [
              "<Figure size 640x480 with 1 Axes>"
            ]
          },
          "metadata": {},
          "output_type": "display_data"
        },
        {
          "data": {
            "image/png": "[encoded data removed]",
            "text/plain": [
              "<Figure size 640x480 with 1 Axes>"
            ]
          },
          "metadata": {},
          "output_type": "display_data"
        }
      ],
      "source": [
        "import matplotlib.pyplot as plt\n",
        "\n",
        "plt.plot(train_losses, label='Train Loss')\n",
        "plt.plot( val_losses, label='Val Loss')\n",
        "plt.xlabel('Epoch')\n",
        "plt.ylabel('Loss')\n",
        "plt.title('Training and Validation Loss')\n",
        "plt.legend()\n",
        "plt.show()\n",
        "\n",
        "plt.plot( train_accuracies, label='Train Accuracy')\n",
        "plt.plot( val_accuracies, label='Val Accuracy')\n",
        "plt.xlabel('Epoch')\n",
        "plt.ylabel('Accuracy')\n",
        "plt.title('Training and Validation Accuracy')\n",
        "plt.legend()\n",
        "plt.show()"
      ]
    },
    {
      "cell_type": "code",
      "execution_count": null,
      "metadata": {
        "ExecuteTime": {
          "end_time": "2024-03-25T14:31:56.240551Z",
          "start_time": "2024-03-25T14:31:55.649993Z"
        },
        "id": "VSvrXpMQdW0F"
      },
      "outputs": [],
      "source": [
        "\n"
      ]
    },
    {
      "cell_type": "code",
      "execution_count": null,
      "metadata": {
        "ExecuteTime": {
          "end_time": "2024-03-25T14:32:08.251628Z",
          "start_time": "2024-03-25T14:32:08.249450Z"
        },
        "id": "f97s58srdW0F"
      },
      "outputs": [],
      "source": []
    },
    {
      "cell_type": "code",
      "execution_count": null,
      "metadata": {
        "ExecuteTime": {
          "end_time": "2024-03-25T14:32:15.161235Z",
          "start_time": "2024-03-25T14:32:10.082137Z"
        },
        "colab": {
          "base_uri": "https://localhost:8080/"
        },
        "id": "5TxbCCmVdW0F",
        "outputId": "0c2a5bec-2673-4664-ed5a-ab41bdf57d4e"
      },
      "outputs": [
        {
          "name": "stdout",
          "output_type": "stream",
          "text": [
            "Accuracy: 0.4632\n",
            "Precision: 0.2145, Recall: 0.4632, F1 Score: 0.2932\n"
          ]
        },
        {
          "name": "stderr",
          "output_type": "stream",
          "text": [
            "/usr/local/lib/python3.10/dist-packages/sklearn/metrics/_classification.py:1344: UndefinedMetricWarning: Precision is ill-defined and being set to 0.0 in labels with no predicted samples. Use `zero_division` parameter to control this behavior.\n",
            "  _warn_prf(average, modifier, msg_start, len(result))\n"
          ]
        }
      ],
      "source": [
        "from sklearn.metrics import accuracy_score, precision_score, recall_score, f1_score\n",
        "import matplotlib.pyplot as plt\n",
        "\n",
        "model.eval()\n",
        "predictions = []\n",
        "true_labels = []\n",
        "\n",
        "with torch.no_grad():\n",
        "    for batch in val_loader:\n",
        "        input_ids = batch[0]['input_ids']\n",
        "        attention_mask = batch[0]['attention_mask']\n",
        "        labels = batch[1].to(device)\n",
        "        input_ids = input_ids.squeeze(1).to(device)\n",
        "        attention_mask = attention_mask.squeeze(1).to(device)\n",
        "        outputs = model(input_ids, attention_mask=attention_mask, labels=labels)\n",
        "        _, predicted = torch.max(outputs.logits, 1)\n",
        "        predictions.extend(predicted.tolist())\n",
        "        true_labels.extend(labels.tolist())\n",
        "\n",
        "true_labels = np.array(true_labels)\n",
        "predictions = np.array(predictions)\n",
        "\n",
        "accuracy = accuracy_score(true_labels, predictions)\n",
        "print(f'Accuracy: {accuracy:.4f}')\n",
        "\n",
        "precision = precision_score(true_labels, predictions, average='weighted')\n",
        "recall = recall_score(true_labels, predictions, average='weighted')\n",
        "f1 = f1_score(true_labels, predictions, average='weighted')\n",
        "\n",
        "print(f'Precision: {precision:.4f}, Recall: {recall:.4f}, F1 Score: {f1:.4f}')\n",
        "\n",
        "labels = ['Precision', 'Recall', 'F1 Score']\n",
        "scores = [precision, recall, f1]\n"
      ]
    },
    {
      "cell_type": "code",
      "execution_count": null,
      "metadata": {
        "ExecuteTime": {
          "end_time": "2024-03-25T14:32:23.979447Z",
          "start_time": "2024-03-25T14:32:23.911503Z"
        },
        "colab": {
          "base_uri": "https://localhost:8080/",
          "height": 472
        },
        "id": "6vZ3CT7SdW0F",
        "outputId": "866f5dc2-5baa-49f0-c615-1e3a6c033e3c"
      },
      "outputs": [
        {
          "data": {
            "image/png": "[encoded data removed]",
            "text/plain": [
              "<Figure size 640x480 with 1 Axes>"
            ]
          },
          "metadata": {},
          "output_type": "display_data"
        }
      ],
      "source": [
        "\n",
        "plt.bar(labels, scores)\n",
        "plt.xlabel('Metrics')\n",
        "plt.ylabel('Scores')\n",
        "plt.title('Model Evaluation Metrics')\n",
        "plt.show()\n",
        "\n",
        "\n"
      ]
    },
    {
      "cell_type": "code",
      "execution_count": null,
      "metadata": {
        "colab": {
          "base_uri": "https://localhost:8080/"
        },
        "id": "jUb5HGGUdW0F",
        "outputId": "eb0a8aae-1a6c-4c6b-93db-4424a49e8e03"
      },
      "outputs": [
        {
          "data": {
            "text/plain": [
              "BertForSequenceClassification(\n",
              "  (bert): BertModel(\n",
              "    (embeddings): BertEmbeddings(\n",
              "      (word_embeddings): Embedding(30522, 1024, padding_idx=0)\n",
              "      (position_embeddings): Embedding(512, 1024)\n",
              "      (token_type_embeddings): Embedding(2, 1024)\n",
              "      (LayerNorm): LayerNorm((1024,), eps=1e-12, elementwise_affine=True)\n",
              "      (dropout): Dropout(p=0.1, inplace=False)\n",
              "    )\n",
              "    (encoder): BertEncoder(\n",
              "      (layer): ModuleList(\n",
              "        (0-23): 24 x BertLayer(\n",
              "          (attention): BertAttention(\n",
              "            (self): BertSelfAttention(\n",
              "              (query): Linear(in_features=1024, out_features=1024, bias=True)\n",
              "              (key): Linear(in_features=1024, out_features=1024, bias=True)\n",
              "              (value): Linear(in_features=1024, out_features=1024, bias=True)\n",
              "              (dropout): Dropout(p=0.1, inplace=False)\n",
              "            )\n",
              "            (output): BertSelfOutput(\n",
              "              (dense): Linear(in_features=1024, out_features=1024, bias=True)\n",
              "              (LayerNorm): LayerNorm((1024,), eps=1e-12, elementwise_affine=True)\n",
              "              (dropout): Dropout(p=0.1, inplace=False)\n",
              "            )\n",
              "          )\n",
              "          (intermediate): BertIntermediate(\n",
              "            (dense): Linear(in_features=1024, out_features=4096, bias=True)\n",
              "            (intermediate_act_fn): GELUActivation()\n",
              "          )\n",
              "          (output): BertOutput(\n",
              "            (dense): Linear(in_features=4096, out_features=1024, bias=True)\n",
              "            (LayerNorm): LayerNorm((1024,), eps=1e-12, elementwise_affine=True)\n",
              "            (dropout): Dropout(p=0.1, inplace=False)\n",
              "          )\n",
              "        )\n",
              "      )\n",
              "    )\n",
              "    (pooler): BertPooler(\n",
              "      (dense): Linear(in_features=1024, out_features=1024, bias=True)\n",
              "      (activation): Tanh()\n",
              "    )\n",
              "  )\n",
              "  (dropout): Dropout(p=0.1, inplace=False)\n",
              "  (classifier): Linear(in_features=1024, out_features=2, bias=True)\n",
              ")"
            ]
          },
          "execution_count": 46,
          "metadata": {},
          "output_type": "execute_result"
        }
      ],
      "source": [
        "# model.load_state_dict(torch.load('milestone2_NLP_model_state.pth'))\n",
        "\n",
        "model.eval()"
      ]
    },
    {
      "cell_type": "code",
      "execution_count": null,
      "metadata": {
        "id": "aPOb_xIhdW0G"
      },
      "outputs": [],
      "source": [
        "json_file_path = '/content/drive/MyDrive/Colab Notebooks/gold_practice_test.json'\n",
        "import json\n",
        "# Load the JSON file\n",
        "with open(json_file_path, 'r') as file:\n",
        "    gold_practice_test = json.load(file)\n"
      ]
    },
    {
      "cell_type": "code",
      "execution_count": null,
      "metadata": {
        "id": "BrxqcsqwdW0G"
      },
      "outputs": [],
      "source": [
        "def preprocess_test_data(train_data):\n",
        "    preprocessed_data = []\n",
        "\n",
        "    for data_id, data in train_data.items():\n",
        "        ctr_1 = data['Primary_id'] + '.json'\n",
        "        ctr_1f = os.path.join('/content/drive/MyDrive/Colab Notebooks/CT json', ctr_1)\n",
        "        secondaryid_exists = False\n",
        "        if 'Secondary_id' in data:\n",
        "            ctr_2 = data['Secondary_id'] + '.json'\n",
        "            ctr_2f = os.path.join('/content/drive/MyDrive/Colab Notebooks/CT json', ctr_2)\n",
        "            secondaryid_exists = True\n",
        "\n",
        "        with open(ctr_1f, 'r') as file:\n",
        "            ctr_a = json.load(file)\n",
        "            if secondaryid_exists:\n",
        "                with open(ctr_2f, 'r') as file:\n",
        "                    ctr_b = json.load(file)\n",
        "                ctr = \"CTR 1\" + \" [SEP] \".join(ctr_a[data['Section_id']]) +\"[SEP]\"+ \"CTR 2\" + \" [SEP] \".join(\n",
        "                    ctr_b[data[\"Section_id\"]]) + \"[SEP]\"+\"Data\" + \" [SEP] \" + data[\"Statement\"]\n",
        "            else:\n",
        "                ctr = \"CTR 1\" + \" [SEP] \".join(ctr_a[data['Section_id']]) + \"[SEP]\"+\"Data\" + \" [SEP] \" + data[\"Statement\"]\n",
        "        ctr = ctr.lower()\n",
        "        url_ptrn = r'http[s]?://(?:[a-zA-Z]|[0-9]|[$-_@.&+]|[!*\\\\(\\\\),]|(?:%[0-9a-fA-F][0-9a-fA-F]))+'\n",
        "\n",
        "        ctr = re.sub(url_ptrn, '', ctr)\n",
        "        ctr = re.sub(r'[^\\w\\s]', '', ctr)\n",
        "\n",
        "        inputs = tokenizer(ctr, return_tensors='pt', max_length=512, padding='max_length', truncation=True)\n",
        "        labels = torch.tensor([label_mapping[data['Label']]])\n",
        "\n",
        "        preprocessed_data.append((inputs, labels))\n",
        "\n",
        "\n",
        "    return preprocessed_data\n"
      ]
    },
    {
      "cell_type": "code",
      "execution_count": null,
      "metadata": {
        "id": "bAvSaXc1dW0G"
      },
      "outputs": [],
      "source": [
        "gold_test = preprocess_test_data(gold_practice_test)"
      ]
    },
    {
      "cell_type": "code",
      "execution_count": null,
      "metadata": {
        "colab": {
          "base_uri": "https://localhost:8080/"
        },
        "id": "PH9UKzLXdW0G",
        "outputId": "29bdcddf-ca49-48c7-d76b-e471b906f56f"
      },
      "outputs": [
        {
          "name": "stdout",
          "output_type": "stream",
          "text": [
            "BertForSequenceClassification(\n",
            "  (bert): BertModel(\n",
            "    (embeddings): BertEmbeddings(\n",
            "      (word_embeddings): Embedding(30522, 1024, padding_idx=0)\n",
            "      (position_embeddings): Embedding(512, 1024)\n",
            "      (token_type_embeddings): Embedding(2, 1024)\n",
            "      (LayerNorm): LayerNorm((1024,), eps=1e-12, elementwise_affine=True)\n",
            "      (dropout): Dropout(p=0.1, inplace=False)\n",
            "    )\n",
            "    (encoder): BertEncoder(\n",
            "      (layer): ModuleList(\n",
            "        (0-23): 24 x BertLayer(\n",
            "          (attention): BertAttention(\n",
            "            (self): BertSelfAttention(\n",
            "              (query): Linear(in_features=1024, out_features=1024, bias=True)\n",
            "              (key): Linear(in_features=1024, out_features=1024, bias=True)\n",
            "              (value): Linear(in_features=1024, out_features=1024, bias=True)\n",
            "              (dropout): Dropout(p=0.1, inplace=False)\n",
            "            )\n",
            "            (output): BertSelfOutput(\n",
            "              (dense): Linear(in_features=1024, out_features=1024, bias=True)\n",
            "              (LayerNorm): LayerNorm((1024,), eps=1e-12, elementwise_affine=True)\n",
            "              (dropout): Dropout(p=0.1, inplace=False)\n",
            "            )\n",
            "          )\n",
            "          (intermediate): BertIntermediate(\n",
            "            (dense): Linear(in_features=1024, out_features=4096, bias=True)\n",
            "            (intermediate_act_fn): GELUActivation()\n",
            "          )\n",
            "          (output): BertOutput(\n",
            "            (dense): Linear(in_features=4096, out_features=1024, bias=True)\n",
            "            (LayerNorm): LayerNorm((1024,), eps=1e-12, elementwise_affine=True)\n",
            "            (dropout): Dropout(p=0.1, inplace=False)\n",
            "          )\n",
            "        )\n",
            "      )\n",
            "    )\n",
            "    (pooler): BertPooler(\n",
            "      (dense): Linear(in_features=1024, out_features=1024, bias=True)\n",
            "      (activation): Tanh()\n",
            "    )\n",
            "  )\n",
            "  (dropout): Dropout(p=0.1, inplace=False)\n",
            "  (classifier): Linear(in_features=1024, out_features=2, bias=True)\n",
            ")\n"
          ]
        }
      ],
      "source": [
        "print(model)"
      ]
    },
    {
      "cell_type": "code",
      "execution_count": null,
      "metadata": {
        "id": "QvqXlcT8dW0G"
      },
      "outputs": [],
      "source": [
        "from torch.utils.data import DataLoader\n",
        "\n",
        "batch_size = 64\n",
        "gold_test_loader = DataLoader(gold_test, batch_size=batch_size)"
      ]
    },
    {
      "cell_type": "code",
      "execution_count": null,
      "metadata": {
        "id": "pG8UftyBdW0G"
      },
      "outputs": [],
      "source": []
    },
    {
      "cell_type": "code",
      "execution_count": null,
      "metadata": {
        "id": "g0RIi1NsdW0G"
      },
      "outputs": [],
      "source": [
        "from sklearn.metrics import accuracy_score, precision_score, recall_score, f1_score\n",
        "import matplotlib.pyplot as plt\n",
        "\n",
        "model.eval()\n",
        "predictions = []\n",
        "true_labels = []\n",
        "\n",
        "with torch.no_grad():\n",
        "    for batch in gold_test_loader:\n",
        "        input_ids = batch[0]['input_ids']\n",
        "        attention_mask = batch[0]['attention_mask']\n",
        "        labels = batch[1].to(device)\n",
        "        input_ids = input_ids.squeeze(1).to(device)\n",
        "        attention_mask = attention_mask.squeeze(1).to(device)\n",
        "        outputs = model(input_ids, attention_mask=attention_mask, labels=labels)\n",
        "        _, predicted = torch.max(outputs.logits, 1)\n",
        "        predictions.extend(predicted.tolist())\n",
        "        true_labels.extend(labels.tolist())\n"
      ]
    },
    {
      "cell_type": "code",
      "execution_count": null,
      "metadata": {
        "colab": {
          "base_uri": "https://localhost:8080/"
        },
        "id": "MDGiYuredW0G",
        "outputId": "66a3ffd5-ee50-420d-dc50-8a9be2e1b78c"
      },
      "outputs": [
        {
          "name": "stdout",
          "output_type": "stream",
          "text": [
            "Accuracy: 0.3422\n",
            "Precision: 0.5871, Recall: 0.3422, F1 Score: 0.1778\n"
          ]
        }
      ],
      "source": [
        "import numpy as np\n",
        "\n",
        "true_labels = np.array(true_labels)\n",
        "predictions = np.array(predictions)\n",
        "\n",
        "accuracy = accuracy_score(true_labels, predictions)\n",
        "print(f'Accuracy: {accuracy:.4f}')\n",
        "\n",
        "precision = precision_score(true_labels, predictions, average='weighted')\n",
        "recall = recall_score(true_labels, predictions, average='weighted')\n",
        "f1 = f1_score(true_labels, predictions, average='weighted')\n",
        "\n",
        "print(f'Precision: {precision:.4f}, Recall: {recall:.4f}, F1 Score: {f1:.4f}')\n",
        "\n",
        "labels = ['Precision', 'Recall', 'F1 Score']\n",
        "scores = [precision, recall, f1]\n"
      ]
    },
    {
      "cell_type": "code",
      "execution_count": null,
      "metadata": {
        "id": "LMfp2P8FdW0G"
      },
      "outputs": [],
      "source": [
        "if len(true_labels) != len(predictions):\n",
        "        raise ValueError(\"The lists of predictions must have the same length.\")\n",
        "faithfulness = sum(abs(o - c) for o, c in zip(true_labels, predictions)) / len(true_labels)"
      ]
    },
    {
      "cell_type": "code",
      "execution_count": null,
      "metadata": {
        "colab": {
          "base_uri": "https://localhost:8080/"
        },
        "id": "ft4IR19NdW0G",
        "outputId": "52dc889b-4e00-4860-e245-f4e77418fd38"
      },
      "outputs": [
        {
          "name": "stdout",
          "output_type": "stream",
          "text": [
            "[0.65779645]\n"
          ]
        }
      ],
      "source": [
        "print(faithfulness)"
      ]
    },
    {
      "cell_type": "code",
      "execution_count": null,
      "metadata": {
        "id": "HI-sbchXdW0T"
      },
      "outputs": [],
      "source": [
        "if len(true_labels) != len(predictions):\n",
        "        raise ValueError(\"The lists of predictions must have the same length.\")\n",
        "consistency = sum(1-abs(o - c) for o, c in zip(true_labels, predictions)) / len(true_labels)"
      ]
    },
    {
      "cell_type": "code",
      "execution_count": null,
      "metadata": {
        "colab": {
          "base_uri": "https://localhost:8080/"
        },
        "id": "4BX78oaHdW0T",
        "outputId": "a5f4ff9e-3736-4ea7-899e-8ec5e001d9e2"
      },
      "outputs": [
        {
          "name": "stdout",
          "output_type": "stream",
          "text": [
            "[0.34220355]\n"
          ]
        }
      ],
      "source": [
        "print(consistency)"
      ]
    },
    {
      "cell_type": "code",
      "execution_count": null,
      "metadata": {
        "id": "5Mj82TywdW0T"
      },
      "outputs": [],
      "source": [
        "json_file_path = '/content/drive/MyDrive/Colab Notebooks/test.json'\n",
        "import json\n",
        "with open(json_file_path, 'r') as file:\n",
        "    test_data = json.load(file)\n",
        "\n"
      ]
    },
    {
      "cell_type": "code",
      "execution_count": null,
      "metadata": {
        "id": "yyZRTXqWdW0T"
      },
      "outputs": [],
      "source": [
        "import json\n",
        "\n",
        "test_preprocessed_data = []\n",
        "data_ids = [] \n",
        "for data_id, data in test_data.items():\n",
        "    ctr_1 = data['Primary_id'] + '.json'\n",
        "    ctr_1f = os.path.join('/content/drive/MyDrive/Colab Notebooks/CT json', ctr_1)\n",
        "    secondaryid_exists = False\n",
        "    if 'Secondary_id' in data:\n",
        "        ctr_2 = data['Secondary_id'] + '.json'\n",
        "        ctr_2f = os.path.join('/content/drive/MyDrive/Colab Notebooks/CT json', ctr_2)\n",
        "        secondaryid_exists = True\n",
        "\n",
        "    with open(ctr_1f, 'r') as file:\n",
        "        ctr_a = json.load(file)\n",
        "        if secondaryid_exists:\n",
        "            with open(ctr_2f, 'r') as file:\n",
        "                ctr_b = json.load(file)\n",
        "            ctr = \" \".join(ctr_a[data['Section_id']]) + \" [SEP] \" + \\\n",
        "                  \" \".join(ctr_b[data[\"Section_id\"]]) + \" [SEP] \" + data[\"Statement\"]\n",
        "        else:\n",
        "            ctr = \" \".join(ctr_a[data['Section_id']]) + \" [SEP] \" + data[\"Statement\"]\n",
        "\n",
        "    ctr = ctr.lower()\n",
        "    url_ptrn = r'http[s]?://(?:[a-zA-Z]|[0-9]|[$-_@.&+]|[!*\\\\(\\\\),]|(?:%[0-9a-fA-F][0-9a-fA-F]))+'\n",
        "    ctr = re.sub(url_ptrn, '', ctr)\n",
        "    ctr = re.sub(r'[^\\w\\s]', '', ctr)\n",
        "\n",
        "    inputs = tokenizer(ctr, return_tensors='pt', max_length=512, padding='max_length', truncation=True)\n",
        "\n",
        "    test_preprocessed_data.append(inputs)\n",
        "    data_ids.append(data_id) \n"
      ]
    },
    {
      "cell_type": "code",
      "execution_count": null,
      "metadata": {
        "id": "WiJw2RP0dW0T"
      },
      "outputs": [],
      "source": [
        "from torch.utils.data import DataLoader\n",
        "\n",
        "batch_size = 64\n",
        "test_loader = DataLoader(test_preprocessed_data, batch_size=batch_size)"
      ]
    },
    {
      "cell_type": "code",
      "execution_count": null,
      "metadata": {
        "id": "LFMVSlmGdW0T"
      },
      "outputs": [],
      "source": [
        "\n",
        "model.eval()\n",
        "predictions = []\n",
        "\n",
        "with torch.no_grad():\n",
        "    for batch in test_loader:  \n",
        "        input_ids = batch['input_ids']\n",
        "        attention_mask = batch['attention_mask']\n",
        "        input_ids = input_ids.squeeze(1).to(device)\n",
        "        attention_mask = attention_mask.squeeze(1).to(device)\n",
        "        outputs = model(input_ids, attention_mask=attention_mask)\n",
        "        _, predicted = torch.max(outputs.logits, 1)\n",
        "        predictions.extend(predicted.tolist())\n"
      ]
    },
    {
      "cell_type": "code",
      "execution_count": null,
      "metadata": {
        "colab": {
          "base_uri": "https://localhost:8080/"
        },
        "id": "fVVY1umYdW0T",
        "outputId": "eb54b09c-83cf-428e-81cf-3fb0fda8a7b3"
      },
      "outputs": [
        {
          "name": "stdout",
          "output_type": "stream",
          "text": [
            "Predictions saved to: /content/drive/MyDrive/Colab Notebooks/BertLargepredictions_2.json\n"
          ]
        }
      ],
      "source": [
        "\n",
        "predictions_dict = {}\n",
        "for data_id, prediction in zip(data_ids, predictions):\n",
        "    prediction_label = \"Contradiction\" if prediction == 0 else \"Entailment\"\n",
        "    predictions_dict[data_id] = {\"Prediction\": prediction_label}\n",
        "\n",
        "output_file_path = \"/content/drive/MyDrive/Colab Notebooks/BertLargepredictions_2.json\"\n",
        "with open(output_file_path, \"w\") as f:\n",
        "    json.dump(predictions_dict, f, indent=4)\n",
        "\n",
        "print(\"Predictions saved to:\", output_file_path)\n"
      ]
    }
  ],
  "metadata": {
    "accelerator": "GPU",
    "colab": {
      "gpuType": "L4",
      "machine_shape": "hm",
      "provenance": []
    },
    "kernelspec": {
      "display_name": "Python 3",
      "name": "python3"
    },
    "language_info": {
      "codemirror_mode": {
        "name": "ipython",
        "version": 3
      },
      "file_extension": ".py",
      "mimetype": "text/x-python",
      "name": "python",
      "nbconvert_exporter": "python",
      "pygments_lexer": "ipython3",
      "version": "3.11.5"
    }
  },
  "nbformat": 4,
  "nbformat_minor": 0
}
