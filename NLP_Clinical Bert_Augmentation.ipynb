{
  "cells": [
    {
      "cell_type": "code",
      "execution_count": 1,
      "metadata": {
        "colab": {
          "base_uri": "https://localhost:8080/"
        },
        "id": "F8AikVeadayd",
        "outputId": "c0a3c2f5-79ce-4a55-fca1-115e57db6501"
      },
      "outputs": [
        {
          "name": "stdout",
          "output_type": "stream",
          "text": [
            "Drive already mounted at /content/drive; to attempt to forcibly remount, call drive.mount(\"/content/drive\", force_remount=True).\n"
          ]
        }
      ],
      "source": [
        "from google.colab import drive\n",
        "drive.mount('/content/drive')"
      ]
    },
    {
      "cell_type": "code",
      "execution_count": 2,
      "metadata": {
        "ExecuteTime": {
          "end_time": "2024-03-25T12:44:28.900350Z",
          "start_time": "2024-03-25T12:44:28.892923Z"
        },
        "id": "mwbaGfWidWz_"
      },
      "outputs": [],
      "source": [
        "json_file_path = '/content/drive/MyDrive/Colab Notebooks/train.json'\n",
        "import json\n",
        "with open(json_file_path, 'r') as file:\n",
        "    train_data = json.load(file)\n"
      ]
    },
    {
      "cell_type": "code",
      "execution_count": 3,
      "metadata": {
        "colab": {
          "base_uri": "https://localhost:8080/"
        },
        "id": "fAlDwkbKdW0B",
        "outputId": "96f30411-20cf-42ec-80cf-a66f73ca6316"
      },
      "outputs": [
        {
          "name": "stderr",
          "output_type": "stream",
          "text": [
            "/usr/local/lib/python3.10/dist-packages/huggingface_hub/utils/_token.py:88: UserWarning: \n",
            "The secret `HF_TOKEN` does not exist in your Colab secrets.\n",
            "To authenticate with the Hugging Face Hub, create a token in your settings tab (https://huggingface.co/settings/tokens), set it as secret in your Google Colab and restart your session.\n",
            "You will be able to reuse this secret in all of your notebooks.\n",
            "Please note that authentication is recommended but still optional to access public models or datasets.\n",
            "  warnings.warn(\n"
          ]
        }
      ],
      "source": [
        "import torch\n",
        "from transformers import BertTokenizer, BertModel\n",
        "\n",
        "# Load pre-trained Clinical BERT tokenizer and model\n",
        "tokenizer = BertTokenizer.from_pretrained('emilyalsentzer/Bio_ClinicalBERT')\n",
        "clinical_bert_model = BertModel.from_pretrained('emilyalsentzer/Bio_ClinicalBERT')\n"
      ]
    },
    {
      "cell_type": "code",
      "execution_count": 4,
      "metadata": {
        "colab": {
          "base_uri": "https://localhost:8080/"
        },
        "id": "JyOwkKzodW0C",
        "outputId": "4675a4a0-fd93-48f9-b150-41723cd058a5"
      },
      "outputs": [
        {
          "name": "stdout",
          "output_type": "stream",
          "text": [
            "BertModel(\n",
            "  (embeddings): BertEmbeddings(\n",
            "    (word_embeddings): Embedding(28996, 768, padding_idx=0)\n",
            "    (position_embeddings): Embedding(512, 768)\n",
            "    (token_type_embeddings): Embedding(2, 768)\n",
            "    (LayerNorm): LayerNorm((768,), eps=1e-12, elementwise_affine=True)\n",
            "    (dropout): Dropout(p=0.1, inplace=False)\n",
            "  )\n",
            "  (encoder): BertEncoder(\n",
            "    (layer): ModuleList(\n",
            "      (0-11): 12 x BertLayer(\n",
            "        (attention): BertAttention(\n",
            "          (self): BertSelfAttention(\n",
            "            (query): Linear(in_features=768, out_features=768, bias=True)\n",
            "            (key): Linear(in_features=768, out_features=768, bias=True)\n",
            "            (value): Linear(in_features=768, out_features=768, bias=True)\n",
            "            (dropout): Dropout(p=0.1, inplace=False)\n",
            "          )\n",
            "          (output): BertSelfOutput(\n",
            "            (dense): Linear(in_features=768, out_features=768, bias=True)\n",
            "            (LayerNorm): LayerNorm((768,), eps=1e-12, elementwise_affine=True)\n",
            "            (dropout): Dropout(p=0.1, inplace=False)\n",
            "          )\n",
            "        )\n",
            "        (intermediate): BertIntermediate(\n",
            "          (dense): Linear(in_features=768, out_features=3072, bias=True)\n",
            "          (intermediate_act_fn): GELUActivation()\n",
            "        )\n",
            "        (output): BertOutput(\n",
            "          (dense): Linear(in_features=3072, out_features=768, bias=True)\n",
            "          (LayerNorm): LayerNorm((768,), eps=1e-12, elementwise_affine=True)\n",
            "          (dropout): Dropout(p=0.1, inplace=False)\n",
            "        )\n",
            "      )\n",
            "    )\n",
            "  )\n",
            "  (pooler): BertPooler(\n",
            "    (dense): Linear(in_features=768, out_features=768, bias=True)\n",
            "    (activation): Tanh()\n",
            "  )\n",
            ")\n"
          ]
        }
      ],
      "source": [
        "print(clinical_bert_model)"
      ]
    },
    {
      "cell_type": "code",
      "execution_count": 4,
      "metadata": {
        "ExecuteTime": {
          "end_time": "2024-03-25T12:44:33.350766Z",
          "start_time": "2024-03-25T12:44:33.348680Z"
        },
        "id": "NSQcLREYdW0C"
      },
      "outputs": [],
      "source": [
        "label_mapping = {\n",
        "    'Entailment': 1,\n",
        "    'Contradiction': 0\n",
        "}"
      ]
    },
    {
      "cell_type": "code",
      "execution_count": 5,
      "metadata": {
        "colab": {
          "base_uri": "https://localhost:8080/"
        },
        "id": "WcRHx_HqdW0D",
        "outputId": "82c89ffb-4566-49a9-eba8-66f4ddf8a68f"
      },
      "outputs": [
        {
          "name": "stderr",
          "output_type": "stream",
          "text": [
            "[nltk_data] Downloading package wordnet to /root/nltk_data...\n"
          ]
        }
      ],
      "source": [
        "import json\n",
        "import os\n",
        "import re\n",
        "import random\n",
        "from torch.utils.data import DataLoader\n",
        "import nltk\n",
        "from nltk.corpus import wordnet\n",
        "import random\n",
        "import medspacy\n",
        "from medspacy.ner import TargetRule\n",
        "\n",
        "nltk.download('wordnet')\n",
        "\n",
        "ctr_json_folder = '/content/drive/MyDrive/Colab Notebooks/CT json' \n",
        "\n",
        "nlp = medspacy.load()\n",
        "\n",
        "def medical_synonym_replacement(sentence, n=2):\n",
        "    doc = nlp(sentence)\n",
        "    new_words = sentence.split()\n",
        "    random_word_list = [ent.text for ent in doc.ents if ent._.umls_ents]\n",
        "    random.shuffle(random_word_list)\n",
        "    num_replaced = 0\n",
        "    for random_word in random_word_list:\n",
        "        synonyms = random_word._.umls_ents[0].concept.synonyms\n",
        "        if synonyms and len(synonyms) > 1:\n",
        "            synonym = random.choice(synonyms)\n",
        "            new_words = [synonym if word == random_word else word for word in new_words]\n",
        "            num_replaced += 1\n",
        "        if num_replaced >= n:\n",
        "            break\n",
        "\n",
        "    sentence = ' '.join(new_words)\n",
        "    return sentence\n",
        "\n",
        "\n",
        "def preprocess_data(train_data):\n",
        "    preprocessed_data = []\n",
        "    augmented_data = []  \n",
        "    for data_id, data in train_data.items():\n",
        "        ctr_1 = data['Primary_id'] + '.json'\n",
        "        ctr_1f = os.path.join(ctr_json_folder, ctr_1)\n",
        "        secondaryid_exists = False\n",
        "        if 'Secondary_id' in data:\n",
        "            ctr_2 = data['Secondary_id'] + '.json'\n",
        "            ctr_2f = os.path.join(ctr_json_folder, ctr_2)\n",
        "            secondaryid_exists = True\n",
        "\n",
        "        with open(ctr_1f, 'r') as file:\n",
        "            ctr_a = json.load(file)\n",
        "            if secondaryid_exists:\n",
        "                with open(ctr_2f, 'r') as file:\n",
        "                    ctr_b = json.load(file)\n",
        "                ctr = \"Compare CTR 1\" + \" [SEP] \".join(ctr_a[data['Section_id']])  + \"[SEP]\"+ \"and CTR 2\" + \" [SEP] \".join(\n",
        "                    ctr_b[data[\"Section_id\"]]) + \"to determine if the given statement\" + \" [SEP] \" + data[\"Statement\"] +\"[SEP]\"+\"is true\"\n",
        "            else:\n",
        "                ctr = \"Analyze CTR 1\" + \" [SEP] \".join(ctr_a[data['Section_id']]) + \"[SEP]\"+\" To determine if the given Statement\" + \" [SEP] \" + data[\"Statement\"]+\"[SEP]\"+\"is true\"\n",
        "        ctr = ctr.lower()\n",
        "        url_ptrn = r'http[s]?://(?:[a-zA-Z]|[0-9]|[$-_@.&+]|[!*\\\\(\\\\),]|(?:%[0-9a-fA-F][0-9a-fA-F]))+'\n",
        "\n",
        "        ctr = re.sub(url_ptrn, '', ctr)\n",
        "        ctr = re.sub(r'[^\\w\\s]', '', ctr)\n",
        "\n",
        "        augmented_statement = medical_synonym_replacement(ctr)\n",
        "        augmented_inputs = tokenizer(augmented_statement, return_tensors='pt', max_length=512, padding='max_length', truncation=True)\n",
        "\n",
        "        inputs = tokenizer(ctr, return_tensors='pt', max_length=512, padding='max_length', truncation=True)\n",
        "        labels = torch.tensor([label_mapping[data['Label']]])\n",
        "\n",
        "        preprocessed_data.append((inputs, labels))\n",
        "        preprocessed_data.append((augmented_inputs, labels))\n",
        "\n",
        "\n",
        "    return preprocessed_data\n"
      ]
    },
    {
      "cell_type": "code",
      "execution_count": 6,
      "metadata": {
        "id": "JE5kSeNSdW0D"
      },
      "outputs": [],
      "source": [
        "\n",
        "\n",
        "preprocessed_data = preprocess_data(train_data)\n",
        "\n"
      ]
    },
    {
      "cell_type": "code",
      "execution_count": 10,
      "metadata": {
        "id": "F8MPmIFUilYl"
      },
      "outputs": [],
      "source": [
        "import pickle\n",
        "with open('preprocessed_data.pkl', 'wb') as f:\n",
        "    pickle.dump(preprocessed_data, f)"
      ]
    },
    {
      "cell_type": "code",
      "execution_count": 11,
      "metadata": {
        "colab": {
          "base_uri": "https://localhost:8080/"
        },
        "id": "X5yBjTvIdW0D",
        "outputId": "0bea3cb9-d56b-413b-d480-d8bc856654e9"
      },
      "outputs": [
        {
          "name": "stdout",
          "output_type": "stream",
          "text": [
            "3400\n"
          ]
        }
      ],
      "source": [
        "print(len(preprocessed_data))"
      ]
    },
    {
      "cell_type": "code",
      "execution_count": 12,
      "metadata": {
        "id": "UPq0TnY_dW0D"
      },
      "outputs": [],
      "source": [
        "import json\n",
        "with open('/content/drive/MyDrive/Colab Notebooks/dev.json', 'r') as file:\n",
        "    dev_data = json.load(file)\n",
        "\n",
        "\n",
        "dev_preprocessed_data = preprocess_data(dev_data)"
      ]
    },
    {
      "cell_type": "code",
      "execution_count": 13,
      "metadata": {
        "id": "_L59z3-WkKr3"
      },
      "outputs": [],
      "source": [
        "import pickle\n",
        "with open('dev_preprocessed_data.pkl', 'wb') as f:\n",
        "    pickle.dump(dev_preprocessed_data, f)"
      ]
    },
    {
      "cell_type": "code",
      "execution_count": 14,
      "metadata": {
        "id": "mBplH-G8dW0D"
      },
      "outputs": [],
      "source": [
        "import numpy as np\n",
        "\n",
        "\n",
        "data = preprocessed_data + dev_preprocessed_data\n",
        "data = list(data)\n",
        "val_size = int(len(data) * 0.15)\n",
        "\n",
        "np.random.shuffle(data)\n",
        "\n",
        "val_data = data[:val_size]\n",
        "train_data = data[val_size:]\n"
      ]
    },
    {
      "cell_type": "code",
      "execution_count": 15,
      "metadata": {
        "id": "FYzEdLvQdW0E"
      },
      "outputs": [],
      "source": [
        "from torch.utils.data import DataLoader\n",
        "\n",
        "batch_size = 64\n",
        "train_loader = DataLoader(train_data, batch_size=batch_size)\n",
        "val_loader = DataLoader(val_data, batch_size=batch_size)"
      ]
    },
    {
      "cell_type": "code",
      "execution_count": 16,
      "metadata": {
        "ExecuteTime": {
          "end_time": "2024-03-25T12:45:37.137943Z",
          "start_time": "2024-03-25T12:45:37.135875Z"
        },
        "id": "WgiUCXgHdW0E"
      },
      "outputs": [],
      "source": [
        "for param in list(clinical_bert_model.parameters())[:-3]:\n",
        "    param.requires_grad = False"
      ]
    },
    {
      "cell_type": "code",
      "execution_count": 17,
      "metadata": {
        "id": "TFmlQ_kXdW0E"
      },
      "outputs": [],
      "source": [
        "import torch\n",
        "import torch.nn as nn\n",
        "import torch.optim as optim\n",
        "from torch.utils.data import DataLoader, TensorDataset\n",
        "import numpy as np\n",
        "import matplotlib.pyplot as plt\n",
        "from sklearn.metrics import confusion_matrix, classification_report"
      ]
    },
    {
      "cell_type": "code",
      "execution_count": 20,
      "metadata": {
        "ExecuteTime": {
          "end_time": "2024-03-25T14:15:26.365678Z",
          "start_time": "2024-03-25T12:46:04.369754Z"
        },
        "colab": {
          "base_uri": "https://localhost:8080/"
        },
        "id": "g3bKniqRdW0E",
        "outputId": "3766946c-fb08-47c0-eda6-d4868802572e"
      },
      "outputs": [
        {
          "name": "stdout",
          "output_type": "stream",
          "text": [
            "Epoch 1/20, Train Loss: 0.7000, Train Accuracy: 0.4988, Val Loss: 0.6962, Val Accuracy: 0.4772\n",
            "Epoch 2/20, Train Loss: 0.6947, Train Accuracy: 0.4988, Val Loss: 0.6995, Val Accuracy: 0.4789\n",
            "Epoch 3/20, Train Loss: 0.6946, Train Accuracy: 0.5031, Val Loss: 0.6998, Val Accuracy: 0.4789\n",
            "Epoch 4/20, Train Loss: 0.6940, Train Accuracy: 0.5040, Val Loss: 0.7008, Val Accuracy: 0.4789\n",
            "Epoch 5/20, Train Loss: 0.6929, Train Accuracy: 0.5093, Val Loss: 0.7037, Val Accuracy: 0.4719\n",
            "Epoch 6/20, Train Loss: 0.6930, Train Accuracy: 0.5108, Val Loss: 0.7028, Val Accuracy: 0.4719\n",
            "Epoch 7/20, Train Loss: 0.6934, Train Accuracy: 0.5139, Val Loss: 0.7042, Val Accuracy: 0.4754\n",
            "Epoch 8/20, Train Loss: 0.6929, Train Accuracy: 0.5155, Val Loss: 0.7025, Val Accuracy: 0.4754\n",
            "Epoch 9/20, Train Loss: 0.6926, Train Accuracy: 0.5121, Val Loss: 0.7045, Val Accuracy: 0.4649\n",
            "Epoch 10/20, Train Loss: 0.6930, Train Accuracy: 0.5118, Val Loss: 0.7033, Val Accuracy: 0.4754\n",
            "Epoch 11/20, Train Loss: 0.6918, Train Accuracy: 0.5180, Val Loss: 0.7057, Val Accuracy: 0.4667\n",
            "Epoch 12/20, Train Loss: 0.6921, Train Accuracy: 0.5189, Val Loss: 0.7053, Val Accuracy: 0.4719\n",
            "Epoch 13/20, Train Loss: 0.6923, Train Accuracy: 0.5173, Val Loss: 0.7045, Val Accuracy: 0.4702\n",
            "Epoch 14/20, Train Loss: 0.6922, Train Accuracy: 0.5161, Val Loss: 0.7059, Val Accuracy: 0.4667\n",
            "Epoch 15/20, Train Loss: 0.6910, Train Accuracy: 0.5164, Val Loss: 0.7059, Val Accuracy: 0.4667\n",
            "Epoch 16/20, Train Loss: 0.6904, Train Accuracy: 0.5152, Val Loss: 0.7072, Val Accuracy: 0.4667\n",
            "Epoch 17/20, Train Loss: 0.6906, Train Accuracy: 0.5245, Val Loss: 0.7076, Val Accuracy: 0.4684\n",
            "Epoch 18/20, Train Loss: 0.6899, Train Accuracy: 0.5164, Val Loss: 0.7098, Val Accuracy: 0.4632\n",
            "Epoch 19/20, Train Loss: 0.6909, Train Accuracy: 0.5130, Val Loss: 0.7092, Val Accuracy: 0.4649\n",
            "Epoch 20/20, Train Loss: 0.6887, Train Accuracy: 0.5235, Val Loss: 0.7108, Val Accuracy: 0.4667\n"
          ]
        }
      ],
      "source": [
        "import torch.nn.functional as F\n",
        "\n",
        "\n",
        "class CustomClassifier(nn.Module):\n",
        "    def __init__(self, bert_model, num_classes):\n",
        "        super().__init__()\n",
        "        self.bert = bert_model\n",
        "        self.classifier = nn.Linear(768, num_classes)  \n",
        "\n",
        "    def forward(self, input_ids, attention_mask, labels=None):\n",
        "        outputs = self.bert(input_ids, attention_mask=attention_mask)\n",
        "        pooled_output = outputs.pooler_output  \n",
        "\n",
        "        logits = self.classifier(pooled_output)\n",
        "        return logits\n",
        "\n",
        "num_classes = 2  \n",
        "model = CustomClassifier(clinical_bert_model, num_classes)\n",
        "\n",
        "optimizer = torch.optim.AdamW(model.parameters(), lr=1e-4)\n",
        "from sklearn.metrics import accuracy_score\n",
        "\n",
        "\n",
        "device = torch.device('cuda')\n",
        "\n",
        "model.to(device)\n",
        "\n",
        "\n",
        "train_losses = []\n",
        "val_losses = []\n",
        "train_accuracies = []\n",
        "val_accuracies = []\n",
        "NUM_EPOCHS=20\n",
        "best_val_acc = float('-inf')\n",
        "\n",
        "\n",
        "for epoch in range(NUM_EPOCHS):\n",
        "    model.train()\n",
        "    total_train_loss = 0.0\n",
        "    correct_train = 0\n",
        "    total_train = 0\n",
        "    train_predicted = []\n",
        "    train_labels = []\n",
        "    for batch in train_loader:\n",
        "        input_ids = batch[0]['input_ids']\n",
        "        attention_mask = batch[0]['attention_mask']\n",
        "\n",
        "        labels = batch[1]\n",
        "        labels.to(device)\n",
        "        input_ids = input_ids.squeeze(1).to(device)\n",
        "        attention_mask = attention_mask.squeeze(1).to(device)\n",
        "        optimizer.zero_grad()\n",
        "        logits = model(input_ids, attention_mask).to(device)\n",
        "        loss_fn = nn.CrossEntropyLoss()\n",
        "        logits = logits.squeeze(1)\n",
        "        labels = labels.squeeze(1)\n",
        "\n",
        "        labels = labels.to(logits.device)\n",
        "\n",
        "        loss = F.binary_cross_entropy_with_logits(logits[:, 1], labels.float())\n",
        "\n",
        "        loss.backward()\n",
        "\n",
        "        total_train_loss += loss.item()\n",
        "\n",
        "        optimizer.step()\n",
        "        _, predicted = torch.max(logits, 1)\n",
        "        train_predicted.extend(predicted.tolist())\n",
        "        train_labels.extend(labels.tolist())\n",
        "        total_train += labels.size(0)\n",
        "        correct_train += (predicted == labels).sum().item()\n",
        "\n",
        "\n",
        "    train_loss = total_train_loss / len(train_loader)\n",
        "    train_acc_score = accuracy_score(train_labels, train_predicted)\n",
        "\n",
        "    train_losses.append(train_loss)\n",
        "    train_accuracies.append(train_acc_score)\n",
        "\n",
        "\n",
        "    # Validation\n",
        "    model.eval()\n",
        "    total_val_loss = 0.0\n",
        "    correct_val = 0\n",
        "    total_val = 0\n",
        "    val_predicted = []\n",
        "    val_labels = []\n",
        "\n",
        "    with torch.no_grad():\n",
        "        for batch in val_loader:\n",
        "            input_ids = batch[0]['input_ids']\n",
        "            attention_mask = batch[0]['attention_mask']\n",
        "\n",
        "            labels = batch[1]\n",
        "            labels.to(device)\n",
        "            input_ids = input_ids.squeeze(1).to(device)\n",
        "            attention_mask = attention_mask.squeeze(1).to(device)\n",
        "            optimizer.zero_grad()\n",
        "            logits = model(input_ids, attention_mask).to(device)\n",
        "            loss_fn = nn.CrossEntropyLoss()\n",
        "            logits = logits.squeeze(1)\n",
        "            labels = labels.squeeze(1)\n",
        "\n",
        "            labels = labels.to(logits.device)\n",
        "\n",
        "            loss = F.binary_cross_entropy_with_logits(logits[:, 1], labels.float())\n",
        "\n",
        "            total_val_loss += loss.item()\n",
        "            _, predicted = torch.max(logits, 1)\n",
        "            val_predicted.extend(predicted.tolist())\n",
        "            val_labels.extend(labels.tolist())\n",
        "            total_val += labels.size(0)\n",
        "            correct_val += (predicted == labels).sum().item()\n",
        "\n",
        "    val_loss = total_val_loss / len(val_loader)\n",
        "    val_acc_score = accuracy_score(val_labels, val_predicted)\n",
        "\n",
        "    val_losses.append(val_loss)\n",
        "    val_accuracies.append(val_acc_score)\n",
        "\n",
        "    if val_acc_score > best_val_acc:\n",
        "        best_val_acc = val_acc_score\n",
        "        torch.save(model.state_dict(), 'NLP_milestone3_snow_model_state.pth')\n",
        "\n",
        "    print(f'Epoch {epoch + 1}/{NUM_EPOCHS}, Train Loss: {train_loss:.4f}, Train Accuracy: {train_acc_score:.4f}, Val Loss: {val_loss:.4f}, Val Accuracy: {val_acc_score:.4f}')"
      ]
    },
    {
      "cell_type": "code",
      "execution_count": null,
      "metadata": {
        "ExecuteTime": {
          "end_time": "2024-03-25T14:31:33.594107Z",
          "start_time": "2024-03-25T14:31:33.199764Z"
        },
        "id": "Eph4Af4tdW0F"
      },
      "outputs": [],
      "source": []
    },
    {
      "cell_type": "code",
      "execution_count": 21,
      "metadata": {
        "ExecuteTime": {
          "end_time": "2024-03-25T14:31:45.290760Z",
          "start_time": "2024-03-25T14:31:45.042919Z"
        },
        "colab": {
          "base_uri": "https://localhost:8080/",
          "height": 927
        },
        "id": "JV372y6fdW0F",
        "outputId": "d15ffb6b-6292-4c23-d532-db4a87702b6a"
      },
      "outputs": [
        {
          "data": {
            "image/png": "[encoded data removed]",
            "text/plain": [
              "<Figure size 640x480 with 1 Axes>"
            ]
          },
          "metadata": {},
          "output_type": "display_data"
        },
        {
          "data": {
            "image/png": "[encoded data removed]",
            "text/plain": [
              "<Figure size 640x480 with 1 Axes>"
            ]
          },
          "metadata": {},
          "output_type": "display_data"
        }
      ],
      "source": [
        "import matplotlib.pyplot as plt\n",
        "\n",
        "plt.plot(train_losses, label='Train Loss')\n",
        "plt.plot( val_losses, label='Val Loss')\n",
        "plt.xlabel('Epoch')\n",
        "plt.ylabel('Loss')\n",
        "plt.title('Training and Validation Loss')\n",
        "plt.legend()\n",
        "plt.show()\n",
        "\n",
        "plt.plot( train_accuracies, label='Train Accuracy')\n",
        "plt.plot( val_accuracies, label='Val Accuracy')\n",
        "plt.xlabel('Epoch')\n",
        "plt.ylabel('Accuracy')\n",
        "plt.title('Training and Validation Accuracy')\n",
        "plt.legend()\n",
        "plt.show()"
      ]
    },
    {
      "cell_type": "code",
      "execution_count": null,
      "metadata": {
        "ExecuteTime": {
          "end_time": "2024-03-25T14:31:56.240551Z",
          "start_time": "2024-03-25T14:31:55.649993Z"
        },
        "id": "VSvrXpMQdW0F"
      },
      "outputs": [],
      "source": [
        "\n"
      ]
    },
    {
      "cell_type": "code",
      "execution_count": null,
      "metadata": {
        "ExecuteTime": {
          "end_time": "2024-03-25T14:32:08.251628Z",
          "start_time": "2024-03-25T14:32:08.249450Z"
        },
        "id": "f97s58srdW0F"
      },
      "outputs": [],
      "source": []
    },
    {
      "cell_type": "code",
      "execution_count": 22,
      "metadata": {
        "ExecuteTime": {
          "end_time": "2024-03-25T14:32:15.161235Z",
          "start_time": "2024-03-25T14:32:10.082137Z"
        },
        "colab": {
          "base_uri": "https://localhost:8080/"
        },
        "id": "5TxbCCmVdW0F",
        "outputId": "de97fb9e-4345-410c-95e1-305425dbe13a"
      },
      "outputs": [
        {
          "name": "stdout",
          "output_type": "stream",
          "text": [
            "Accuracy: 0.4667\n",
            "Precision: 0.4453, Recall: 0.4667, F1 Score: 0.3544\n"
          ]
        }
      ],
      "source": [
        "from sklearn.metrics import accuracy_score, precision_score, recall_score, f1_score\n",
        "import matplotlib.pyplot as plt\n",
        "\n",
        "model.eval()\n",
        "predictions = []\n",
        "true_labels = []\n",
        "\n",
        "with torch.no_grad():\n",
        "    for batch in val_loader:\n",
        "        input_ids = batch[0]['input_ids']\n",
        "        attention_mask = batch[0]['attention_mask']\n",
        "        labels = batch[1].to(device)\n",
        "        input_ids = input_ids.squeeze(1).to(device)\n",
        "        attention_mask = attention_mask.squeeze(1).to(device)\n",
        "        outputs = model(input_ids, attention_mask=attention_mask, labels=labels)\n",
        "        _, predicted = torch.max(outputs, 1)\n",
        "        predictions.extend(predicted.tolist())\n",
        "        true_labels.extend(labels.tolist())\n",
        "\n",
        "true_labels = np.array(true_labels)\n",
        "predictions = np.array(predictions)\n",
        "\n",
        "accuracy = accuracy_score(true_labels, predictions)\n",
        "print(f'Accuracy: {accuracy:.4f}')\n",
        "\n",
        "precision = precision_score(true_labels, predictions, average='weighted')\n",
        "recall = recall_score(true_labels, predictions, average='weighted')\n",
        "f1 = f1_score(true_labels, predictions, average='weighted')\n",
        "\n",
        "print(f'Precision: {precision:.4f}, Recall: {recall:.4f}, F1 Score: {f1:.4f}')\n",
        "\n",
        "labels = ['Precision', 'Recall', 'F1 Score']\n",
        "scores = [precision, recall, f1]\n"
      ]
    },
    {
      "cell_type": "code",
      "execution_count": 23,
      "metadata": {
        "ExecuteTime": {
          "end_time": "2024-03-25T14:32:23.979447Z",
          "start_time": "2024-03-25T14:32:23.911503Z"
        },
        "colab": {
          "base_uri": "https://localhost:8080/",
          "height": 472
        },
        "id": "6vZ3CT7SdW0F",
        "outputId": "000b7867-8373-4af0-d4b6-062dac107ff9"
      },
      "outputs": [
        {
          "data": {
            "image/png": "[encoded data removed]",
            "text/plain": [
              "<Figure size 640x480 with 1 Axes>"
            ]
          },
          "metadata": {},
          "output_type": "display_data"
        }
      ],
      "source": [
        "\n",
        "plt.bar(labels, scores)\n",
        "plt.xlabel('Metrics')\n",
        "plt.ylabel('Scores')\n",
        "plt.title('Model Evaluation Metrics')\n",
        "plt.show()\n",
        "\n",
        "\n"
      ]
    },
    {
      "cell_type": "code",
      "execution_count": 24,
      "metadata": {
        "colab": {
          "base_uri": "https://localhost:8080/"
        },
        "id": "jUb5HGGUdW0F",
        "outputId": "f1aefd7e-8a9f-4c29-a004-2b98a8c5b61d"
      },
      "outputs": [
        {
          "data": {
            "text/plain": [
              "CustomClassifier(\n",
              "  (bert): BertModel(\n",
              "    (embeddings): BertEmbeddings(\n",
              "      (word_embeddings): Embedding(28996, 768, padding_idx=0)\n",
              "      (position_embeddings): Embedding(512, 768)\n",
              "      (token_type_embeddings): Embedding(2, 768)\n",
              "      (LayerNorm): LayerNorm((768,), eps=1e-12, elementwise_affine=True)\n",
              "      (dropout): Dropout(p=0.1, inplace=False)\n",
              "    )\n",
              "    (encoder): BertEncoder(\n",
              "      (layer): ModuleList(\n",
              "        (0-11): 12 x BertLayer(\n",
              "          (attention): BertAttention(\n",
              "            (self): BertSelfAttention(\n",
              "              (query): Linear(in_features=768, out_features=768, bias=True)\n",
              "              (key): Linear(in_features=768, out_features=768, bias=True)\n",
              "              (value): Linear(in_features=768, out_features=768, bias=True)\n",
              "              (dropout): Dropout(p=0.1, inplace=False)\n",
              "            )\n",
              "            (output): BertSelfOutput(\n",
              "              (dense): Linear(in_features=768, out_features=768, bias=True)\n",
              "              (LayerNorm): LayerNorm((768,), eps=1e-12, elementwise_affine=True)\n",
              "              (dropout): Dropout(p=0.1, inplace=False)\n",
              "            )\n",
              "          )\n",
              "          (intermediate): BertIntermediate(\n",
              "            (dense): Linear(in_features=768, out_features=3072, bias=True)\n",
              "            (intermediate_act_fn): GELUActivation()\n",
              "          )\n",
              "          (output): BertOutput(\n",
              "            (dense): Linear(in_features=3072, out_features=768, bias=True)\n",
              "            (LayerNorm): LayerNorm((768,), eps=1e-12, elementwise_affine=True)\n",
              "            (dropout): Dropout(p=0.1, inplace=False)\n",
              "          )\n",
              "        )\n",
              "      )\n",
              "    )\n",
              "    (pooler): BertPooler(\n",
              "      (dense): Linear(in_features=768, out_features=768, bias=True)\n",
              "      (activation): Tanh()\n",
              "    )\n",
              "  )\n",
              "  (classifier): Linear(in_features=768, out_features=2, bias=True)\n",
              ")"
            ]
          },
          "execution_count": 24,
          "metadata": {},
          "output_type": "execute_result"
        }
      ],
      "source": [
        "# model.load_state_dict(torch.load('milestone2_NLP_model_state.pth'))\n",
        "\n",
        "model.eval()"
      ]
    },
    {
      "cell_type": "code",
      "execution_count": 26,
      "metadata": {
        "id": "aPOb_xIhdW0G"
      },
      "outputs": [],
      "source": [
        "import json\n",
        "with open('/content/drive/MyDrive/Colab Notebooks/gold_practice_test.json', 'r') as file:\n",
        "    gold_practice_test = json.load(file)\n",
        "\n"
      ]
    },
    {
      "cell_type": "code",
      "execution_count": 29,
      "metadata": {
        "id": "BrxqcsqwdW0G"
      },
      "outputs": [],
      "source": [
        "def preprocess_test_data(train_data):\n",
        "    preprocessed_data = []\n",
        "\n",
        "    for data_id, data in train_data.items():\n",
        "        ctr_1 = data['Primary_id'] + '.json'\n",
        "        ctr_1f = os.path.join('/content/drive/MyDrive/Colab Notebooks/CT json', ctr_1)\n",
        "        secondaryid_exists = False\n",
        "        if 'Secondary_id' in data:\n",
        "            ctr_2 = data['Secondary_id'] + '.json'\n",
        "            ctr_2f = os.path.join('/content/drive/MyDrive/Colab Notebooks/CT json', ctr_2)\n",
        "            secondaryid_exists = True\n",
        "\n",
        "        with open(ctr_1f, 'r') as file:\n",
        "            ctr_a = json.load(file)\n",
        "            if secondaryid_exists:\n",
        "                with open(ctr_2f, 'r') as file:\n",
        "                    ctr_b = json.load(file)\n",
        "                ctr = \"CTR 1\" + \" [SEP] \".join(ctr_a[data['Section_id']]) +\"[SEP]\"+ \"CTR 2\" + \" [SEP] \".join(\n",
        "                    ctr_b[data[\"Section_id\"]]) + \"[SEP]\"+\"Data\" + \" [SEP] \" + data[\"Statement\"]\n",
        "            else:\n",
        "                ctr = \"CTR 1\" + \" [SEP] \".join(ctr_a[data['Section_id']]) + \"[SEP]\"+\"Data\" + \" [SEP] \" + data[\"Statement\"]\n",
        "        ctr = ctr.lower()\n",
        "        url_ptrn = r'http[s]?://(?:[a-zA-Z]|[0-9]|[$-_@.&+]|[!*\\\\(\\\\),]|(?:%[0-9a-fA-F][0-9a-fA-F]))+'\n",
        "\n",
        "        ctr = re.sub(url_ptrn, '', ctr)\n",
        "        ctr = re.sub(r'[^\\w\\s]', '', ctr)\n",
        "\n",
        "        inputs = tokenizer(ctr, return_tensors='pt', max_length=512, padding='max_length', truncation=True)\n",
        "        labels = torch.tensor([label_mapping[data['Label']]])\n",
        "\n",
        "        preprocessed_data.append((inputs, labels))\n",
        "\n",
        "\n",
        "    return preprocessed_data\n"
      ]
    },
    {
      "cell_type": "code",
      "execution_count": 30,
      "metadata": {
        "id": "bAvSaXc1dW0G"
      },
      "outputs": [],
      "source": [
        "gold_test = preprocess_test_data(gold_practice_test)"
      ]
    },
    {
      "cell_type": "code",
      "execution_count": null,
      "metadata": {
        "id": "PH9UKzLXdW0G"
      },
      "outputs": [],
      "source": []
    },
    {
      "cell_type": "code",
      "execution_count": 31,
      "metadata": {
        "id": "QvqXlcT8dW0G"
      },
      "outputs": [],
      "source": [
        "from torch.utils.data import DataLoader\n",
        "\n",
        "batch_size = 64\n",
        "gold_test_loader = DataLoader(gold_test, batch_size=batch_size)"
      ]
    },
    {
      "cell_type": "code",
      "execution_count": null,
      "metadata": {
        "id": "pG8UftyBdW0G"
      },
      "outputs": [],
      "source": []
    },
    {
      "cell_type": "code",
      "execution_count": 32,
      "metadata": {
        "id": "g0RIi1NsdW0G"
      },
      "outputs": [],
      "source": [
        "from sklearn.metrics import accuracy_score, precision_score, recall_score, f1_score\n",
        "import matplotlib.pyplot as plt\n",
        "\n",
        "model.eval()\n",
        "predictions = []\n",
        "true_labels = []\n",
        "\n",
        "with torch.no_grad():\n",
        "    for batch in gold_test_loader:\n",
        "        input_ids = batch[0]['input_ids']\n",
        "        attention_mask = batch[0]['attention_mask']\n",
        "        labels = batch[1].to(device)\n",
        "        input_ids = input_ids.squeeze(1).to(device)\n",
        "        attention_mask = attention_mask.squeeze(1).to(device)\n",
        "        outputs = model(input_ids, attention_mask=attention_mask, labels=labels)\n",
        "        _, predicted = torch.max(outputs, 1)\n",
        "        predictions.extend(predicted.tolist())\n",
        "        true_labels.extend(labels.tolist())\n"
      ]
    },
    {
      "cell_type": "code",
      "execution_count": 33,
      "metadata": {
        "colab": {
          "base_uri": "https://localhost:8080/"
        },
        "id": "MDGiYuredW0G",
        "outputId": "1b965994-2bbd-4313-cdcd-b463529a01f9"
      },
      "outputs": [
        {
          "name": "stdout",
          "output_type": "stream",
          "text": [
            "Accuracy: 0.3987\n",
            "Precision: 0.5609, Recall: 0.3987, F1 Score: 0.3457\n"
          ]
        }
      ],
      "source": [
        "import numpy as np\n",
        "\n",
        "true_labels = np.array(true_labels)\n",
        "predictions = np.array(predictions)\n",
        "\n",
        "accuracy = accuracy_score(true_labels, predictions)\n",
        "print(f'Accuracy: {accuracy:.4f}')\n",
        "\n",
        "precision = precision_score(true_labels, predictions, average='weighted')\n",
        "recall = recall_score(true_labels, predictions, average='weighted')\n",
        "f1 = f1_score(true_labels, predictions, average='weighted')\n",
        "\n",
        "print(f'Precision: {precision:.4f}, Recall: {recall:.4f}, F1 Score: {f1:.4f}')\n",
        "\n",
        "labels = ['Precision', 'Recall', 'F1 Score']\n",
        "scores = [precision, recall, f1]\n"
      ]
    },
    {
      "cell_type": "code",
      "execution_count": 34,
      "metadata": {
        "id": "LMfp2P8FdW0G"
      },
      "outputs": [],
      "source": [
        "if len(true_labels) != len(predictions):\n",
        "        raise ValueError(\"The lists of predictions must have the same length.\")\n",
        "faithfulness = sum(abs(o - c) for o, c in zip(true_labels, predictions)) / len(true_labels)"
      ]
    },
    {
      "cell_type": "code",
      "execution_count": 35,
      "metadata": {
        "colab": {
          "base_uri": "https://localhost:8080/"
        },
        "id": "ft4IR19NdW0G",
        "outputId": "883034f8-8424-452c-f3e0-73555014c070"
      },
      "outputs": [
        {
          "name": "stdout",
          "output_type": "stream",
          "text": [
            "[0.60130719]\n"
          ]
        }
      ],
      "source": [
        "print(faithfulness)"
      ]
    },
    {
      "cell_type": "code",
      "execution_count": 36,
      "metadata": {
        "id": "HI-sbchXdW0T"
      },
      "outputs": [],
      "source": [
        "if len(true_labels) != len(predictions):\n",
        "        raise ValueError(\"The lists of predictions must have the same length.\")\n",
        "consistency = sum(1-abs(o - c) for o, c in zip(true_labels, predictions)) / len(true_labels)"
      ]
    },
    {
      "cell_type": "code",
      "execution_count": 37,
      "metadata": {
        "colab": {
          "base_uri": "https://localhost:8080/"
        },
        "id": "4BX78oaHdW0T",
        "outputId": "c46c8cba-6fc3-44ab-e9cd-5f74a931796b"
      },
      "outputs": [
        {
          "name": "stdout",
          "output_type": "stream",
          "text": [
            "[0.39869281]\n"
          ]
        }
      ],
      "source": [
        "print(consistency)"
      ]
    },
    {
      "cell_type": "code",
      "execution_count": 39,
      "metadata": {
        "id": "5Mj82TywdW0T"
      },
      "outputs": [],
      "source": [
        "\n",
        "import json\n",
        "with open('/content/drive/MyDrive/Colab Notebooks/test.json', 'r') as file:\n",
        "    test_data = json.load(file)\n"
      ]
    },
    {
      "cell_type": "code",
      "execution_count": 41,
      "metadata": {
        "id": "yyZRTXqWdW0T"
      },
      "outputs": [],
      "source": [
        "import json\n",
        "\n",
        "test_preprocessed_data = []\n",
        "data_ids = [] \n",
        "\n",
        "for data_id, data in test_data.items():\n",
        "    ctr_1 = data['Primary_id'] + '.json'\n",
        "    ctr_1f = os.path.join('/content/drive/MyDrive/Colab Notebooks/CT json', ctr_1)\n",
        "    secondaryid_exists = False\n",
        "    if 'Secondary_id' in data:\n",
        "        ctr_2 = data['Secondary_id'] + '.json'\n",
        "        ctr_2f = os.path.join('/content/drive/MyDrive/Colab Notebooks/CT json', ctr_2)\n",
        "        secondaryid_exists = True\n",
        "\n",
        "    with open(ctr_1f, 'r') as file:\n",
        "        ctr_a = json.load(file)\n",
        "        if secondaryid_exists:\n",
        "            with open(ctr_2f, 'r') as file:\n",
        "                ctr_b = json.load(file)\n",
        "            ctr = \" \".join(ctr_a[data['Section_id']]) + \" [SEP] \" + \\\n",
        "                  \" \".join(ctr_b[data[\"Section_id\"]]) + \" [SEP] \" + data[\"Statement\"]\n",
        "        else:\n",
        "            ctr = \" \".join(ctr_a[data['Section_id']]) + \" [SEP] \" + data[\"Statement\"]\n",
        "\n",
        "    ctr = ctr.lower()\n",
        "    url_ptrn = r'http[s]?://(?:[a-zA-Z]|[0-9]|[$-_@.&+]|[!*\\\\(\\\\),]|(?:%[0-9a-fA-F][0-9a-fA-F]))+'\n",
        "    ctr = re.sub(url_ptrn, '', ctr)\n",
        "    ctr = re.sub(r'[^\\w\\s]', '', ctr)\n",
        "\n",
        "    inputs = tokenizer(ctr, return_tensors='pt', max_length=512, padding='max_length', truncation=True)\n",
        "\n",
        "    test_preprocessed_data.append(inputs)\n",
        "    data_ids.append(data_id)  \n"
      ]
    },
    {
      "cell_type": "code",
      "execution_count": 42,
      "metadata": {
        "id": "WiJw2RP0dW0T"
      },
      "outputs": [],
      "source": [
        "from torch.utils.data import DataLoader\n",
        "\n",
        "batch_size = 64\n",
        "test_loader = DataLoader(test_preprocessed_data, batch_size=batch_size)"
      ]
    },
    {
      "cell_type": "code",
      "execution_count": 44,
      "metadata": {
        "id": "LFMVSlmGdW0T"
      },
      "outputs": [],
      "source": [
        "\n",
        "model.eval()\n",
        "predictions = []\n",
        "\n",
        "with torch.no_grad():\n",
        "    for batch in test_loader: \n",
        "        input_ids = batch['input_ids']\n",
        "        attention_mask = batch['attention_mask']\n",
        "        input_ids = input_ids.squeeze(1).to(device)\n",
        "        attention_mask = attention_mask.squeeze(1).to(device)\n",
        "        outputs = model(input_ids, attention_mask=attention_mask)\n",
        "        _, predicted = torch.max(outputs, 1)\n",
        "        predictions.extend(predicted.tolist())\n"
      ]
    },
    {
      "cell_type": "code",
      "execution_count": 45,
      "metadata": {
        "colab": {
          "base_uri": "https://localhost:8080/"
        },
        "id": "fVVY1umYdW0T",
        "outputId": "a30bf699-cd1e-426c-e755-ecf684adef52"
      },
      "outputs": [
        {
          "name": "stdout",
          "output_type": "stream",
          "text": [
            "Predictions saved to: predictions.json\n"
          ]
        }
      ],
      "source": [
        "\n",
        "predictions_dict = {}\n",
        "for data_id, prediction in zip(data_ids, predictions):\n",
        "    prediction_label = \"Contradiction\" if prediction == 0 else \"Entailment\"\n",
        "    predictions_dict[data_id] = {\"Prediction\": prediction_label}\n",
        "\n",
        "output_file_path = \"predictions.json\"\n",
        "with open(output_file_path, \"w\") as f:\n",
        "    json.dump(predictions_dict, f, indent=4)\n",
        "\n",
        "print(\"Predictions saved to:\", output_file_path)\n"
      ]
    },
    {
      "cell_type": "code",
      "execution_count": null,
      "metadata": {
        "id": "7o_BtNMDdW0T"
      },
      "outputs": [],
      "source": []
    }
  ],
  "metadata": {
    "accelerator": "GPU",
    "colab": {
      "gpuType": "T4",
      "provenance": []
    },
    "kernelspec": {
      "display_name": "Python 3",
      "name": "python3"
    },
    "language_info": {
      "codemirror_mode": {
        "name": "ipython",
        "version": 3
      },
      "file_extension": ".py",
      "mimetype": "text/x-python",
      "name": "python",
      "nbconvert_exporter": "python",
      "pygments_lexer": "ipython3",
      "version": "3.11.5"
    }
  },
  "nbformat": 4,
  "nbformat_minor": 0
}
