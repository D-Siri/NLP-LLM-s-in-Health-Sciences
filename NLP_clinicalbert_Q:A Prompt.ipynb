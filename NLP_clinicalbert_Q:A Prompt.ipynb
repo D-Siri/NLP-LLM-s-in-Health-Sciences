{
 "cells": [
  {
   "cell_type": "code",
   "execution_count": 1,
   "metadata": {
    "colab": {
     "base_uri": "https://localhost:8080/"
    },
    "id": "vcaMIHijaRiX",
    "outputId": "1a767916-b024-4f82-ed42-5b5d73d3d54c"
   },
   "outputs": [
    {
     "name": "stdout",
     "output_type": "stream",
     "text": [
      "Drive already mounted at /content/drive; to attempt to forcibly remount, call drive.mount(\"/content/drive\", force_remount=True).\n"
     ]
    }
   ],
   "source": [
    "from google.colab import drive\n",
    "drive.mount('/content/drive')"
   ]
  },
  {
   "cell_type": "code",
   "execution_count": 2,
   "metadata": {
    "ExecuteTime": {
     "end_time": "2024-03-25T12:44:28.900350Z",
     "start_time": "2024-03-25T12:44:28.892923Z"
    },
    "id": "8HcrXkX9WwYV"
   },
   "outputs": [],
   "source": [
    "json_file_path = '/content/drive/MyDrive/train.json'\n",
    "import json\n",
    "with open(json_file_path, 'r') as file:\n",
    "    train_data = json.load(file)\n"
   ]
  },
  {
   "cell_type": "code",
   "execution_count": 6,
   "metadata": {
    "id": "YdsdRNzmWwYY"
   },
   "outputs": [],
   "source": [
    "import torch\n",
    "from transformers import BertTokenizer, BertForSequenceClassification\n",
    "import torch.nn as nn\n",
    "import torch.optim as optim\n"
   ]
  },
  {
   "cell_type": "code",
   "execution_count": 7,
   "metadata": {
    "colab": {
     "base_uri": "https://localhost:8080/"
    },
    "id": "5Rr8nPGCWxhT",
    "outputId": "7cc6e0fb-53e4-4994-bbe4-3733b3dc5531"
   },
   "outputs": [
    {
     "name": "stderr",
     "output_type": "stream",
     "text": [
      "/usr/local/lib/python3.10/dist-packages/huggingface_hub/utils/_token.py:88: UserWarning: \n",
      "The secret `HF_TOKEN` does not exist in your Colab secrets.\n",
      "To authenticate with the Hugging Face Hub, create a token in your settings tab (https://huggingface.co/settings/tokens), set it as secret in your Google Colab and restart your session.\n",
      "You will be able to reuse this secret in all of your notebooks.\n",
      "Please note that authentication is recommended but still optional to access public models or datasets.\n",
      "  warnings.warn(\n",
      "Some weights of BertForSequenceClassification were not initialized from the model checkpoint at emilyalsentzer/Bio_ClinicalBERT and are newly initialized: ['classifier.bias', 'classifier.weight']\n",
      "You should probably TRAIN this model on a down-stream task to be able to use it for predictions and inference.\n"
     ]
    }
   ],
   "source": [
    "tokenizer = BertTokenizer.from_pretrained('emilyalsentzer/Bio_ClinicalBERT')\n",
    "clinical_bert_model = BertForSequenceClassification.from_pretrained('emilyalsentzer/Bio_ClinicalBERT', num_labels = 2)"
   ]
  },
  {
   "cell_type": "code",
   "execution_count": 9,
   "metadata": {
    "colab": {
     "base_uri": "https://localhost:8080/"
    },
    "id": "eZldrHFpWwYY",
    "outputId": "57addfa2-bb22-477a-8baa-8aab7ed60cb1"
   },
   "outputs": [
    {
     "name": "stdout",
     "output_type": "stream",
     "text": [
      "BertForSequenceClassification(\n",
      "  (bert): BertModel(\n",
      "    (embeddings): BertEmbeddings(\n",
      "      (word_embeddings): Embedding(28996, 768, padding_idx=0)\n",
      "      (position_embeddings): Embedding(512, 768)\n",
      "      (token_type_embeddings): Embedding(2, 768)\n",
      "      (LayerNorm): LayerNorm((768,), eps=1e-12, elementwise_affine=True)\n",
      "      (dropout): Dropout(p=0.1, inplace=False)\n",
      "    )\n",
      "    (encoder): BertEncoder(\n",
      "      (layer): ModuleList(\n",
      "        (0-11): 12 x BertLayer(\n",
      "          (attention): BertAttention(\n",
      "            (self): BertSelfAttention(\n",
      "              (query): Linear(in_features=768, out_features=768, bias=True)\n",
      "              (key): Linear(in_features=768, out_features=768, bias=True)\n",
      "              (value): Linear(in_features=768, out_features=768, bias=True)\n",
      "              (dropout): Dropout(p=0.1, inplace=False)\n",
      "            )\n",
      "            (output): BertSelfOutput(\n",
      "              (dense): Linear(in_features=768, out_features=768, bias=True)\n",
      "              (LayerNorm): LayerNorm((768,), eps=1e-12, elementwise_affine=True)\n",
      "              (dropout): Dropout(p=0.1, inplace=False)\n",
      "            )\n",
      "          )\n",
      "          (intermediate): BertIntermediate(\n",
      "            (dense): Linear(in_features=768, out_features=3072, bias=True)\n",
      "            (intermediate_act_fn): GELUActivation()\n",
      "          )\n",
      "          (output): BertOutput(\n",
      "            (dense): Linear(in_features=3072, out_features=768, bias=True)\n",
      "            (LayerNorm): LayerNorm((768,), eps=1e-12, elementwise_affine=True)\n",
      "            (dropout): Dropout(p=0.1, inplace=False)\n",
      "          )\n",
      "        )\n",
      "      )\n",
      "    )\n",
      "    (pooler): BertPooler(\n",
      "      (dense): Linear(in_features=768, out_features=768, bias=True)\n",
      "      (activation): Tanh()\n",
      "    )\n",
      "  )\n",
      "  (dropout): Dropout(p=0.1, inplace=False)\n",
      "  (classifier): Linear(in_features=768, out_features=2, bias=True)\n",
      ")\n"
     ]
    }
   ],
   "source": [
    "print(clinical_bert_model)"
   ]
  },
  {
   "cell_type": "code",
   "execution_count": 10,
   "metadata": {
    "id": "dAkfVCoaa91e"
   },
   "outputs": [],
   "source": [
    "model = clinical_bert_model"
   ]
  },
  {
   "cell_type": "code",
   "execution_count": 11,
   "metadata": {
    "ExecuteTime": {
     "end_time": "2024-03-25T12:44:33.350766Z",
     "start_time": "2024-03-25T12:44:33.348680Z"
    },
    "id": "NUQPxvdfWwYY"
   },
   "outputs": [],
   "source": [
    "label_mapping = {\n",
    "    'Entailment': 1,\n",
    "    'Contradiction': 0\n",
    "}"
   ]
  },
  {
   "cell_type": "code",
   "execution_count": 12,
   "metadata": {
    "id": "8tjP4IhJWwYZ"
   },
   "outputs": [],
   "source": [
    "import json\n",
    "import os\n",
    "import re\n",
    "import random\n",
    "from torch.utils.data import DataLoader\n",
    "\n",
    "\n",
    "ctr_json_folder = '/content/drive/MyDrive/CT json' \n",
    "\n",
    "\n",
    "\n",
    "\n",
    "def preprocess_data(train_data):\n",
    "    preprocessed_data = []\n",
    "    augmented_data = []  \n",
    "    for data_id, data in train_data.items():\n",
    "        ctr_1 = data['Primary_id'] + '.json'\n",
    "        ctr_1f = os.path.join(ctr_json_folder, ctr_1)\n",
    "        secondaryid_exists = False\n",
    "        if 'Secondary_id' in data:\n",
    "            ctr_2 = data['Secondary_id'] + '.json'\n",
    "            ctr_2f = os.path.join(ctr_json_folder, ctr_2)\n",
    "            secondaryid_exists = True\n",
    "\n",
    "        with open(ctr_1f, 'r') as file:\n",
    "            ctr_a = json.load(file)\n",
    "            if secondaryid_exists:\n",
    "                with open(ctr_2f, 'r') as file:\n",
    "                    ctr_b = json.load(file)\n",
    "                ctr = \"Compare CTR 1\" + \" [SEP] \".join(ctr_a[data['Section_id']])  + \"[SEP]\"+ \"and CTR 2\" + \" [SEP] \".join(\n",
    "                    ctr_b[data[\"Section_id\"]]) + \"to determine if the given statement\" + \" [SEP] \" + data[\"Statement\"] +\"[SEP]\"+\"is true\"\n",
    "            else:\n",
    "                ctr = \"Analyze CTR 1\" + \" [SEP] \".join(ctr_a[data['Section_id']]) + \"[SEP]\"+\" To determine if the given Statement\" + \" [SEP] \" + data[\"Statement\"]+\"[SEP]\"+\"is true\"\n",
    "        ctr = ctr.lower()\n",
    "        url_ptrn = r'http[s]?://(?:[a-zA-Z]|[0-9]|[$-_@.&+]|[!*\\\\(\\\\),]|(?:%[0-9a-fA-F][0-9a-fA-F]))+'\n",
    "\n",
    "        ctr = re.sub(url_ptrn, '', ctr)\n",
    "        ctr = re.sub(r'[^\\w\\s]', '', ctr)\n",
    "\n",
    "        inputs = tokenizer(ctr, return_tensors='pt', max_length=512, padding='max_length', truncation=True)\n",
    "        labels = torch.tensor([label_mapping[data['Label']]])\n",
    "\n",
    "        preprocessed_data.append((inputs, labels))\n",
    "\n",
    "    return preprocessed_data\n"
   ]
  },
  {
   "cell_type": "code",
   "execution_count": 13,
   "metadata": {
    "id": "F8OjphybWwYZ"
   },
   "outputs": [],
   "source": [
    "\n",
    "preprocessed_data = preprocess_data(train_data)\n",
    "\n"
   ]
  },
  {
   "cell_type": "code",
   "execution_count": 14,
   "metadata": {
    "colab": {
     "base_uri": "https://localhost:8080/"
    },
    "id": "5CTblct9WwYZ",
    "outputId": "03fff6cb-1b0c-43e3-e720-6627aab91330"
   },
   "outputs": [
    {
     "name": "stdout",
     "output_type": "stream",
     "text": [
      "1700\n"
     ]
    }
   ],
   "source": [
    "print(len(preprocessed_data))"
   ]
  },
  {
   "cell_type": "code",
   "execution_count": 15,
   "metadata": {
    "id": "ToWvWIR9WwYZ"
   },
   "outputs": [],
   "source": [
    "import json\n",
    "with open('/content/drive/MyDrive/dev.json', 'r') as file:\n",
    "    dev_data = json.load(file)\n",
    "\n",
    "dev_preprocessed_data = preprocess_data(dev_data)"
   ]
  },
  {
   "cell_type": "code",
   "execution_count": 16,
   "metadata": {
    "id": "3-FLoWFsWwYZ"
   },
   "outputs": [],
   "source": [
    "import numpy as np\n",
    "\n",
    "\n",
    "data = preprocessed_data + dev_preprocessed_data\n",
    "data = list(data)\n",
    "val_size = int(len(data) * 0.15)\n",
    "\n",
    "np.random.shuffle(data)\n",
    "\n",
    "val_data = data[:val_size]\n",
    "train_data = data[val_size:]\n"
   ]
  },
  {
   "cell_type": "code",
   "execution_count": 17,
   "metadata": {
    "id": "AVoBhUHMWwYa"
   },
   "outputs": [],
   "source": [
    "from torch.utils.data import DataLoader\n",
    "\n",
    "batch_size = 32\n",
    "train_loader = DataLoader(preprocessed_data, batch_size=batch_size)\n",
    "val_loader = DataLoader(dev_preprocessed_data, batch_size=batch_size)"
   ]
  },
  {
   "cell_type": "code",
   "execution_count": 18,
   "metadata": {
    "ExecuteTime": {
     "end_time": "2024-03-25T12:45:37.137943Z",
     "start_time": "2024-03-25T12:45:37.135875Z"
    },
    "id": "f0L9tuc-WwYa"
   },
   "outputs": [],
   "source": [
    "for param in list(model.parameters())[:-3]:\n",
    "    param.requires_grad = False"
   ]
  },
  {
   "cell_type": "code",
   "execution_count": 19,
   "metadata": {
    "id": "UbXyw8jCWwYa"
   },
   "outputs": [],
   "source": [
    "import torch\n",
    "import torch.nn as nn\n",
    "import torch.optim as optim\n",
    "from torch.utils.data import DataLoader, TensorDataset\n",
    "import numpy as np\n",
    "import matplotlib.pyplot as plt\n",
    "from sklearn.metrics import confusion_matrix, classification_report"
   ]
  },
  {
   "cell_type": "code",
   "execution_count": 20,
   "metadata": {
    "colab": {
     "base_uri": "https://localhost:8080/"
    },
    "id": "pW1DpqXOWwYa",
    "outputId": "83293799-2678-4723-8c0b-a52b9fad51da"
   },
   "outputs": [
    {
     "name": "stdout",
     "output_type": "stream",
     "text": [
      "Epoch 1/50, Train Loss: 0.7138, Train Accuracy: 0.4912, Val Loss: 0.6999, Val Accuracy: 0.5050\n",
      "Epoch 2/50, Train Loss: 0.7014, Train Accuracy: 0.4976, Val Loss: 0.6963, Val Accuracy: 0.5050\n",
      "Epoch 3/50, Train Loss: 0.7022, Train Accuracy: 0.4806, Val Loss: 0.6963, Val Accuracy: 0.4950\n",
      "Epoch 4/50, Train Loss: 0.7001, Train Accuracy: 0.4976, Val Loss: 0.6962, Val Accuracy: 0.5000\n",
      "Epoch 5/50, Train Loss: 0.7029, Train Accuracy: 0.4818, Val Loss: 0.6958, Val Accuracy: 0.5000\n",
      "Epoch 6/50, Train Loss: 0.6976, Train Accuracy: 0.4982, Val Loss: 0.6961, Val Accuracy: 0.5000\n",
      "Epoch 7/50, Train Loss: 0.6954, Train Accuracy: 0.5153, Val Loss: 0.6956, Val Accuracy: 0.5100\n",
      "Epoch 8/50, Train Loss: 0.6963, Train Accuracy: 0.5112, Val Loss: 0.6952, Val Accuracy: 0.5000\n",
      "Epoch 9/50, Train Loss: 0.6953, Train Accuracy: 0.5035, Val Loss: 0.6956, Val Accuracy: 0.5050\n",
      "Epoch 10/50, Train Loss: 0.6962, Train Accuracy: 0.5006, Val Loss: 0.6954, Val Accuracy: 0.5000\n",
      "Epoch 11/50, Train Loss: 0.6945, Train Accuracy: 0.5176, Val Loss: 0.6958, Val Accuracy: 0.5000\n",
      "Epoch 12/50, Train Loss: 0.7013, Train Accuracy: 0.4829, Val Loss: 0.6953, Val Accuracy: 0.5000\n",
      "Epoch 13/50, Train Loss: 0.6965, Train Accuracy: 0.5094, Val Loss: 0.6958, Val Accuracy: 0.5000\n",
      "Epoch 14/50, Train Loss: 0.6984, Train Accuracy: 0.4929, Val Loss: 0.6957, Val Accuracy: 0.5050\n",
      "Epoch 15/50, Train Loss: 0.6984, Train Accuracy: 0.4947, Val Loss: 0.6950, Val Accuracy: 0.4950\n",
      "Epoch 16/50, Train Loss: 0.6971, Train Accuracy: 0.4918, Val Loss: 0.6953, Val Accuracy: 0.5000\n",
      "Epoch 17/50, Train Loss: 0.7009, Train Accuracy: 0.5000, Val Loss: 0.6951, Val Accuracy: 0.5000\n",
      "Epoch 18/50, Train Loss: 0.6955, Train Accuracy: 0.5118, Val Loss: 0.6960, Val Accuracy: 0.5000\n",
      "Epoch 19/50, Train Loss: 0.6968, Train Accuracy: 0.5059, Val Loss: 0.6955, Val Accuracy: 0.5000\n",
      "Epoch 20/50, Train Loss: 0.7017, Train Accuracy: 0.4776, Val Loss: 0.6958, Val Accuracy: 0.5000\n",
      "Epoch 21/50, Train Loss: 0.6969, Train Accuracy: 0.5071, Val Loss: 0.6956, Val Accuracy: 0.5000\n",
      "Epoch 22/50, Train Loss: 0.7013, Train Accuracy: 0.4782, Val Loss: 0.6953, Val Accuracy: 0.5000\n",
      "Epoch 23/50, Train Loss: 0.6998, Train Accuracy: 0.4941, Val Loss: 0.6945, Val Accuracy: 0.5000\n",
      "Epoch 24/50, Train Loss: 0.6972, Train Accuracy: 0.5071, Val Loss: 0.6945, Val Accuracy: 0.5000\n",
      "Epoch 25/50, Train Loss: 0.6963, Train Accuracy: 0.4971, Val Loss: 0.6945, Val Accuracy: 0.5000\n",
      "Epoch 26/50, Train Loss: 0.6938, Train Accuracy: 0.5059, Val Loss: 0.6936, Val Accuracy: 0.5000\n",
      "Epoch 27/50, Train Loss: 0.6996, Train Accuracy: 0.4747, Val Loss: 0.6938, Val Accuracy: 0.5000\n",
      "Epoch 28/50, Train Loss: 0.6951, Train Accuracy: 0.5065, Val Loss: 0.6947, Val Accuracy: 0.4950\n",
      "Epoch 29/50, Train Loss: 0.7000, Train Accuracy: 0.4718, Val Loss: 0.6946, Val Accuracy: 0.5000\n",
      "Epoch 30/50, Train Loss: 0.6941, Train Accuracy: 0.5088, Val Loss: 0.6940, Val Accuracy: 0.5000\n",
      "Epoch 31/50, Train Loss: 0.6958, Train Accuracy: 0.5000, Val Loss: 0.6943, Val Accuracy: 0.5000\n",
      "Epoch 32/50, Train Loss: 0.6966, Train Accuracy: 0.5100, Val Loss: 0.6932, Val Accuracy: 0.5050\n",
      "Epoch 33/50, Train Loss: 0.6962, Train Accuracy: 0.4971, Val Loss: 0.6938, Val Accuracy: 0.5000\n",
      "Epoch 34/50, Train Loss: 0.6977, Train Accuracy: 0.4818, Val Loss: 0.6937, Val Accuracy: 0.5000\n",
      "Epoch 35/50, Train Loss: 0.6968, Train Accuracy: 0.4871, Val Loss: 0.6938, Val Accuracy: 0.5050\n",
      "Epoch 36/50, Train Loss: 0.6968, Train Accuracy: 0.5065, Val Loss: 0.6943, Val Accuracy: 0.4950\n",
      "Epoch 37/50, Train Loss: 0.6971, Train Accuracy: 0.5018, Val Loss: 0.6939, Val Accuracy: 0.5050\n",
      "Epoch 38/50, Train Loss: 0.6969, Train Accuracy: 0.4959, Val Loss: 0.6946, Val Accuracy: 0.5000\n",
      "Epoch 39/50, Train Loss: 0.6980, Train Accuracy: 0.5000, Val Loss: 0.6940, Val Accuracy: 0.5050\n",
      "Epoch 40/50, Train Loss: 0.6935, Train Accuracy: 0.5059, Val Loss: 0.6943, Val Accuracy: 0.5050\n",
      "Epoch 41/50, Train Loss: 0.6935, Train Accuracy: 0.5082, Val Loss: 0.6941, Val Accuracy: 0.5150\n",
      "Epoch 42/50, Train Loss: 0.6941, Train Accuracy: 0.5012, Val Loss: 0.6944, Val Accuracy: 0.4950\n",
      "Epoch 43/50, Train Loss: 0.6956, Train Accuracy: 0.5182, Val Loss: 0.6946, Val Accuracy: 0.5050\n",
      "Epoch 44/50, Train Loss: 0.6934, Train Accuracy: 0.5241, Val Loss: 0.6934, Val Accuracy: 0.5050\n",
      "Epoch 45/50, Train Loss: 0.6955, Train Accuracy: 0.5135, Val Loss: 0.6938, Val Accuracy: 0.5000\n",
      "Epoch 46/50, Train Loss: 0.6961, Train Accuracy: 0.5071, Val Loss: 0.6938, Val Accuracy: 0.5100\n",
      "Epoch 47/50, Train Loss: 0.6919, Train Accuracy: 0.5171, Val Loss: 0.6939, Val Accuracy: 0.5100\n",
      "Epoch 48/50, Train Loss: 0.6956, Train Accuracy: 0.4988, Val Loss: 0.6933, Val Accuracy: 0.5050\n",
      "Epoch 49/50, Train Loss: 0.6934, Train Accuracy: 0.5159, Val Loss: 0.6935, Val Accuracy: 0.5100\n",
      "Epoch 50/50, Train Loss: 0.6950, Train Accuracy: 0.4929, Val Loss: 0.6936, Val Accuracy: 0.5150\n"
     ]
    }
   ],
   "source": [
    "\n",
    "optimizer = torch.optim.Adam(model.parameters(), lr=1e-4)\n",
    "from sklearn.metrics import accuracy_score\n",
    "\n",
    "\n",
    "device = torch.device('cuda')\n",
    "\n",
    "model.to(device)\n",
    "\n",
    "\n",
    "train_losses = []\n",
    "val_losses = []\n",
    "train_accuracies = []\n",
    "val_accuracies = []\n",
    "NUM_EPOCHS=50\n",
    "best_val_acc = float('-inf')\n",
    "\n",
    "\n",
    "for epoch in range(NUM_EPOCHS):\n",
    "    model.train()\n",
    "    total_train_loss = 0.0\n",
    "    correct_train = 0\n",
    "    total_train = 0\n",
    "    train_predicted = []\n",
    "    train_labels = []\n",
    "    for batch in train_loader:\n",
    "        input_ids = batch[0]['input_ids']\n",
    "        attention_mask = batch[0]['attention_mask']\n",
    "\n",
    "        labels = batch[1].to(device)\n",
    "        input_ids = input_ids.squeeze(1).to(device)\n",
    "        attention_mask = attention_mask.squeeze(1).to(device)\n",
    "        optimizer.zero_grad()\n",
    "\n",
    "        outputs = model(input_ids, attention_mask=attention_mask, labels=labels)\n",
    "        loss = outputs.loss\n",
    "        total_train_loss += loss.item()\n",
    "        loss.backward()\n",
    "        optimizer.step()\n",
    "        _, predicted = torch.max(outputs.logits, 1)\n",
    "        train_predicted.extend(predicted.tolist())\n",
    "        train_labels.extend(labels.tolist())\n",
    "        total_train += labels.size(0)\n",
    "        correct_train += (predicted == labels).sum().item()\n",
    "\n",
    "\n",
    "    train_loss = total_train_loss / len(train_loader)\n",
    "    train_acc_score = accuracy_score(train_labels, train_predicted)\n",
    "\n",
    "    train_losses.append(train_loss)\n",
    "    train_accuracies.append(train_acc_score)\n",
    "\n",
    "\n",
    "    # Validation\n",
    "    model.eval()\n",
    "    total_val_loss = 0.0\n",
    "    correct_val = 0\n",
    "    total_val = 0\n",
    "    val_predicted = []\n",
    "    val_labels = []\n",
    "\n",
    "    with torch.no_grad():\n",
    "        for batch in val_loader:\n",
    "            input_ids = batch[0]['input_ids']\n",
    "            attention_mask = batch[0]['attention_mask']\n",
    "\n",
    "            labels = batch[1].to(device)\n",
    "            input_ids = input_ids.squeeze(1).to(device)\n",
    "            attention_mask = attention_mask.squeeze(1).to(device)\n",
    "            optimizer.zero_grad()\n",
    "            outputs = model(input_ids, attention_mask=attention_mask, labels=labels)\n",
    "            loss = outputs.loss\n",
    "            total_val_loss += loss.item()\n",
    "            _, predicted = torch.max(outputs.logits, 1)\n",
    "            val_predicted.extend(predicted.tolist())\n",
    "            val_labels.extend(labels.tolist())\n",
    "            total_val += labels.size(0)\n",
    "            correct_val += (predicted == labels).sum().item()\n",
    "\n",
    "    val_loss = total_val_loss / len(val_loader)\n",
    "    val_acc_score = accuracy_score(val_labels, val_predicted)\n",
    "\n",
    "    val_losses.append(val_loss)\n",
    "    val_accuracies.append(val_acc_score)\n",
    "\n",
    "    if val_acc_score > best_val_acc:\n",
    "        best_val_acc = val_acc_score\n",
    "        torch.save(model.state_dict(), '/content/drive/MyDrive/NLP_milestone3_clinibert_train_dev.pth')\n",
    "\n",
    "    print(f'Epoch {epoch + 1}/{NUM_EPOCHS}, Train Loss: {train_loss:.4f}, Train Accuracy: {train_acc_score:.4f}, Val Loss: {val_loss:.4f}, Val Accuracy: {val_acc_score:.4f}')"
   ]
  },
  {
   "cell_type": "code",
   "execution_count": 20,
   "metadata": {
    "id": "Y8GxVfiCWwYb"
   },
   "outputs": [],
   "source": []
  },
  {
   "cell_type": "code",
   "execution_count": 20,
   "metadata": {
    "ExecuteTime": {
     "end_time": "2024-03-25T14:31:33.594107Z",
     "start_time": "2024-03-25T14:31:33.199764Z"
    },
    "id": "KiEbn2VaWwYb"
   },
   "outputs": [],
   "source": []
  },
  {
   "cell_type": "code",
   "execution_count": 21,
   "metadata": {
    "ExecuteTime": {
     "end_time": "2024-03-25T14:31:45.290760Z",
     "start_time": "2024-03-25T14:31:45.042919Z"
    },
    "colab": {
     "base_uri": "https://localhost:8080/",
     "height": 927
    },
    "id": "WZ1QXz4JWwYb",
    "outputId": "ba3319ed-86cc-4dab-f6d7-b8b6a60264a9"
   },
   "outputs": [
    {
     "data": {
      "image/png": "[encoded data removed]",
      "text/plain": [
       "<Figure size 640x480 with 1 Axes>"
      ]
     },
     "metadata": {},
     "output_type": "display_data"
    },
    {
     "data": {
      "image/png": "[encoded data removed]",
      "text/plain": [
       "<Figure size 640x480 with 1 Axes>"
      ]
     },
     "metadata": {},
     "output_type": "display_data"
    }
   ],
   "source": [
    "import matplotlib.pyplot as plt\n",
    "\n",
    "plt.plot(train_losses, label='Train Loss')\n",
    "plt.plot( val_losses, label='Val Loss')\n",
    "plt.xlabel('Epoch')\n",
    "plt.ylabel('Loss')\n",
    "plt.title('Training and Validation Loss')\n",
    "plt.legend()\n",
    "plt.show()\n",
    "\n",
    "plt.plot( train_accuracies, label='Train Accuracy')\n",
    "plt.plot( val_accuracies, label='Val Accuracy')\n",
    "plt.xlabel('Epoch')\n",
    "plt.ylabel('Accuracy')\n",
    "plt.title('Training and Validation Accuracy')\n",
    "plt.legend()\n",
    "plt.show()"
   ]
  },
  {
   "cell_type": "code",
   "execution_count": 21,
   "metadata": {
    "ExecuteTime": {
     "end_time": "2024-03-25T14:31:56.240551Z",
     "start_time": "2024-03-25T14:31:55.649993Z"
    },
    "id": "lKNYIhgMWwYb"
   },
   "outputs": [],
   "source": [
    "\n"
   ]
  },
  {
   "cell_type": "code",
   "execution_count": 21,
   "metadata": {
    "ExecuteTime": {
     "end_time": "2024-03-25T14:32:08.251628Z",
     "start_time": "2024-03-25T14:32:08.249450Z"
    },
    "id": "AEzPbdzAWwYc"
   },
   "outputs": [],
   "source": []
  },
  {
   "cell_type": "code",
   "execution_count": 22,
   "metadata": {
    "ExecuteTime": {
     "end_time": "2024-03-25T14:32:15.161235Z",
     "start_time": "2024-03-25T14:32:10.082137Z"
    },
    "colab": {
     "base_uri": "https://localhost:8080/"
    },
    "id": "3O9E0gmzWwYc",
    "outputId": "d7b3b3ed-63bf-426d-f2c3-da3a91195f31"
   },
   "outputs": [
    {
     "name": "stdout",
     "output_type": "stream",
     "text": [
      "Accuracy: 0.5150\n",
      "Precision: 0.5302, Recall: 0.5150, F1 Score: 0.4451\n"
     ]
    }
   ],
   "source": [
    "from sklearn.metrics import accuracy_score, precision_score, recall_score, f1_score\n",
    "import matplotlib.pyplot as plt\n",
    "\n",
    "model.eval()\n",
    "predictions = []\n",
    "true_labels = []\n",
    "\n",
    "with torch.no_grad():\n",
    "    for batch in val_loader:\n",
    "        input_ids = batch[0]['input_ids']\n",
    "        attention_mask = batch[0]['attention_mask']\n",
    "        labels = batch[1].to(device)\n",
    "        input_ids = input_ids.squeeze(1).to(device)\n",
    "        attention_mask = attention_mask.squeeze(1).to(device)\n",
    "        outputs = model(input_ids, attention_mask=attention_mask, labels=labels)\n",
    "        _, predicted = torch.max(outputs.logits, 1)\n",
    "        predictions.extend(predicted.tolist())\n",
    "        true_labels.extend(labels.tolist())\n",
    "\n",
    "true_labels = np.array(true_labels)\n",
    "predictions = np.array(predictions)\n",
    "\n",
    "accuracy = accuracy_score(true_labels, predictions)\n",
    "print(f'Accuracy: {accuracy:.4f}')\n",
    "\n",
    "precision = precision_score(true_labels, predictions, average='weighted')\n",
    "recall = recall_score(true_labels, predictions, average='weighted')\n",
    "f1 = f1_score(true_labels, predictions, average='weighted')\n",
    "\n",
    "print(f'Precision: {precision:.4f}, Recall: {recall:.4f}, F1 Score: {f1:.4f}')\n",
    "\n",
    "labels = ['Precision', 'Recall', 'F1 Score']\n",
    "scores = [precision, recall, f1]\n"
   ]
  },
  {
   "cell_type": "code",
   "execution_count": 23,
   "metadata": {
    "ExecuteTime": {
     "end_time": "2024-03-25T14:32:23.979447Z",
     "start_time": "2024-03-25T14:32:23.911503Z"
    },
    "colab": {
     "base_uri": "https://localhost:8080/",
     "height": 472
    },
    "id": "s2jGpZXxWwYc",
    "outputId": "9d29f098-5f73-4fd9-c59c-15af4309d982"
   },
   "outputs": [
    {
     "data": {
      "image/png": "[encoded data removed]",
      "text/plain": [
       "<Figure size 640x480 with 1 Axes>"
      ]
     },
     "metadata": {},
     "output_type": "display_data"
    }
   ],
   "source": [
    "\n",
    "plt.bar(labels, scores)\n",
    "plt.xlabel('Metrics')\n",
    "plt.ylabel('Scores')\n",
    "plt.title('Model Evaluation Metrics')\n",
    "plt.show()\n",
    "\n",
    "\n"
   ]
  },
  {
   "cell_type": "code",
   "execution_count": 24,
   "metadata": {
    "colab": {
     "base_uri": "https://localhost:8080/"
    },
    "id": "mCDJs9VpWwYc",
    "outputId": "fe7211af-e43b-4235-d125-7ad7d66a0b32"
   },
   "outputs": [
    {
     "data": {
      "text/plain": [
       "BertForSequenceClassification(\n",
       "  (bert): BertModel(\n",
       "    (embeddings): BertEmbeddings(\n",
       "      (word_embeddings): Embedding(28996, 768, padding_idx=0)\n",
       "      (position_embeddings): Embedding(512, 768)\n",
       "      (token_type_embeddings): Embedding(2, 768)\n",
       "      (LayerNorm): LayerNorm((768,), eps=1e-12, elementwise_affine=True)\n",
       "      (dropout): Dropout(p=0.1, inplace=False)\n",
       "    )\n",
       "    (encoder): BertEncoder(\n",
       "      (layer): ModuleList(\n",
       "        (0-11): 12 x BertLayer(\n",
       "          (attention): BertAttention(\n",
       "            (self): BertSelfAttention(\n",
       "              (query): Linear(in_features=768, out_features=768, bias=True)\n",
       "              (key): Linear(in_features=768, out_features=768, bias=True)\n",
       "              (value): Linear(in_features=768, out_features=768, bias=True)\n",
       "              (dropout): Dropout(p=0.1, inplace=False)\n",
       "            )\n",
       "            (output): BertSelfOutput(\n",
       "              (dense): Linear(in_features=768, out_features=768, bias=True)\n",
       "              (LayerNorm): LayerNorm((768,), eps=1e-12, elementwise_affine=True)\n",
       "              (dropout): Dropout(p=0.1, inplace=False)\n",
       "            )\n",
       "          )\n",
       "          (intermediate): BertIntermediate(\n",
       "            (dense): Linear(in_features=768, out_features=3072, bias=True)\n",
       "            (intermediate_act_fn): GELUActivation()\n",
       "          )\n",
       "          (output): BertOutput(\n",
       "            (dense): Linear(in_features=3072, out_features=768, bias=True)\n",
       "            (LayerNorm): LayerNorm((768,), eps=1e-12, elementwise_affine=True)\n",
       "            (dropout): Dropout(p=0.1, inplace=False)\n",
       "          )\n",
       "        )\n",
       "      )\n",
       "    )\n",
       "    (pooler): BertPooler(\n",
       "      (dense): Linear(in_features=768, out_features=768, bias=True)\n",
       "      (activation): Tanh()\n",
       "    )\n",
       "  )\n",
       "  (dropout): Dropout(p=0.1, inplace=False)\n",
       "  (classifier): Linear(in_features=768, out_features=2, bias=True)\n",
       ")"
      ]
     },
     "execution_count": 24,
     "metadata": {},
     "output_type": "execute_result"
    }
   ],
   "source": [
    "# model.load_state_dict(torch.load('milestone2_NLP_model_state.pth'))\n",
    "\n",
    "model.eval()"
   ]
  },
  {
   "cell_type": "code",
   "execution_count": 25,
   "metadata": {
    "id": "1AWfIy2TWwYc"
   },
   "outputs": [],
   "source": [
    "\n",
    "json_file_path = '/content/drive/MyDrive/gold_practice_test.json'\n",
    "import json\n",
    "# Load the JSON file\n",
    "with open(json_file_path, 'r') as file:\n",
    "    gold_practice_test = json.load(file)"
   ]
  },
  {
   "cell_type": "code",
   "execution_count": 26,
   "metadata": {
    "id": "oLxppiLrWwYc"
   },
   "outputs": [],
   "source": [
    "gold_test = preprocess_data(gold_practice_test)"
   ]
  },
  {
   "cell_type": "code",
   "execution_count": 27,
   "metadata": {
    "id": "rJTW56IUWwYc"
   },
   "outputs": [],
   "source": [
    "from torch.utils.data import DataLoader\n",
    "\n",
    "batch_size = 64\n",
    "gold_test_loader = DataLoader(gold_test, batch_size=batch_size)"
   ]
  },
  {
   "cell_type": "code",
   "execution_count": 28,
   "metadata": {
    "id": "jThPIaIBWwYc"
   },
   "outputs": [],
   "source": [
    "from sklearn.metrics import accuracy_score, precision_score, recall_score, f1_score\n",
    "import matplotlib.pyplot as plt\n",
    "\n",
    "model.eval()\n",
    "predictions = []\n",
    "true_labels = []\n",
    "\n",
    "with torch.no_grad():\n",
    "    for batch in gold_test_loader:\n",
    "        input_ids = batch[0]['input_ids']\n",
    "        attention_mask = batch[0]['attention_mask']\n",
    "        labels = batch[1].to(device)\n",
    "        input_ids = input_ids.squeeze(1).to(device)\n",
    "        attention_mask = attention_mask.squeeze(1).to(device)\n",
    "        outputs = model(input_ids, attention_mask=attention_mask, labels=labels)\n",
    "        _, predicted = torch.max(outputs.logits, 1)\n",
    "        predictions.extend(predicted.tolist())\n",
    "        true_labels.extend(labels.tolist())\n"
   ]
  },
  {
   "cell_type": "code",
   "execution_count": 29,
   "metadata": {
    "colab": {
     "base_uri": "https://localhost:8080/"
    },
    "id": "RT8ByVLtWwYc",
    "outputId": "66434e72-8313-4574-ef3a-69e7a870f41a"
   },
   "outputs": [
    {
     "name": "stdout",
     "output_type": "stream",
     "text": [
      "Accuracy: 0.3917\n",
      "Precision: 0.5707, Recall: 0.3917, F1 Score: 0.3236\n"
     ]
    }
   ],
   "source": [
    "import numpy as np\n",
    "\n",
    "true_labels = np.array(true_labels)\n",
    "predictions = np.array(predictions)\n",
    "\n",
    "accuracy = accuracy_score(true_labels, predictions)\n",
    "print(f'Accuracy: {accuracy:.4f}')\n",
    "\n",
    "precision = precision_score(true_labels, predictions, average='weighted')\n",
    "recall = recall_score(true_labels, predictions, average='weighted')\n",
    "f1 = f1_score(true_labels, predictions, average='weighted')\n",
    "\n",
    "print(f'Precision: {precision:.4f}, Recall: {recall:.4f}, F1 Score: {f1:.4f}')\n",
    "\n",
    "labels = ['Precision', 'Recall', 'F1 Score']\n",
    "scores = [precision, recall, f1]\n"
   ]
  },
  {
   "cell_type": "code",
   "execution_count": 30,
   "metadata": {
    "id": "8vWQa6DxWwYc"
   },
   "outputs": [],
   "source": [
    "if len(true_labels) != len(predictions):\n",
    "        raise ValueError(\"The lists of predictions must have the same length.\")\n",
    "faithfulness = sum(abs(o - c) for o, c in zip(true_labels, predictions)) / len(true_labels)"
   ]
  },
  {
   "cell_type": "code",
   "execution_count": 31,
   "metadata": {
    "colab": {
     "base_uri": "https://localhost:8080/"
    },
    "id": "4oQUSYVWWwYd",
    "outputId": "14284c88-081c-4d38-8de5-b953c4b45e69"
   },
   "outputs": [
    {
     "name": "stdout",
     "output_type": "stream",
     "text": [
      "[0.60830999]\n"
     ]
    }
   ],
   "source": [
    "print(faithfulness)"
   ]
  },
  {
   "cell_type": "code",
   "execution_count": 32,
   "metadata": {
    "id": "noq8VxO0WwYd"
   },
   "outputs": [],
   "source": [
    "if len(true_labels) != len(predictions):\n",
    "        raise ValueError(\"The lists of predictions must have the same length.\")\n",
    "consistency = sum(1-abs(o - c) for o, c in zip(true_labels, predictions)) / len(true_labels)"
   ]
  },
  {
   "cell_type": "code",
   "execution_count": 33,
   "metadata": {
    "colab": {
     "base_uri": "https://localhost:8080/"
    },
    "id": "MsOBJzu3WwYd",
    "outputId": "81bc68fe-c1dd-4fa7-ff39-a118ea8699e8"
   },
   "outputs": [
    {
     "name": "stdout",
     "output_type": "stream",
     "text": [
      "[0.39169001]\n"
     ]
    }
   ],
   "source": [
    "print(consistency)"
   ]
  },
  {
   "cell_type": "code",
   "execution_count": 34,
   "metadata": {
    "id": "ozkt5EPDWwYd"
   },
   "outputs": [],
   "source": [
    "json_file_path = '/content/drive/MyDrive/test.json'\n",
    "import json\n",
    "with open(json_file_path, 'r') as file:\n",
    "    test_data = json.load(file)\n",
    "\n"
   ]
  },
  {
   "cell_type": "code",
   "execution_count": 35,
   "metadata": {
    "id": "AmzXE-fZWwYd"
   },
   "outputs": [],
   "source": [
    "import json\n",
    "\n",
    "test_preprocessed_data = []\n",
    "data_ids = [] \n",
    "\n",
    "for data_id, data in test_data.items():\n",
    "    ctr_1 = data['Primary_id'] + '.json'\n",
    "    ctr_1f = os.path.join('/content/drive/MyDrive/CT json', ctr_1)\n",
    "    secondaryid_exists = False\n",
    "    if 'Secondary_id' in data:\n",
    "        ctr_2 = data['Secondary_id'] + '.json'\n",
    "        ctr_2f = os.path.join('/content/drive/MyDrive/CT json', ctr_2)\n",
    "        secondaryid_exists = True\n",
    "\n",
    "    with open(ctr_1f, 'r') as file:\n",
    "        ctr_a = json.load(file)\n",
    "        if secondaryid_exists:\n",
    "            with open(ctr_2f, 'r') as file:\n",
    "                ctr_b = json.load(file)\n",
    "            ctr = \" \".join(ctr_a[data['Section_id']]) + \" [SEP] \" + \\\n",
    "                  \" \".join(ctr_b[data[\"Section_id\"]]) + \" [SEP] \" + data[\"Statement\"]\n",
    "        else:\n",
    "            ctr = \" \".join(ctr_a[data['Section_id']]) + \" [SEP] \" + data[\"Statement\"]\n",
    "\n",
    "    ctr = ctr.lower()\n",
    "    url_ptrn = r'http[s]?://(?:[a-zA-Z]|[0-9]|[$-_@.&+]|[!*\\\\(\\\\),]|(?:%[0-9a-fA-F][0-9a-fA-F]))+'\n",
    "    ctr = re.sub(url_ptrn, '', ctr)\n",
    "    ctr = re.sub(r'[^\\w\\s]', '', ctr)\n",
    "\n",
    "    inputs = tokenizer(ctr, return_tensors='pt', max_length=512, padding='max_length', truncation=True)\n",
    "\n",
    "    test_preprocessed_data.append(inputs)\n",
    "    data_ids.append(data_id) \n"
   ]
  },
  {
   "cell_type": "code",
   "execution_count": 36,
   "metadata": {
    "id": "qT4KFz0pWwYd"
   },
   "outputs": [],
   "source": [
    "from torch.utils.data import DataLoader\n",
    "\n",
    "batch_size = 32\n",
    "test_loader = DataLoader(test_preprocessed_data, batch_size=batch_size)"
   ]
  },
  {
   "cell_type": "code",
   "execution_count": 37,
   "metadata": {
    "id": "sLhB0eo5WwYd"
   },
   "outputs": [],
   "source": [
    "\n",
    "model.eval()\n",
    "predictions = []\n",
    "\n",
    "with torch.no_grad():\n",
    "    for batch in test_loader: \n",
    "        input_ids = batch['input_ids']\n",
    "        attention_mask = batch['attention_mask']\n",
    "        input_ids = input_ids.squeeze(1).to(device)\n",
    "        attention_mask = attention_mask.squeeze(1).to(device)\n",
    "        outputs = model(input_ids, attention_mask=attention_mask)\n",
    "        _, predicted = torch.max(outputs.logits, 1)\n",
    "        predictions.extend(predicted.tolist())\n"
   ]
  },
  {
   "cell_type": "code",
   "execution_count": 38,
   "metadata": {
    "colab": {
     "base_uri": "https://localhost:8080/"
    },
    "id": "oael2oOrWwYe",
    "outputId": "31f1d231-396c-463b-bc5d-6e4ae0759158"
   },
   "outputs": [
    {
     "name": "stdout",
     "output_type": "stream",
     "text": [
      "Predictions saved to: /content/drive/MyDrive/predictions_train_dev.json\n"
     ]
    }
   ],
   "source": [
    "\n",
    "predictions_dict = {}\n",
    "for data_id, prediction in zip(data_ids, predictions):\n",
    "    prediction_label = \"Contradiction\" if prediction == 0 else \"Entailment\"\n",
    "    predictions_dict[data_id] = {\"Prediction\": prediction_label}\n",
    "\n",
    "output_file_path = '/content/drive/MyDrive/predictions_train_dev.json'\n",
    "with open(output_file_path, \"w\") as f:\n",
    "    json.dump(predictions_dict, f, indent=4)\n",
    "\n",
    "print(\"Predictions saved to:\", output_file_path)\n"
   ]
  }
 ],
 "metadata": {
  "accelerator": "GPU",
  "colab": {
   "gpuType": "T4",
   "provenance": []
  },
  "kernelspec": {
   "display_name": "Python 3 (ipykernel)",
   "language": "python",
   "name": "python3"
  },
  "language_info": {
   "codemirror_mode": {
    "name": "ipython",
    "version": 3
   },
   "file_extension": ".py",
   "mimetype": "text/x-python",
   "name": "python",
   "nbconvert_exporter": "python",
   "pygments_lexer": "ipython3",
   "version": "3.11.5"
  }
 },
 "nbformat": 4,
 "nbformat_minor": 1
}
