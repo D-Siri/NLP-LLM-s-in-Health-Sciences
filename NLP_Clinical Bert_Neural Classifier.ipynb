{
  "cells": [
    {
      "cell_type": "code",
      "execution_count": 2,
      "metadata": {
        "colab": {
          "base_uri": "https://localhost:8080/"
        },
        "id": "F8AikVeadayd",
        "outputId": "9b0f8c74-815b-494e-d273-2102ccd251a7"
      },
      "outputs": [
        {
          "name": "stdout",
          "output_type": "stream",
          "text": [
            "Mounted at /content/drive\n"
          ]
        }
      ],
      "source": [
        "from google.colab import drive\n",
        "drive.mount('/content/drive')"
      ]
    },
    {
      "cell_type": "code",
      "execution_count": 3,
      "metadata": {
        "ExecuteTime": {
          "end_time": "2024-03-25T12:44:28.900350Z",
          "start_time": "2024-03-25T12:44:28.892923Z"
        },
        "id": "mwbaGfWidWz_"
      },
      "outputs": [],
      "source": [
        "json_file_path = '/content/drive/MyDrive/Colab Notebooks/train.json'\n",
        "import json\n",
        "with open(json_file_path, 'r') as file:\n",
        "    train_data = json.load(file)\n"
      ]
    },
    {
      "cell_type": "code",
      "execution_count": 4,
      "metadata": {
        "colab": {
          "base_uri": "https://localhost:8080/",
          "height": 240,
          "referenced_widgets": [
            "8dffa86154de40d8b94787cdc84bc582",
            "8d9ae6e943584277924d3546d8f7e252",
            "3b6cff79d9924a6087b6ed35733014ff",
            "fc7a341595f44f23a7b073ed3a10aec2",
            "190df5c113514c519a700ab271d7ae37",
            "9438869d51724a6a91c1ff34171e8d28",
            "66859d8fbfa540979bee2cd60e05f96e",
            "0b83a9c16f824c1eb2a7d661fa853da7",
            "6e8a6674e80c4063924f91c36247d58a",
            "e120ba3f0ff84cc4ad5b8e3feeff5a13",
            "8873633682a742639abafcec2c19b8ef",
            "a76a11ccc7f045e9a1330815cd6e3494",
            "bfd4d0ba654f4973930a4197c2d6ac8a",
            "139a9379c9f94b848c42171da4f04cc3",
            "09a32acdda0e407cb204d4dd45b30830",
            "8b492481a567406ab37c5945240d7121",
            "7cdb07ef66e54d2f912e0b7cdb5c684f",
            "1af2b12a725a4c9987c1508489898ad4",
            "8575f02257fc4793abfa06c3f68c9a82",
            "ecf22ab90d84443aa5bd122562c05ac9",
            "d808f7e86e82402498514aa890ef5fe1",
            "a9202baf1db442bc94eaa10700026e7d",
            "2a69b45db15743b5a6d859acfce153fe",
            "3c2f7b77367c48be87d71cf8e97baf40",
            "73fb1d2eed2c408093755be0745a5f43",
            "505aa86af66e45b89b240d506cfe9b92",
            "5968b50e6e6f402c86767cde56f641c8",
            "148a34f64e5745d78f5da0257592306d",
            "be27f896fe634b29a746849cc4cca27a",
            "5ac5e4a0acb24e65b3c867bc182c99e7",
            "5c727aee871a42e6a5c94f7aeaa9f8bd",
            "33e6671462fd477aae9189409de79797",
            "093d9f5b4a154142967c5c0b161dbf24"
          ]
        },
        "id": "fAlDwkbKdW0B",
        "outputId": "14cad559-1d53-495e-c27f-0e126f79300e"
      },
      "outputs": [
        {
          "name": "stderr",
          "output_type": "stream",
          "text": [
            "/usr/local/lib/python3.10/dist-packages/huggingface_hub/utils/_token.py:88: UserWarning: \n",
            "The secret `HF_TOKEN` does not exist in your Colab secrets.\n",
            "To authenticate with the Hugging Face Hub, create a token in your settings tab (https://huggingface.co/settings/tokens), set it as secret in your Google Colab and restart your session.\n",
            "You will be able to reuse this secret in all of your notebooks.\n",
            "Please note that authentication is recommended but still optional to access public models or datasets.\n",
            "  warnings.warn(\n"
          ]
        },
        {
          "data": {
            "application/vnd.jupyter.widget-view+json": {
              "model_id": "8dffa86154de40d8b94787cdc84bc582",
              "version_major": 2,
              "version_minor": 0
            },
            "text/plain": [
              "vocab.txt:   0%|          | 0.00/213k [00:00<?, ?B/s]"
            ]
          },
          "metadata": {},
          "output_type": "display_data"
        },
        {
          "data": {
            "application/vnd.jupyter.widget-view+json": {
              "model_id": "a76a11ccc7f045e9a1330815cd6e3494",
              "version_major": 2,
              "version_minor": 0
            },
            "text/plain": [
              "config.json:   0%|          | 0.00/385 [00:00<?, ?B/s]"
            ]
          },
          "metadata": {},
          "output_type": "display_data"
        },
        {
          "data": {
            "application/vnd.jupyter.widget-view+json": {
              "model_id": "2a69b45db15743b5a6d859acfce153fe",
              "version_major": 2,
              "version_minor": 0
            },
            "text/plain": [
              "pytorch_model.bin:   0%|          | 0.00/436M [00:00<?, ?B/s]"
            ]
          },
          "metadata": {},
          "output_type": "display_data"
        }
      ],
      "source": [
        "import torch\n",
        "from transformers import BertTokenizer, BertModel\n",
        "tokenizer = BertTokenizer.from_pretrained('emilyalsentzer/Bio_ClinicalBERT')\n",
        "clinical_bert_model = BertModel.from_pretrained('emilyalsentzer/Bio_ClinicalBERT')\n"
      ]
    },
    {
      "cell_type": "code",
      "execution_count": 5,
      "metadata": {
        "colab": {
          "base_uri": "https://localhost:8080/"
        },
        "id": "JyOwkKzodW0C",
        "outputId": "155024a2-ffc9-44fd-900a-b58c5c17fd2f"
      },
      "outputs": [
        {
          "name": "stdout",
          "output_type": "stream",
          "text": [
            "BertModel(\n",
            "  (embeddings): BertEmbeddings(\n",
            "    (word_embeddings): Embedding(28996, 768, padding_idx=0)\n",
            "    (position_embeddings): Embedding(512, 768)\n",
            "    (token_type_embeddings): Embedding(2, 768)\n",
            "    (LayerNorm): LayerNorm((768,), eps=1e-12, elementwise_affine=True)\n",
            "    (dropout): Dropout(p=0.1, inplace=False)\n",
            "  )\n",
            "  (encoder): BertEncoder(\n",
            "    (layer): ModuleList(\n",
            "      (0-11): 12 x BertLayer(\n",
            "        (attention): BertAttention(\n",
            "          (self): BertSelfAttention(\n",
            "            (query): Linear(in_features=768, out_features=768, bias=True)\n",
            "            (key): Linear(in_features=768, out_features=768, bias=True)\n",
            "            (value): Linear(in_features=768, out_features=768, bias=True)\n",
            "            (dropout): Dropout(p=0.1, inplace=False)\n",
            "          )\n",
            "          (output): BertSelfOutput(\n",
            "            (dense): Linear(in_features=768, out_features=768, bias=True)\n",
            "            (LayerNorm): LayerNorm((768,), eps=1e-12, elementwise_affine=True)\n",
            "            (dropout): Dropout(p=0.1, inplace=False)\n",
            "          )\n",
            "        )\n",
            "        (intermediate): BertIntermediate(\n",
            "          (dense): Linear(in_features=768, out_features=3072, bias=True)\n",
            "          (intermediate_act_fn): GELUActivation()\n",
            "        )\n",
            "        (output): BertOutput(\n",
            "          (dense): Linear(in_features=3072, out_features=768, bias=True)\n",
            "          (LayerNorm): LayerNorm((768,), eps=1e-12, elementwise_affine=True)\n",
            "          (dropout): Dropout(p=0.1, inplace=False)\n",
            "        )\n",
            "      )\n",
            "    )\n",
            "  )\n",
            "  (pooler): BertPooler(\n",
            "    (dense): Linear(in_features=768, out_features=768, bias=True)\n",
            "    (activation): Tanh()\n",
            "  )\n",
            ")\n"
          ]
        }
      ],
      "source": [
        "print(clinical_bert_model)"
      ]
    },
    {
      "cell_type": "code",
      "execution_count": 6,
      "metadata": {
        "ExecuteTime": {
          "end_time": "2024-03-25T12:44:33.350766Z",
          "start_time": "2024-03-25T12:44:33.348680Z"
        },
        "id": "NSQcLREYdW0C"
      },
      "outputs": [],
      "source": [
        "label_mapping = {\n",
        "    'Entailment': 1,\n",
        "    'Contradiction': 0\n",
        "}"
      ]
    },
    {
      "cell_type": "code",
      "execution_count": 7,
      "metadata": {
        "id": "WcRHx_HqdW0D"
      },
      "outputs": [],
      "source": [
        "import json\n",
        "import os\n",
        "import re\n",
        "import random\n",
        "from torch.utils.data import DataLoader\n",
        "\n",
        "\n",
        "ctr_json_folder = '/content/drive/MyDrive/Colab Notebooks/CT json' \n",
        "\n",
        "\n",
        "\n",
        "\n",
        "def preprocess_data(train_data):\n",
        "    preprocessed_data = []\n",
        "    augmented_data = []  \n",
        "    for data_id, data in train_data.items():\n",
        "        ctr_1 = data['Primary_id'] + '.json'\n",
        "        ctr_1f = os.path.join(ctr_json_folder, ctr_1)\n",
        "        secondaryid_exists = False\n",
        "        if 'Secondary_id' in data:\n",
        "            ctr_2 = data['Secondary_id'] + '.json'\n",
        "            ctr_2f = os.path.join(ctr_json_folder, ctr_2)\n",
        "            secondaryid_exists = True\n",
        "\n",
        "        with open(ctr_1f, 'r') as file:\n",
        "            ctr_a = json.load(file)\n",
        "            if secondaryid_exists:\n",
        "                with open(ctr_2f, 'r') as file:\n",
        "                    ctr_b = json.load(file)\n",
        "                ctr = \"Compare CTR 1\" + \" [SEP] \".join(ctr_a[data['Section_id']])  + \"[SEP]\"+ \"and CTR 2\" + \" [SEP] \".join(\n",
        "                    ctr_b[data[\"Section_id\"]]) + \"to determine if the given statement\" + \" [SEP] \" + data[\"Statement\"] +\"[SEP]\"+\"is true\"\n",
        "            else:\n",
        "                ctr = \"Analyze CTR 1\" + \" [SEP] \".join(ctr_a[data['Section_id']]) + \"[SEP]\"+\" To determine if the given Statement\" + \" [SEP] \" + data[\"Statement\"]+\"[SEP]\"+\"is true\"\n",
        "        ctr = ctr.lower()\n",
        "        url_ptrn = r'http[s]?://(?:[a-zA-Z]|[0-9]|[$-_@.&+]|[!*\\\\(\\\\),]|(?:%[0-9a-fA-F][0-9a-fA-F]))+'\n",
        "\n",
        "        ctr = re.sub(url_ptrn, '', ctr)\n",
        "        ctr = re.sub(r'[^\\w\\s]', '', ctr)\n",
        "\n",
        "        inputs = tokenizer(ctr, return_tensors='pt', max_length=512, padding='max_length', truncation=True)\n",
        "        labels = torch.tensor([label_mapping[data['Label']]])\n",
        "\n",
        "        preprocessed_data.append((inputs, labels))\n",
        "\n",
        "    return preprocessed_data\n"
      ]
    },
    {
      "cell_type": "code",
      "execution_count": 8,
      "metadata": {
        "id": "JE5kSeNSdW0D"
      },
      "outputs": [],
      "source": [
        "\n",
        "\n",
        "preprocessed_data = preprocess_data(train_data)\n",
        "\n"
      ]
    },
    {
      "cell_type": "code",
      "execution_count": 9,
      "metadata": {
        "colab": {
          "base_uri": "https://localhost:8080/"
        },
        "id": "X5yBjTvIdW0D",
        "outputId": "2a8f9853-c6f1-40c7-94a1-2842d68e187f"
      },
      "outputs": [
        {
          "name": "stdout",
          "output_type": "stream",
          "text": [
            "1700\n"
          ]
        }
      ],
      "source": [
        "print(len(preprocessed_data))"
      ]
    },
    {
      "cell_type": "code",
      "execution_count": 10,
      "metadata": {
        "id": "UPq0TnY_dW0D"
      },
      "outputs": [],
      "source": [
        "import json\n",
        "with open('/content/drive/MyDrive/Colab Notebooks/dev.json', 'r') as file:\n",
        "    dev_data = json.load(file)\n",
        "\n",
        "dev_preprocessed_data = preprocess_data(dev_data)"
      ]
    },
    {
      "cell_type": "code",
      "execution_count": 11,
      "metadata": {
        "id": "mBplH-G8dW0D"
      },
      "outputs": [],
      "source": [
        "import numpy as np\n",
        "\n",
        "\n",
        "data = preprocessed_data + dev_preprocessed_data\n",
        "data = list(data)\n",
        "val_size = int(len(data) * 0.15)\n",
        "\n",
        "np.random.shuffle(data)\n",
        "\n",
        "val_data = data[:val_size]\n",
        "train_data = data[val_size:]\n"
      ]
    },
    {
      "cell_type": "code",
      "execution_count": 12,
      "metadata": {
        "id": "FYzEdLvQdW0E"
      },
      "outputs": [],
      "source": [
        "from torch.utils.data import DataLoader\n",
        "\n",
        "batch_size = 32\n",
        "train_loader = DataLoader(train_data, batch_size=batch_size)\n",
        "val_loader = DataLoader(val_data, batch_size=batch_size)"
      ]
    },
    {
      "cell_type": "code",
      "execution_count": 13,
      "metadata": {
        "ExecuteTime": {
          "end_time": "2024-03-25T12:45:37.137943Z",
          "start_time": "2024-03-25T12:45:37.135875Z"
        },
        "id": "WgiUCXgHdW0E"
      },
      "outputs": [],
      "source": [
        "for param in list(clinical_bert_model.parameters())[:-3]:\n",
        "    param.requires_grad = False"
      ]
    },
    {
      "cell_type": "code",
      "execution_count": 14,
      "metadata": {
        "id": "TFmlQ_kXdW0E"
      },
      "outputs": [],
      "source": [
        "import torch\n",
        "import torch.nn as nn\n",
        "import torch.optim as optim\n",
        "from torch.utils.data import DataLoader, TensorDataset\n",
        "import numpy as np\n",
        "import matplotlib.pyplot as plt\n",
        "from sklearn.metrics import confusion_matrix, classification_report"
      ]
    },
    {
      "cell_type": "code",
      "execution_count": 15,
      "metadata": {
        "ExecuteTime": {
          "end_time": "2024-03-25T14:15:26.365678Z",
          "start_time": "2024-03-25T12:46:04.369754Z"
        },
        "colab": {
          "base_uri": "https://localhost:8080/"
        },
        "id": "g3bKniqRdW0E",
        "outputId": "c3688e12-e1ac-4123-86d3-ad57831edd86"
      },
      "outputs": [
        {
          "name": "stdout",
          "output_type": "stream",
          "text": [
            "Epoch 1/20, Train Loss: 0.6968, Train Accuracy: 0.4712, Val Loss: 0.6938, Val Accuracy: 0.4877\n",
            "Epoch 2/20, Train Loss: 0.6955, Train Accuracy: 0.5009, Val Loss: 0.6939, Val Accuracy: 0.4877\n",
            "Epoch 3/20, Train Loss: 0.6947, Train Accuracy: 0.5090, Val Loss: 0.6934, Val Accuracy: 0.5088\n",
            "Epoch 4/20, Train Loss: 0.6945, Train Accuracy: 0.4954, Val Loss: 0.6936, Val Accuracy: 0.4807\n",
            "Epoch 5/20, Train Loss: 0.6939, Train Accuracy: 0.4885, Val Loss: 0.6942, Val Accuracy: 0.4842\n",
            "Epoch 6/20, Train Loss: 0.6940, Train Accuracy: 0.4954, Val Loss: 0.6938, Val Accuracy: 0.4807\n",
            "Epoch 7/20, Train Loss: 0.6941, Train Accuracy: 0.5040, Val Loss: 0.6939, Val Accuracy: 0.4947\n",
            "Epoch 8/20, Train Loss: 0.6940, Train Accuracy: 0.4923, Val Loss: 0.6941, Val Accuracy: 0.4702\n",
            "Epoch 9/20, Train Loss: 0.6938, Train Accuracy: 0.5189, Val Loss: 0.6943, Val Accuracy: 0.4702\n",
            "Epoch 10/20, Train Loss: 0.6940, Train Accuracy: 0.4966, Val Loss: 0.6944, Val Accuracy: 0.5018\n",
            "Epoch 11/20, Train Loss: 0.6940, Train Accuracy: 0.4848, Val Loss: 0.6947, Val Accuracy: 0.4807\n",
            "Epoch 12/20, Train Loss: 0.6938, Train Accuracy: 0.4966, Val Loss: 0.6949, Val Accuracy: 0.4667\n",
            "Epoch 13/20, Train Loss: 0.6938, Train Accuracy: 0.4985, Val Loss: 0.6956, Val Accuracy: 0.4772\n",
            "Epoch 14/20, Train Loss: 0.6934, Train Accuracy: 0.4960, Val Loss: 0.6956, Val Accuracy: 0.4702\n",
            "Epoch 15/20, Train Loss: 0.6936, Train Accuracy: 0.5071, Val Loss: 0.6960, Val Accuracy: 0.4877\n",
            "Epoch 16/20, Train Loss: 0.6923, Train Accuracy: 0.5003, Val Loss: 0.6967, Val Accuracy: 0.4737\n",
            "Epoch 17/20, Train Loss: 0.6926, Train Accuracy: 0.5065, Val Loss: 0.6974, Val Accuracy: 0.4491\n",
            "Epoch 18/20, Train Loss: 0.6930, Train Accuracy: 0.5015, Val Loss: 0.6977, Val Accuracy: 0.4421\n",
            "Epoch 19/20, Train Loss: 0.6928, Train Accuracy: 0.4978, Val Loss: 0.6979, Val Accuracy: 0.4246\n",
            "Epoch 20/20, Train Loss: 0.6925, Train Accuracy: 0.5164, Val Loss: 0.6988, Val Accuracy: 0.4421\n"
          ]
        }
      ],
      "source": [
        "import torch.nn.functional as F\n",
        "import torch.nn as nn\n",
        "import torch.nn.functional as F\n",
        "\n",
        "class CustomClassifier(nn.Module):\n",
        "    def __init__(self, bert_model, num_classes):\n",
        "        super().__init__()\n",
        "        self.bert = bert_model\n",
        "        self.classifier = nn.Sequential(\n",
        "            nn.Linear(768, 512),  \n",
        "            nn.ReLU(),            \n",
        "            nn.Dropout(0.1),      \n",
        "            nn.Linear(512, 256),  \n",
        "            nn.ReLU(),            \n",
        "            nn.Dropout(0.1),     \n",
        "            nn.Linear(256, num_classes)  \n",
        "        )\n",
        "\n",
        "    def forward(self, input_ids, attention_mask, labels=None):\n",
        "        outputs = self.bert(input_ids, attention_mask=attention_mask)\n",
        "        pooled_output = outputs.pooler_output  \n",
        "\n",
        "        logits = self.classifier(pooled_output)\n",
        "        return logits\n",
        "\n",
        "num_classes = 2  \n",
        "model = CustomClassifier(clinical_bert_model, num_classes)\n",
        "\n",
        "\n",
        "\n",
        "optimizer = torch.optim.AdamW(model.parameters(), lr=1e-4)\n",
        "from sklearn.metrics import accuracy_score\n",
        "\n",
        "\n",
        "device = torch.device('cuda')\n",
        "\n",
        "model.to(device)\n",
        "\n",
        "train_losses = []\n",
        "val_losses = []\n",
        "train_accuracies = []\n",
        "val_accuracies = []\n",
        "NUM_EPOCHS=20\n",
        "best_val_acc = float('-inf')\n",
        "\n",
        "\n",
        "for epoch in range(NUM_EPOCHS):\n",
        "    model.train()\n",
        "    total_train_loss = 0.0\n",
        "    correct_train = 0\n",
        "    total_train = 0\n",
        "    train_predicted = []\n",
        "    train_labels = []\n",
        "    for batch in train_loader:\n",
        "        input_ids = batch[0]['input_ids']\n",
        "        attention_mask = batch[0]['attention_mask']\n",
        "\n",
        "        labels = batch[1]\n",
        "        labels.to(device)\n",
        "        input_ids = input_ids.squeeze(1).to(device)\n",
        "        attention_mask = attention_mask.squeeze(1).to(device)\n",
        "        optimizer.zero_grad()\n",
        "        logits = model(input_ids, attention_mask).to(device)\n",
        "        loss_fn = nn.CrossEntropyLoss()\n",
        "        logits = logits.squeeze(1)\n",
        "        labels = labels.squeeze(1)\n",
        "\n",
        "        labels = labels.to(logits.device)\n",
        "\n",
        "        loss = F.binary_cross_entropy_with_logits(logits[:, 1], labels.float())\n",
        "\n",
        "        loss.backward()\n",
        "\n",
        "        total_train_loss += loss.item()\n",
        "\n",
        "        optimizer.step()\n",
        "        _, predicted = torch.max(logits, 1)\n",
        "        train_predicted.extend(predicted.tolist())\n",
        "        train_labels.extend(labels.tolist())\n",
        "        total_train += labels.size(0)\n",
        "        correct_train += (predicted == labels).sum().item()\n",
        "\n",
        "\n",
        "    train_loss = total_train_loss / len(train_loader)\n",
        "    train_acc_score = accuracy_score(train_labels, train_predicted)\n",
        "\n",
        "    train_losses.append(train_loss)\n",
        "    train_accuracies.append(train_acc_score)\n",
        "\n",
        "\n",
        "    # Validation\n",
        "    model.eval()\n",
        "    total_val_loss = 0.0\n",
        "    correct_val = 0\n",
        "    total_val = 0\n",
        "    val_predicted = []\n",
        "    val_labels = []\n",
        "\n",
        "    with torch.no_grad():\n",
        "        for batch in val_loader:\n",
        "            input_ids = batch[0]['input_ids']\n",
        "            attention_mask = batch[0]['attention_mask']\n",
        "\n",
        "            labels = batch[1]\n",
        "            labels.to(device)\n",
        "            input_ids = input_ids.squeeze(1).to(device)\n",
        "            attention_mask = attention_mask.squeeze(1).to(device)\n",
        "            optimizer.zero_grad()\n",
        "            logits = model(input_ids, attention_mask).to(device)\n",
        "            loss_fn = nn.CrossEntropyLoss()\n",
        "            logits = logits.squeeze(1)\n",
        "            labels = labels.squeeze(1)\n",
        "\n",
        "            labels = labels.to(logits.device)\n",
        "\n",
        "            loss = F.binary_cross_entropy_with_logits(logits[:, 1], labels.float())\n",
        "\n",
        "            total_val_loss += loss.item()\n",
        "            _, predicted = torch.max(logits, 1)\n",
        "            val_predicted.extend(predicted.tolist())\n",
        "            val_labels.extend(labels.tolist())\n",
        "            total_val += labels.size(0)\n",
        "            correct_val += (predicted == labels).sum().item()\n",
        "\n",
        "    val_loss = total_val_loss / len(val_loader)\n",
        "    val_acc_score = accuracy_score(val_labels, val_predicted)\n",
        "\n",
        "    val_losses.append(val_loss)\n",
        "    val_accuracies.append(val_acc_score)\n",
        "\n",
        "    if val_acc_score > best_val_acc:\n",
        "        best_val_acc = val_acc_score\n",
        "        torch.save(model.state_dict(), 'NLP_milestone3_withoutAug_snow_model_state.pth')\n",
        "\n",
        "    print(f'Epoch {epoch + 1}/{NUM_EPOCHS}, Train Loss: {train_loss:.4f}, Train Accuracy: {train_acc_score:.4f}, Val Loss: {val_loss:.4f}, Val Accuracy: {val_acc_score:.4f}')"
      ]
    },
    {
      "cell_type": "code",
      "execution_count": null,
      "metadata": {
        "ExecuteTime": {
          "end_time": "2024-03-25T14:31:33.594107Z",
          "start_time": "2024-03-25T14:31:33.199764Z"
        },
        "id": "Eph4Af4tdW0F"
      },
      "outputs": [],
      "source": []
    },
    {
      "cell_type": "code",
      "execution_count": 16,
      "metadata": {
        "ExecuteTime": {
          "end_time": "2024-03-25T14:31:45.290760Z",
          "start_time": "2024-03-25T14:31:45.042919Z"
        },
        "colab": {
          "base_uri": "https://localhost:8080/",
          "height": 927
        },
        "id": "JV372y6fdW0F",
        "outputId": "539e6fb4-2816-4e16-d1e8-75a4589dc553"
      },
      "outputs": [
        {
          "data": {
            "image/png": "[encoded data removed]",
            "text/plain": [
              "<Figure size 640x480 with 1 Axes>"
            ]
          },
          "metadata": {},
          "output_type": "display_data"
        },
        {
          "data": {
            "image/png": "[encoded data removed]",
            "text/plain": [
              "<Figure size 640x480 with 1 Axes>"
            ]
          },
          "metadata": {},
          "output_type": "display_data"
        }
      ],
      "source": [
        "import matplotlib.pyplot as plt\n",
        "\n",
        "plt.plot(train_losses, label='Train Loss')\n",
        "plt.plot( val_losses, label='Val Loss')\n",
        "plt.xlabel('Epoch')\n",
        "plt.ylabel('Loss')\n",
        "plt.title('Training and Validation Loss')\n",
        "plt.legend()\n",
        "plt.show()\n",
        "\n",
        "plt.plot( train_accuracies, label='Train Accuracy')\n",
        "plt.plot( val_accuracies, label='Val Accuracy')\n",
        "plt.xlabel('Epoch')\n",
        "plt.ylabel('Accuracy')\n",
        "plt.title('Training and Validation Accuracy')\n",
        "plt.legend()\n",
        "plt.show()"
      ]
    },
    {
      "cell_type": "code",
      "execution_count": null,
      "metadata": {
        "ExecuteTime": {
          "end_time": "2024-03-25T14:31:56.240551Z",
          "start_time": "2024-03-25T14:31:55.649993Z"
        },
        "id": "VSvrXpMQdW0F"
      },
      "outputs": [],
      "source": [
        "\n"
      ]
    },
    {
      "cell_type": "code",
      "execution_count": null,
      "metadata": {
        "ExecuteTime": {
          "end_time": "2024-03-25T14:32:08.251628Z",
          "start_time": "2024-03-25T14:32:08.249450Z"
        },
        "id": "f97s58srdW0F"
      },
      "outputs": [],
      "source": []
    },
    {
      "cell_type": "code",
      "execution_count": 17,
      "metadata": {
        "ExecuteTime": {
          "end_time": "2024-03-25T14:32:15.161235Z",
          "start_time": "2024-03-25T14:32:10.082137Z"
        },
        "colab": {
          "base_uri": "https://localhost:8080/"
        },
        "id": "5TxbCCmVdW0F",
        "outputId": "a5e00196-0cc6-4f3c-b0ae-616bc049034e"
      },
      "outputs": [
        {
          "name": "stdout",
          "output_type": "stream",
          "text": [
            "Accuracy: 0.4421\n",
            "Precision: 0.4400, Recall: 0.4421, F1 Score: 0.4401\n"
          ]
        }
      ],
      "source": [
        "from sklearn.metrics import accuracy_score, precision_score, recall_score, f1_score\n",
        "import matplotlib.pyplot as plt\n",
        "\n",
        "model.eval()\n",
        "predictions = []\n",
        "true_labels = []\n",
        "\n",
        "with torch.no_grad():\n",
        "    for batch in val_loader:\n",
        "        input_ids = batch[0]['input_ids']\n",
        "        attention_mask = batch[0]['attention_mask']\n",
        "        labels = batch[1].to(device)\n",
        "        input_ids = input_ids.squeeze(1).to(device)\n",
        "        attention_mask = attention_mask.squeeze(1).to(device)\n",
        "        outputs = model(input_ids, attention_mask=attention_mask, labels=labels)\n",
        "        _, predicted = torch.max(outputs, 1)\n",
        "        predictions.extend(predicted.tolist())\n",
        "        true_labels.extend(labels.tolist())\n",
        "\n",
        "true_labels = np.array(true_labels)\n",
        "predictions = np.array(predictions)\n",
        "\n",
        "accuracy = accuracy_score(true_labels, predictions)\n",
        "print(f'Accuracy: {accuracy:.4f}')\n",
        "\n",
        "precision = precision_score(true_labels, predictions, average='weighted')\n",
        "recall = recall_score(true_labels, predictions, average='weighted')\n",
        "f1 = f1_score(true_labels, predictions, average='weighted')\n",
        "\n",
        "print(f'Precision: {precision:.4f}, Recall: {recall:.4f}, F1 Score: {f1:.4f}')\n",
        "\n",
        "labels = ['Precision', 'Recall', 'F1 Score']\n",
        "scores = [precision, recall, f1]\n"
      ]
    },
    {
      "cell_type": "code",
      "execution_count": 18,
      "metadata": {
        "ExecuteTime": {
          "end_time": "2024-03-25T14:32:23.979447Z",
          "start_time": "2024-03-25T14:32:23.911503Z"
        },
        "colab": {
          "base_uri": "https://localhost:8080/",
          "height": 472
        },
        "id": "6vZ3CT7SdW0F",
        "outputId": "975bed6b-1983-4013-ddc4-b566a64b8fc2"
      },
      "outputs": [
        {
          "data": {
            "image/png": "[encoded data removed]",
            "text/plain": [
              "<Figure size 640x480 with 1 Axes>"
            ]
          },
          "metadata": {},
          "output_type": "display_data"
        }
      ],
      "source": [
        "\n",
        "plt.bar(labels, scores)\n",
        "plt.xlabel('Metrics')\n",
        "plt.ylabel('Scores')\n",
        "plt.title('Model Evaluation Metrics')\n",
        "plt.show()\n",
        "\n",
        "\n"
      ]
    },
    {
      "cell_type": "code",
      "execution_count": 19,
      "metadata": {
        "colab": {
          "base_uri": "https://localhost:8080/"
        },
        "id": "jUb5HGGUdW0F",
        "outputId": "63ab0e6b-12b2-4572-c952-70211456a8f7"
      },
      "outputs": [
        {
          "data": {
            "text/plain": [
              "CustomClassifier(\n",
              "  (bert): BertModel(\n",
              "    (embeddings): BertEmbeddings(\n",
              "      (word_embeddings): Embedding(28996, 768, padding_idx=0)\n",
              "      (position_embeddings): Embedding(512, 768)\n",
              "      (token_type_embeddings): Embedding(2, 768)\n",
              "      (LayerNorm): LayerNorm((768,), eps=1e-12, elementwise_affine=True)\n",
              "      (dropout): Dropout(p=0.1, inplace=False)\n",
              "    )\n",
              "    (encoder): BertEncoder(\n",
              "      (layer): ModuleList(\n",
              "        (0-11): 12 x BertLayer(\n",
              "          (attention): BertAttention(\n",
              "            (self): BertSelfAttention(\n",
              "              (query): Linear(in_features=768, out_features=768, bias=True)\n",
              "              (key): Linear(in_features=768, out_features=768, bias=True)\n",
              "              (value): Linear(in_features=768, out_features=768, bias=True)\n",
              "              (dropout): Dropout(p=0.1, inplace=False)\n",
              "            )\n",
              "            (output): BertSelfOutput(\n",
              "              (dense): Linear(in_features=768, out_features=768, bias=True)\n",
              "              (LayerNorm): LayerNorm((768,), eps=1e-12, elementwise_affine=True)\n",
              "              (dropout): Dropout(p=0.1, inplace=False)\n",
              "            )\n",
              "          )\n",
              "          (intermediate): BertIntermediate(\n",
              "            (dense): Linear(in_features=768, out_features=3072, bias=True)\n",
              "            (intermediate_act_fn): GELUActivation()\n",
              "          )\n",
              "          (output): BertOutput(\n",
              "            (dense): Linear(in_features=3072, out_features=768, bias=True)\n",
              "            (LayerNorm): LayerNorm((768,), eps=1e-12, elementwise_affine=True)\n",
              "            (dropout): Dropout(p=0.1, inplace=False)\n",
              "          )\n",
              "        )\n",
              "      )\n",
              "    )\n",
              "    (pooler): BertPooler(\n",
              "      (dense): Linear(in_features=768, out_features=768, bias=True)\n",
              "      (activation): Tanh()\n",
              "    )\n",
              "  )\n",
              "  (classifier): Sequential(\n",
              "    (0): Linear(in_features=768, out_features=512, bias=True)\n",
              "    (1): ReLU()\n",
              "    (2): Dropout(p=0.1, inplace=False)\n",
              "    (3): Linear(in_features=512, out_features=256, bias=True)\n",
              "    (4): ReLU()\n",
              "    (5): Dropout(p=0.1, inplace=False)\n",
              "    (6): Linear(in_features=256, out_features=2, bias=True)\n",
              "  )\n",
              ")"
            ]
          },
          "execution_count": 19,
          "metadata": {},
          "output_type": "execute_result"
        }
      ],
      "source": [
        "# model.load_state_dict(torch.load('milestone2_NLP_model_state.pth'))\n",
        "\n",
        "model.eval()"
      ]
    },
    {
      "cell_type": "code",
      "execution_count": 21,
      "metadata": {
        "id": "aPOb_xIhdW0G"
      },
      "outputs": [],
      "source": [
        "json_file_path = '/content/drive/MyDrive/Colab Notebooks/gold_practice_test.json'\n",
        "import json\n",
        "# Load the JSON file\n",
        "with open(json_file_path, 'r') as file:\n",
        "    gold_practice_test = json.load(file)\n"
      ]
    },
    {
      "cell_type": "code",
      "execution_count": 22,
      "metadata": {
        "id": "BrxqcsqwdW0G"
      },
      "outputs": [],
      "source": [
        "def preprocess_test_data(train_data):\n",
        "    preprocessed_data = []\n",
        "\n",
        "    for data_id, data in train_data.items():\n",
        "        ctr_1 = data['Primary_id'] + '.json'\n",
        "        ctr_1f = os.path.join('/content/drive/MyDrive/Colab Notebooks/CT json', ctr_1)\n",
        "        secondaryid_exists = False\n",
        "        if 'Secondary_id' in data:\n",
        "            ctr_2 = data['Secondary_id'] + '.json'\n",
        "            ctr_2f = os.path.join('/content/drive/MyDrive/Colab Notebooks/CT json', ctr_2)\n",
        "            secondaryid_exists = True\n",
        "\n",
        "        with open(ctr_1f, 'r') as file:\n",
        "            ctr_a = json.load(file)\n",
        "            if secondaryid_exists:\n",
        "                with open(ctr_2f, 'r') as file:\n",
        "                    ctr_b = json.load(file)\n",
        "                ctr = \"CTR 1\" + \" [SEP] \".join(ctr_a[data['Section_id']]) +\"[SEP]\"+ \"CTR 2\" + \" [SEP] \".join(\n",
        "                    ctr_b[data[\"Section_id\"]]) + \"[SEP]\"+\"Data\" + \" [SEP] \" + data[\"Statement\"]\n",
        "            else:\n",
        "                ctr = \"CTR 1\" + \" [SEP] \".join(ctr_a[data['Section_id']]) + \"[SEP]\"+\"Data\" + \" [SEP] \" + data[\"Statement\"]\n",
        "        ctr = ctr.lower()\n",
        "        url_ptrn = r'http[s]?://(?:[a-zA-Z]|[0-9]|[$-_@.&+]|[!*\\\\(\\\\),]|(?:%[0-9a-fA-F][0-9a-fA-F]))+'\n",
        "\n",
        "        ctr = re.sub(url_ptrn, '', ctr)\n",
        "        ctr = re.sub(r'[^\\w\\s]', '', ctr)\n",
        "\n",
        "        inputs = tokenizer(ctr, return_tensors='pt', max_length=512, padding='max_length', truncation=True)\n",
        "        labels = torch.tensor([label_mapping[data['Label']]])\n",
        "\n",
        "        preprocessed_data.append((inputs, labels))\n",
        "\n",
        "\n",
        "    return preprocessed_data\n"
      ]
    },
    {
      "cell_type": "code",
      "execution_count": 23,
      "metadata": {
        "id": "bAvSaXc1dW0G"
      },
      "outputs": [],
      "source": [
        "gold_test = preprocess_test_data(gold_practice_test)"
      ]
    },
    {
      "cell_type": "code",
      "execution_count": null,
      "metadata": {
        "id": "PH9UKzLXdW0G"
      },
      "outputs": [],
      "source": []
    },
    {
      "cell_type": "code",
      "execution_count": 24,
      "metadata": {
        "id": "QvqXlcT8dW0G"
      },
      "outputs": [],
      "source": [
        "from torch.utils.data import DataLoader\n",
        "\n",
        "batch_size = 64\n",
        "gold_test_loader = DataLoader(gold_test, batch_size=batch_size)"
      ]
    },
    {
      "cell_type": "code",
      "execution_count": null,
      "metadata": {
        "id": "pG8UftyBdW0G"
      },
      "outputs": [],
      "source": []
    },
    {
      "cell_type": "code",
      "execution_count": 25,
      "metadata": {
        "id": "g0RIi1NsdW0G"
      },
      "outputs": [],
      "source": [
        "from sklearn.metrics import accuracy_score, precision_score, recall_score, f1_score\n",
        "import matplotlib.pyplot as plt\n",
        "\n",
        "model.eval()\n",
        "predictions = []\n",
        "true_labels = []\n",
        "\n",
        "with torch.no_grad():\n",
        "    for batch in gold_test_loader:\n",
        "        input_ids = batch[0]['input_ids']\n",
        "        attention_mask = batch[0]['attention_mask']\n",
        "        labels = batch[1].to(device)\n",
        "        input_ids = input_ids.squeeze(1).to(device)\n",
        "        attention_mask = attention_mask.squeeze(1).to(device)\n",
        "        outputs = model(input_ids, attention_mask=attention_mask, labels=labels)\n",
        "        _, predicted = torch.max(outputs, 1)\n",
        "        predictions.extend(predicted.tolist())\n",
        "        true_labels.extend(labels.tolist())\n"
      ]
    },
    {
      "cell_type": "code",
      "execution_count": 26,
      "metadata": {
        "colab": {
          "base_uri": "https://localhost:8080/"
        },
        "id": "MDGiYuredW0G",
        "outputId": "97255b35-fe2a-4c05-e2f1-9558fabc28c4"
      },
      "outputs": [
        {
          "name": "stdout",
          "output_type": "stream",
          "text": [
            "Accuracy: 0.5042\n",
            "Precision: 0.5550, Recall: 0.5042, F1 Score: 0.5171\n"
          ]
        }
      ],
      "source": [
        "import numpy as np\n",
        "\n",
        "true_labels = np.array(true_labels)\n",
        "predictions = np.array(predictions)\n",
        "\n",
        "accuracy = accuracy_score(true_labels, predictions)\n",
        "print(f'Accuracy: {accuracy:.4f}')\n",
        "\n",
        "precision = precision_score(true_labels, predictions, average='weighted')\n",
        "recall = recall_score(true_labels, predictions, average='weighted')\n",
        "f1 = f1_score(true_labels, predictions, average='weighted')\n",
        "\n",
        "print(f'Precision: {precision:.4f}, Recall: {recall:.4f}, F1 Score: {f1:.4f}')\n",
        "\n",
        "labels = ['Precision', 'Recall', 'F1 Score']\n",
        "scores = [precision, recall, f1]\n"
      ]
    },
    {
      "cell_type": "code",
      "execution_count": 27,
      "metadata": {
        "id": "LMfp2P8FdW0G"
      },
      "outputs": [],
      "source": [
        "if len(true_labels) != len(predictions):\n",
        "        raise ValueError(\"The lists of predictions must have the same length.\")\n",
        "faithfulness = sum(abs(o - c) for o, c in zip(true_labels, predictions)) / len(true_labels)"
      ]
    },
    {
      "cell_type": "code",
      "execution_count": 28,
      "metadata": {
        "colab": {
          "base_uri": "https://localhost:8080/"
        },
        "id": "ft4IR19NdW0G",
        "outputId": "a5f7a395-cdb0-43c3-ec1b-d93f447dd83d"
      },
      "outputs": [
        {
          "name": "stdout",
          "output_type": "stream",
          "text": [
            "[0.49579832]\n"
          ]
        }
      ],
      "source": [
        "print(faithfulness)"
      ]
    },
    {
      "cell_type": "code",
      "execution_count": 29,
      "metadata": {
        "id": "HI-sbchXdW0T"
      },
      "outputs": [],
      "source": [
        "if len(true_labels) != len(predictions):\n",
        "        raise ValueError(\"The lists of predictions must have the same length.\")\n",
        "consistency = sum(1-abs(o - c) for o, c in zip(true_labels, predictions)) / len(true_labels)"
      ]
    },
    {
      "cell_type": "code",
      "execution_count": 30,
      "metadata": {
        "colab": {
          "base_uri": "https://localhost:8080/"
        },
        "id": "4BX78oaHdW0T",
        "outputId": "5e5b704f-32fc-4fa3-8732-6ed6188814a9"
      },
      "outputs": [
        {
          "name": "stdout",
          "output_type": "stream",
          "text": [
            "[0.50420168]\n"
          ]
        }
      ],
      "source": [
        "print(consistency)"
      ]
    },
    {
      "cell_type": "code",
      "execution_count": 32,
      "metadata": {
        "id": "5Mj82TywdW0T"
      },
      "outputs": [],
      "source": [
        "json_file_path = '/content/drive/MyDrive/Colab Notebooks/test.json'\n",
        "import json\n",
        "with open(json_file_path, 'r') as file:\n",
        "    test_data = json.load(file)\n",
        "\n"
      ]
    },
    {
      "cell_type": "code",
      "execution_count": 33,
      "metadata": {
        "id": "yyZRTXqWdW0T"
      },
      "outputs": [],
      "source": [
        "import json\n",
        "\n",
        "\n",
        "test_preprocessed_data = []\n",
        "data_ids = []  \n",
        "\n",
        "for data_id, data in test_data.items():\n",
        "    ctr_1 = data['Primary_id'] + '.json'\n",
        "    ctr_1f = os.path.join('/content/drive/MyDrive/Colab Notebooks/CT json', ctr_1)\n",
        "    secondaryid_exists = False\n",
        "    if 'Secondary_id' in data:\n",
        "        ctr_2 = data['Secondary_id'] + '.json'\n",
        "        ctr_2f = os.path.join('/content/drive/MyDrive/Colab Notebooks/CT json', ctr_2)\n",
        "        secondaryid_exists = True\n",
        "\n",
        "    with open(ctr_1f, 'r') as file:\n",
        "        ctr_a = json.load(file)\n",
        "        if secondaryid_exists:\n",
        "            with open(ctr_2f, 'r') as file:\n",
        "                ctr_b = json.load(file)\n",
        "            ctr = \" \".join(ctr_a[data['Section_id']]) + \" [SEP] \" + \\\n",
        "                  \" \".join(ctr_b[data[\"Section_id\"]]) + \" [SEP] \" + data[\"Statement\"]\n",
        "        else:\n",
        "            ctr = \" \".join(ctr_a[data['Section_id']]) + \" [SEP] \" + data[\"Statement\"]\n",
        "\n",
        "    ctr = ctr.lower()\n",
        "    url_ptrn = r'http[s]?://(?:[a-zA-Z]|[0-9]|[$-_@.&+]|[!*\\\\(\\\\),]|(?:%[0-9a-fA-F][0-9a-fA-F]))+'\n",
        "    ctr = re.sub(url_ptrn, '', ctr)\n",
        "    ctr = re.sub(r'[^\\w\\s]', '', ctr)\n",
        "\n",
        "    inputs = tokenizer(ctr, return_tensors='pt', max_length=512, padding='max_length', truncation=True)\n",
        "\n",
        "    test_preprocessed_data.append(inputs)\n",
        "    data_ids.append(data_id) \n"
      ]
    },
    {
      "cell_type": "code",
      "execution_count": 34,
      "metadata": {
        "id": "WiJw2RP0dW0T"
      },
      "outputs": [],
      "source": [
        "from torch.utils.data import DataLoader\n",
        "\n",
        "batch_size = 64\n",
        "test_loader = DataLoader(test_preprocessed_data, batch_size=batch_size)"
      ]
    },
    {
      "cell_type": "code",
      "execution_count": 35,
      "metadata": {
        "id": "LFMVSlmGdW0T"
      },
      "outputs": [],
      "source": [
        "\n",
        "model.eval()\n",
        "predictions = []\n",
        "\n",
        "with torch.no_grad():\n",
        "    for batch in test_loader:  \n",
        "        input_ids = batch['input_ids']\n",
        "        attention_mask = batch['attention_mask']\n",
        "        input_ids = input_ids.squeeze(1).to(device)\n",
        "        attention_mask = attention_mask.squeeze(1).to(device)\n",
        "        outputs = model(input_ids, attention_mask=attention_mask)\n",
        "        _, predicted = torch.max(outputs, 1)\n",
        "        predictions.extend(predicted.tolist())\n"
      ]
    },
    {
      "cell_type": "code",
      "execution_count": 36,
      "metadata": {
        "colab": {
          "base_uri": "https://localhost:8080/"
        },
        "id": "fVVY1umYdW0T",
        "outputId": "047062b8-549f-49ae-fc08-24bf6df17808"
      },
      "outputs": [
        {
          "name": "stdout",
          "output_type": "stream",
          "text": [
            "Predictions saved to: predictions.json\n"
          ]
        }
      ],
      "source": [
        "\n",
        "predictions_dict = {}\n",
        "for data_id, prediction in zip(data_ids, predictions):\n",
        "    prediction_label = \"Contradiction\" if prediction == 0 else \"Entailment\"\n",
        "    predictions_dict[data_id] = {\"Prediction\": prediction_label}\n",
        "\n",
        "output_file_path = \"predictions.json\"\n",
        "with open(output_file_path, \"w\") as f:\n",
        "    json.dump(predictions_dict, f, indent=4)\n",
        "\n",
        "print(\"Predictions saved to:\", output_file_path)\n"
      ]
    },
    {
      "cell_type": "code",
      "execution_count": null,
      "metadata": {
        "id": "7o_BtNMDdW0T"
      },
      "outputs": [],
      "source": []
    }
  ],
  "metadata": {
    "accelerator": "GPU",
    "colab": {
      "gpuType": "T4",
      "provenance": []
    },
    "kernelspec": {
      "display_name": "Python 3",
      "name": "python3"
    },
    "language_info": {
      "codemirror_mode": {
        "name": "ipython",
        "version": 3
      },
      "file_extension": ".py",
      "mimetype": "text/x-python",
      "name": "python",
      "nbconvert_exporter": "python",
      "pygments_lexer": "ipython3",
      "version": "3.11.5"
    },
    "widgets": {
      "application/vnd.jupyter.widget-state+json": {
        "093d9f5b4a154142967c5c0b161dbf24": {
          "model_module": "@jupyter-widgets/controls",
          "model_module_version": "1.5.0",
          "model_name": "DescriptionStyleModel",
          "state": {
            "_model_module": "@jupyter-widgets/controls",
            "_model_module_version": "1.5.0",
            "_model_name": "DescriptionStyleModel",
            "_view_count": null,
            "_view_module": "@jupyter-widgets/base",
            "_view_module_version": "1.2.0",
            "_view_name": "StyleView",
            "description_width": ""
          }
        },
        "09a32acdda0e407cb204d4dd45b30830": {
          "model_module": "@jupyter-widgets/controls",
          "model_module_version": "1.5.0",
          "model_name": "HTMLModel",
          "state": {
            "_dom_classes": [],
            "_model_module": "@jupyter-widgets/controls",
            "_model_module_version": "1.5.0",
            "_model_name": "HTMLModel",
            "_view_count": null,
            "_view_module": "@jupyter-widgets/controls",
            "_view_module_version": "1.5.0",
            "_view_name": "HTMLView",
            "description": "",
            "description_tooltip": null,
            "layout": "IPY_MODEL_d808f7e86e82402498514aa890ef5fe1",
            "placeholder": "​",
            "style": "IPY_MODEL_a9202baf1db442bc94eaa10700026e7d",
            "value": " 385/385 [00:00&lt;00:00, 26.0kB/s]"
          }
        },
        "0b83a9c16f824c1eb2a7d661fa853da7": {
          "model_module": "@jupyter-widgets/base",
          "model_module_version": "1.2.0",
          "model_name": "LayoutModel",
          "state": {
            "_model_module": "@jupyter-widgets/base",
            "_model_module_version": "1.2.0",
            "_model_name": "LayoutModel",
            "_view_count": null,
            "_view_module": "@jupyter-widgets/base",
            "_view_module_version": "1.2.0",
            "_view_name": "LayoutView",
            "align_content": null,
            "align_items": null,
            "align_self": null,
            "border": null,
            "bottom": null,
            "display": null,
            "flex": null,
            "flex_flow": null,
            "grid_area": null,
            "grid_auto_columns": null,
            "grid_auto_flow": null,
            "grid_auto_rows": null,
            "grid_column": null,
            "grid_gap": null,
            "grid_row": null,
            "grid_template_areas": null,
            "grid_template_columns": null,
            "grid_template_rows": null,
            "height": null,
            "justify_content": null,
            "justify_items": null,
            "left": null,
            "margin": null,
            "max_height": null,
            "max_width": null,
            "min_height": null,
            "min_width": null,
            "object_fit": null,
            "object_position": null,
            "order": null,
            "overflow": null,
            "overflow_x": null,
            "overflow_y": null,
            "padding": null,
            "right": null,
            "top": null,
            "visibility": null,
            "width": null
          }
        },
        "139a9379c9f94b848c42171da4f04cc3": {
          "model_module": "@jupyter-widgets/controls",
          "model_module_version": "1.5.0",
          "model_name": "FloatProgressModel",
          "state": {
            "_dom_classes": [],
            "_model_module": "@jupyter-widgets/controls",
            "_model_module_version": "1.5.0",
            "_model_name": "FloatProgressModel",
            "_view_count": null,
            "_view_module": "@jupyter-widgets/controls",
            "_view_module_version": "1.5.0",
            "_view_name": "ProgressView",
            "bar_style": "success",
            "description": "",
            "description_tooltip": null,
            "layout": "IPY_MODEL_8575f02257fc4793abfa06c3f68c9a82",
            "max": 385,
            "min": 0,
            "orientation": "horizontal",
            "style": "IPY_MODEL_ecf22ab90d84443aa5bd122562c05ac9",
            "value": 385
          }
        },
        "148a34f64e5745d78f5da0257592306d": {
          "model_module": "@jupyter-widgets/base",
          "model_module_version": "1.2.0",
          "model_name": "LayoutModel",
          "state": {
            "_model_module": "@jupyter-widgets/base",
            "_model_module_version": "1.2.0",
            "_model_name": "LayoutModel",
            "_view_count": null,
            "_view_module": "@jupyter-widgets/base",
            "_view_module_version": "1.2.0",
            "_view_name": "LayoutView",
            "align_content": null,
            "align_items": null,
            "align_self": null,
            "border": null,
            "bottom": null,
            "display": null,
            "flex": null,
            "flex_flow": null,
            "grid_area": null,
            "grid_auto_columns": null,
            "grid_auto_flow": null,
            "grid_auto_rows": null,
            "grid_column": null,
            "grid_gap": null,
            "grid_row": null,
            "grid_template_areas": null,
            "grid_template_columns": null,
            "grid_template_rows": null,
            "height": null,
            "justify_content": null,
            "justify_items": null,
            "left": null,
            "margin": null,
            "max_height": null,
            "max_width": null,
            "min_height": null,
            "min_width": null,
            "object_fit": null,
            "object_position": null,
            "order": null,
            "overflow": null,
            "overflow_x": null,
            "overflow_y": null,
            "padding": null,
            "right": null,
            "top": null,
            "visibility": null,
            "width": null
          }
        },
        "190df5c113514c519a700ab271d7ae37": {
          "model_module": "@jupyter-widgets/base",
          "model_module_version": "1.2.0",
          "model_name": "LayoutModel",
          "state": {
            "_model_module": "@jupyter-widgets/base",
            "_model_module_version": "1.2.0",
            "_model_name": "LayoutModel",
            "_view_count": null,
            "_view_module": "@jupyter-widgets/base",
            "_view_module_version": "1.2.0",
            "_view_name": "LayoutView",
            "align_content": null,
            "align_items": null,
            "align_self": null,
            "border": null,
            "bottom": null,
            "display": null,
            "flex": null,
            "flex_flow": null,
            "grid_area": null,
            "grid_auto_columns": null,
            "grid_auto_flow": null,
            "grid_auto_rows": null,
            "grid_column": null,
            "grid_gap": null,
            "grid_row": null,
            "grid_template_areas": null,
            "grid_template_columns": null,
            "grid_template_rows": null,
            "height": null,
            "justify_content": null,
            "justify_items": null,
            "left": null,
            "margin": null,
            "max_height": null,
            "max_width": null,
            "min_height": null,
            "min_width": null,
            "object_fit": null,
            "object_position": null,
            "order": null,
            "overflow": null,
            "overflow_x": null,
            "overflow_y": null,
            "padding": null,
            "right": null,
            "top": null,
            "visibility": null,
            "width": null
          }
        },
        "1af2b12a725a4c9987c1508489898ad4": {
          "model_module": "@jupyter-widgets/controls",
          "model_module_version": "1.5.0",
          "model_name": "DescriptionStyleModel",
          "state": {
            "_model_module": "@jupyter-widgets/controls",
            "_model_module_version": "1.5.0",
            "_model_name": "DescriptionStyleModel",
            "_view_count": null,
            "_view_module": "@jupyter-widgets/base",
            "_view_module_version": "1.2.0",
            "_view_name": "StyleView",
            "description_width": ""
          }
        },
        "2a69b45db15743b5a6d859acfce153fe": {
          "model_module": "@jupyter-widgets/controls",
          "model_module_version": "1.5.0",
          "model_name": "HBoxModel",
          "state": {
            "_dom_classes": [],
            "_model_module": "@jupyter-widgets/controls",
            "_model_module_version": "1.5.0",
            "_model_name": "HBoxModel",
            "_view_count": null,
            "_view_module": "@jupyter-widgets/controls",
            "_view_module_version": "1.5.0",
            "_view_name": "HBoxView",
            "box_style": "",
            "children": [
              "IPY_MODEL_3c2f7b77367c48be87d71cf8e97baf40",
              "IPY_MODEL_73fb1d2eed2c408093755be0745a5f43",
              "IPY_MODEL_505aa86af66e45b89b240d506cfe9b92"
            ],
            "layout": "IPY_MODEL_5968b50e6e6f402c86767cde56f641c8"
          }
        },
        "33e6671462fd477aae9189409de79797": {
          "model_module": "@jupyter-widgets/base",
          "model_module_version": "1.2.0",
          "model_name": "LayoutModel",
          "state": {
            "_model_module": "@jupyter-widgets/base",
            "_model_module_version": "1.2.0",
            "_model_name": "LayoutModel",
            "_view_count": null,
            "_view_module": "@jupyter-widgets/base",
            "_view_module_version": "1.2.0",
            "_view_name": "LayoutView",
            "align_content": null,
            "align_items": null,
            "align_self": null,
            "border": null,
            "bottom": null,
            "display": null,
            "flex": null,
            "flex_flow": null,
            "grid_area": null,
            "grid_auto_columns": null,
            "grid_auto_flow": null,
            "grid_auto_rows": null,
            "grid_column": null,
            "grid_gap": null,
            "grid_row": null,
            "grid_template_areas": null,
            "grid_template_columns": null,
            "grid_template_rows": null,
            "height": null,
            "justify_content": null,
            "justify_items": null,
            "left": null,
            "margin": null,
            "max_height": null,
            "max_width": null,
            "min_height": null,
            "min_width": null,
            "object_fit": null,
            "object_position": null,
            "order": null,
            "overflow": null,
            "overflow_x": null,
            "overflow_y": null,
            "padding": null,
            "right": null,
            "top": null,
            "visibility": null,
            "width": null
          }
        },
        "3b6cff79d9924a6087b6ed35733014ff": {
          "model_module": "@jupyter-widgets/controls",
          "model_module_version": "1.5.0",
          "model_name": "FloatProgressModel",
          "state": {
            "_dom_classes": [],
            "_model_module": "@jupyter-widgets/controls",
            "_model_module_version": "1.5.0",
            "_model_name": "FloatProgressModel",
            "_view_count": null,
            "_view_module": "@jupyter-widgets/controls",
            "_view_module_version": "1.5.0",
            "_view_name": "ProgressView",
            "bar_style": "success",
            "description": "",
            "description_tooltip": null,
            "layout": "IPY_MODEL_0b83a9c16f824c1eb2a7d661fa853da7",
            "max": 213450,
            "min": 0,
            "orientation": "horizontal",
            "style": "IPY_MODEL_6e8a6674e80c4063924f91c36247d58a",
            "value": 213450
          }
        },
        "3c2f7b77367c48be87d71cf8e97baf40": {
          "model_module": "@jupyter-widgets/controls",
          "model_module_version": "1.5.0",
          "model_name": "HTMLModel",
          "state": {
            "_dom_classes": [],
            "_model_module": "@jupyter-widgets/controls",
            "_model_module_version": "1.5.0",
            "_model_name": "HTMLModel",
            "_view_count": null,
            "_view_module": "@jupyter-widgets/controls",
            "_view_module_version": "1.5.0",
            "_view_name": "HTMLView",
            "description": "",
            "description_tooltip": null,
            "layout": "IPY_MODEL_148a34f64e5745d78f5da0257592306d",
            "placeholder": "​",
            "style": "IPY_MODEL_be27f896fe634b29a746849cc4cca27a",
            "value": "pytorch_model.bin: 100%"
          }
        },
        "505aa86af66e45b89b240d506cfe9b92": {
          "model_module": "@jupyter-widgets/controls",
          "model_module_version": "1.5.0",
          "model_name": "HTMLModel",
          "state": {
            "_dom_classes": [],
            "_model_module": "@jupyter-widgets/controls",
            "_model_module_version": "1.5.0",
            "_model_name": "HTMLModel",
            "_view_count": null,
            "_view_module": "@jupyter-widgets/controls",
            "_view_module_version": "1.5.0",
            "_view_name": "HTMLView",
            "description": "",
            "description_tooltip": null,
            "layout": "IPY_MODEL_33e6671462fd477aae9189409de79797",
            "placeholder": "​",
            "style": "IPY_MODEL_093d9f5b4a154142967c5c0b161dbf24",
            "value": " 436M/436M [00:03&lt;00:00, 117MB/s]"
          }
        },
        "5968b50e6e6f402c86767cde56f641c8": {
          "model_module": "@jupyter-widgets/base",
          "model_module_version": "1.2.0",
          "model_name": "LayoutModel",
          "state": {
            "_model_module": "@jupyter-widgets/base",
            "_model_module_version": "1.2.0",
            "_model_name": "LayoutModel",
            "_view_count": null,
            "_view_module": "@jupyter-widgets/base",
            "_view_module_version": "1.2.0",
            "_view_name": "LayoutView",
            "align_content": null,
            "align_items": null,
            "align_self": null,
            "border": null,
            "bottom": null,
            "display": null,
            "flex": null,
            "flex_flow": null,
            "grid_area": null,
            "grid_auto_columns": null,
            "grid_auto_flow": null,
            "grid_auto_rows": null,
            "grid_column": null,
            "grid_gap": null,
            "grid_row": null,
            "grid_template_areas": null,
            "grid_template_columns": null,
            "grid_template_rows": null,
            "height": null,
            "justify_content": null,
            "justify_items": null,
            "left": null,
            "margin": null,
            "max_height": null,
            "max_width": null,
            "min_height": null,
            "min_width": null,
            "object_fit": null,
            "object_position": null,
            "order": null,
            "overflow": null,
            "overflow_x": null,
            "overflow_y": null,
            "padding": null,
            "right": null,
            "top": null,
            "visibility": null,
            "width": null
          }
        },
        "5ac5e4a0acb24e65b3c867bc182c99e7": {
          "model_module": "@jupyter-widgets/base",
          "model_module_version": "1.2.0",
          "model_name": "LayoutModel",
          "state": {
            "_model_module": "@jupyter-widgets/base",
            "_model_module_version": "1.2.0",
            "_model_name": "LayoutModel",
            "_view_count": null,
            "_view_module": "@jupyter-widgets/base",
            "_view_module_version": "1.2.0",
            "_view_name": "LayoutView",
            "align_content": null,
            "align_items": null,
            "align_self": null,
            "border": null,
            "bottom": null,
            "display": null,
            "flex": null,
            "flex_flow": null,
            "grid_area": null,
            "grid_auto_columns": null,
            "grid_auto_flow": null,
            "grid_auto_rows": null,
            "grid_column": null,
            "grid_gap": null,
            "grid_row": null,
            "grid_template_areas": null,
            "grid_template_columns": null,
            "grid_template_rows": null,
            "height": null,
            "justify_content": null,
            "justify_items": null,
            "left": null,
            "margin": null,
            "max_height": null,
            "max_width": null,
            "min_height": null,
            "min_width": null,
            "object_fit": null,
            "object_position": null,
            "order": null,
            "overflow": null,
            "overflow_x": null,
            "overflow_y": null,
            "padding": null,
            "right": null,
            "top": null,
            "visibility": null,
            "width": null
          }
        },
        "5c727aee871a42e6a5c94f7aeaa9f8bd": {
          "model_module": "@jupyter-widgets/controls",
          "model_module_version": "1.5.0",
          "model_name": "ProgressStyleModel",
          "state": {
            "_model_module": "@jupyter-widgets/controls",
            "_model_module_version": "1.5.0",
            "_model_name": "ProgressStyleModel",
            "_view_count": null,
            "_view_module": "@jupyter-widgets/base",
            "_view_module_version": "1.2.0",
            "_view_name": "StyleView",
            "bar_color": null,
            "description_width": ""
          }
        },
        "66859d8fbfa540979bee2cd60e05f96e": {
          "model_module": "@jupyter-widgets/controls",
          "model_module_version": "1.5.0",
          "model_name": "DescriptionStyleModel",
          "state": {
            "_model_module": "@jupyter-widgets/controls",
            "_model_module_version": "1.5.0",
            "_model_name": "DescriptionStyleModel",
            "_view_count": null,
            "_view_module": "@jupyter-widgets/base",
            "_view_module_version": "1.2.0",
            "_view_name": "StyleView",
            "description_width": ""
          }
        },
        "6e8a6674e80c4063924f91c36247d58a": {
          "model_module": "@jupyter-widgets/controls",
          "model_module_version": "1.5.0",
          "model_name": "ProgressStyleModel",
          "state": {
            "_model_module": "@jupyter-widgets/controls",
            "_model_module_version": "1.5.0",
            "_model_name": "ProgressStyleModel",
            "_view_count": null,
            "_view_module": "@jupyter-widgets/base",
            "_view_module_version": "1.2.0",
            "_view_name": "StyleView",
            "bar_color": null,
            "description_width": ""
          }
        },
        "73fb1d2eed2c408093755be0745a5f43": {
          "model_module": "@jupyter-widgets/controls",
          "model_module_version": "1.5.0",
          "model_name": "FloatProgressModel",
          "state": {
            "_dom_classes": [],
            "_model_module": "@jupyter-widgets/controls",
            "_model_module_version": "1.5.0",
            "_model_name": "FloatProgressModel",
            "_view_count": null,
            "_view_module": "@jupyter-widgets/controls",
            "_view_module_version": "1.5.0",
            "_view_name": "ProgressView",
            "bar_style": "success",
            "description": "",
            "description_tooltip": null,
            "layout": "IPY_MODEL_5ac5e4a0acb24e65b3c867bc182c99e7",
            "max": 435778770,
            "min": 0,
            "orientation": "horizontal",
            "style": "IPY_MODEL_5c727aee871a42e6a5c94f7aeaa9f8bd",
            "value": 435778770
          }
        },
        "7cdb07ef66e54d2f912e0b7cdb5c684f": {
          "model_module": "@jupyter-widgets/base",
          "model_module_version": "1.2.0",
          "model_name": "LayoutModel",
          "state": {
            "_model_module": "@jupyter-widgets/base",
            "_model_module_version": "1.2.0",
            "_model_name": "LayoutModel",
            "_view_count": null,
            "_view_module": "@jupyter-widgets/base",
            "_view_module_version": "1.2.0",
            "_view_name": "LayoutView",
            "align_content": null,
            "align_items": null,
            "align_self": null,
            "border": null,
            "bottom": null,
            "display": null,
            "flex": null,
            "flex_flow": null,
            "grid_area": null,
            "grid_auto_columns": null,
            "grid_auto_flow": null,
            "grid_auto_rows": null,
            "grid_column": null,
            "grid_gap": null,
            "grid_row": null,
            "grid_template_areas": null,
            "grid_template_columns": null,
            "grid_template_rows": null,
            "height": null,
            "justify_content": null,
            "justify_items": null,
            "left": null,
            "margin": null,
            "max_height": null,
            "max_width": null,
            "min_height": null,
            "min_width": null,
            "object_fit": null,
            "object_position": null,
            "order": null,
            "overflow": null,
            "overflow_x": null,
            "overflow_y": null,
            "padding": null,
            "right": null,
            "top": null,
            "visibility": null,
            "width": null
          }
        },
        "8575f02257fc4793abfa06c3f68c9a82": {
          "model_module": "@jupyter-widgets/base",
          "model_module_version": "1.2.0",
          "model_name": "LayoutModel",
          "state": {
            "_model_module": "@jupyter-widgets/base",
            "_model_module_version": "1.2.0",
            "_model_name": "LayoutModel",
            "_view_count": null,
            "_view_module": "@jupyter-widgets/base",
            "_view_module_version": "1.2.0",
            "_view_name": "LayoutView",
            "align_content": null,
            "align_items": null,
            "align_self": null,
            "border": null,
            "bottom": null,
            "display": null,
            "flex": null,
            "flex_flow": null,
            "grid_area": null,
            "grid_auto_columns": null,
            "grid_auto_flow": null,
            "grid_auto_rows": null,
            "grid_column": null,
            "grid_gap": null,
            "grid_row": null,
            "grid_template_areas": null,
            "grid_template_columns": null,
            "grid_template_rows": null,
            "height": null,
            "justify_content": null,
            "justify_items": null,
            "left": null,
            "margin": null,
            "max_height": null,
            "max_width": null,
            "min_height": null,
            "min_width": null,
            "object_fit": null,
            "object_position": null,
            "order": null,
            "overflow": null,
            "overflow_x": null,
            "overflow_y": null,
            "padding": null,
            "right": null,
            "top": null,
            "visibility": null,
            "width": null
          }
        },
        "8873633682a742639abafcec2c19b8ef": {
          "model_module": "@jupyter-widgets/controls",
          "model_module_version": "1.5.0",
          "model_name": "DescriptionStyleModel",
          "state": {
            "_model_module": "@jupyter-widgets/controls",
            "_model_module_version": "1.5.0",
            "_model_name": "DescriptionStyleModel",
            "_view_count": null,
            "_view_module": "@jupyter-widgets/base",
            "_view_module_version": "1.2.0",
            "_view_name": "StyleView",
            "description_width": ""
          }
        },
        "8b492481a567406ab37c5945240d7121": {
          "model_module": "@jupyter-widgets/base",
          "model_module_version": "1.2.0",
          "model_name": "LayoutModel",
          "state": {
            "_model_module": "@jupyter-widgets/base",
            "_model_module_version": "1.2.0",
            "_model_name": "LayoutModel",
            "_view_count": null,
            "_view_module": "@jupyter-widgets/base",
            "_view_module_version": "1.2.0",
            "_view_name": "LayoutView",
            "align_content": null,
            "align_items": null,
            "align_self": null,
            "border": null,
            "bottom": null,
            "display": null,
            "flex": null,
            "flex_flow": null,
            "grid_area": null,
            "grid_auto_columns": null,
            "grid_auto_flow": null,
            "grid_auto_rows": null,
            "grid_column": null,
            "grid_gap": null,
            "grid_row": null,
            "grid_template_areas": null,
            "grid_template_columns": null,
            "grid_template_rows": null,
            "height": null,
            "justify_content": null,
            "justify_items": null,
            "left": null,
            "margin": null,
            "max_height": null,
            "max_width": null,
            "min_height": null,
            "min_width": null,
            "object_fit": null,
            "object_position": null,
            "order": null,
            "overflow": null,
            "overflow_x": null,
            "overflow_y": null,
            "padding": null,
            "right": null,
            "top": null,
            "visibility": null,
            "width": null
          }
        },
        "8d9ae6e943584277924d3546d8f7e252": {
          "model_module": "@jupyter-widgets/controls",
          "model_module_version": "1.5.0",
          "model_name": "HTMLModel",
          "state": {
            "_dom_classes": [],
            "_model_module": "@jupyter-widgets/controls",
            "_model_module_version": "1.5.0",
            "_model_name": "HTMLModel",
            "_view_count": null,
            "_view_module": "@jupyter-widgets/controls",
            "_view_module_version": "1.5.0",
            "_view_name": "HTMLView",
            "description": "",
            "description_tooltip": null,
            "layout": "IPY_MODEL_9438869d51724a6a91c1ff34171e8d28",
            "placeholder": "​",
            "style": "IPY_MODEL_66859d8fbfa540979bee2cd60e05f96e",
            "value": "vocab.txt: 100%"
          }
        },
        "8dffa86154de40d8b94787cdc84bc582": {
          "model_module": "@jupyter-widgets/controls",
          "model_module_version": "1.5.0",
          "model_name": "HBoxModel",
          "state": {
            "_dom_classes": [],
            "_model_module": "@jupyter-widgets/controls",
            "_model_module_version": "1.5.0",
            "_model_name": "HBoxModel",
            "_view_count": null,
            "_view_module": "@jupyter-widgets/controls",
            "_view_module_version": "1.5.0",
            "_view_name": "HBoxView",
            "box_style": "",
            "children": [
              "IPY_MODEL_8d9ae6e943584277924d3546d8f7e252",
              "IPY_MODEL_3b6cff79d9924a6087b6ed35733014ff",
              "IPY_MODEL_fc7a341595f44f23a7b073ed3a10aec2"
            ],
            "layout": "IPY_MODEL_190df5c113514c519a700ab271d7ae37"
          }
        },
        "9438869d51724a6a91c1ff34171e8d28": {
          "model_module": "@jupyter-widgets/base",
          "model_module_version": "1.2.0",
          "model_name": "LayoutModel",
          "state": {
            "_model_module": "@jupyter-widgets/base",
            "_model_module_version": "1.2.0",
            "_model_name": "LayoutModel",
            "_view_count": null,
            "_view_module": "@jupyter-widgets/base",
            "_view_module_version": "1.2.0",
            "_view_name": "LayoutView",
            "align_content": null,
            "align_items": null,
            "align_self": null,
            "border": null,
            "bottom": null,
            "display": null,
            "flex": null,
            "flex_flow": null,
            "grid_area": null,
            "grid_auto_columns": null,
            "grid_auto_flow": null,
            "grid_auto_rows": null,
            "grid_column": null,
            "grid_gap": null,
            "grid_row": null,
            "grid_template_areas": null,
            "grid_template_columns": null,
            "grid_template_rows": null,
            "height": null,
            "justify_content": null,
            "justify_items": null,
            "left": null,
            "margin": null,
            "max_height": null,
            "max_width": null,
            "min_height": null,
            "min_width": null,
            "object_fit": null,
            "object_position": null,
            "order": null,
            "overflow": null,
            "overflow_x": null,
            "overflow_y": null,
            "padding": null,
            "right": null,
            "top": null,
            "visibility": null,
            "width": null
          }
        },
        "a76a11ccc7f045e9a1330815cd6e3494": {
          "model_module": "@jupyter-widgets/controls",
          "model_module_version": "1.5.0",
          "model_name": "HBoxModel",
          "state": {
            "_dom_classes": [],
            "_model_module": "@jupyter-widgets/controls",
            "_model_module_version": "1.5.0",
            "_model_name": "HBoxModel",
            "_view_count": null,
            "_view_module": "@jupyter-widgets/controls",
            "_view_module_version": "1.5.0",
            "_view_name": "HBoxView",
            "box_style": "",
            "children": [
              "IPY_MODEL_bfd4d0ba654f4973930a4197c2d6ac8a",
              "IPY_MODEL_139a9379c9f94b848c42171da4f04cc3",
              "IPY_MODEL_09a32acdda0e407cb204d4dd45b30830"
            ],
            "layout": "IPY_MODEL_8b492481a567406ab37c5945240d7121"
          }
        },
        "a9202baf1db442bc94eaa10700026e7d": {
          "model_module": "@jupyter-widgets/controls",
          "model_module_version": "1.5.0",
          "model_name": "DescriptionStyleModel",
          "state": {
            "_model_module": "@jupyter-widgets/controls",
            "_model_module_version": "1.5.0",
            "_model_name": "DescriptionStyleModel",
            "_view_count": null,
            "_view_module": "@jupyter-widgets/base",
            "_view_module_version": "1.2.0",
            "_view_name": "StyleView",
            "description_width": ""
          }
        },
        "be27f896fe634b29a746849cc4cca27a": {
          "model_module": "@jupyter-widgets/controls",
          "model_module_version": "1.5.0",
          "model_name": "DescriptionStyleModel",
          "state": {
            "_model_module": "@jupyter-widgets/controls",
            "_model_module_version": "1.5.0",
            "_model_name": "DescriptionStyleModel",
            "_view_count": null,
            "_view_module": "@jupyter-widgets/base",
            "_view_module_version": "1.2.0",
            "_view_name": "StyleView",
            "description_width": ""
          }
        },
        "bfd4d0ba654f4973930a4197c2d6ac8a": {
          "model_module": "@jupyter-widgets/controls",
          "model_module_version": "1.5.0",
          "model_name": "HTMLModel",
          "state": {
            "_dom_classes": [],
            "_model_module": "@jupyter-widgets/controls",
            "_model_module_version": "1.5.0",
            "_model_name": "HTMLModel",
            "_view_count": null,
            "_view_module": "@jupyter-widgets/controls",
            "_view_module_version": "1.5.0",
            "_view_name": "HTMLView",
            "description": "",
            "description_tooltip": null,
            "layout": "IPY_MODEL_7cdb07ef66e54d2f912e0b7cdb5c684f",
            "placeholder": "​",
            "style": "IPY_MODEL_1af2b12a725a4c9987c1508489898ad4",
            "value": "config.json: 100%"
          }
        },
        "d808f7e86e82402498514aa890ef5fe1": {
          "model_module": "@jupyter-widgets/base",
          "model_module_version": "1.2.0",
          "model_name": "LayoutModel",
          "state": {
            "_model_module": "@jupyter-widgets/base",
            "_model_module_version": "1.2.0",
            "_model_name": "LayoutModel",
            "_view_count": null,
            "_view_module": "@jupyter-widgets/base",
            "_view_module_version": "1.2.0",
            "_view_name": "LayoutView",
            "align_content": null,
            "align_items": null,
            "align_self": null,
            "border": null,
            "bottom": null,
            "display": null,
            "flex": null,
            "flex_flow": null,
            "grid_area": null,
            "grid_auto_columns": null,
            "grid_auto_flow": null,
            "grid_auto_rows": null,
            "grid_column": null,
            "grid_gap": null,
            "grid_row": null,
            "grid_template_areas": null,
            "grid_template_columns": null,
            "grid_template_rows": null,
            "height": null,
            "justify_content": null,
            "justify_items": null,
            "left": null,
            "margin": null,
            "max_height": null,
            "max_width": null,
            "min_height": null,
            "min_width": null,
            "object_fit": null,
            "object_position": null,
            "order": null,
            "overflow": null,
            "overflow_x": null,
            "overflow_y": null,
            "padding": null,
            "right": null,
            "top": null,
            "visibility": null,
            "width": null
          }
        },
        "e120ba3f0ff84cc4ad5b8e3feeff5a13": {
          "model_module": "@jupyter-widgets/base",
          "model_module_version": "1.2.0",
          "model_name": "LayoutModel",
          "state": {
            "_model_module": "@jupyter-widgets/base",
            "_model_module_version": "1.2.0",
            "_model_name": "LayoutModel",
            "_view_count": null,
            "_view_module": "@jupyter-widgets/base",
            "_view_module_version": "1.2.0",
            "_view_name": "LayoutView",
            "align_content": null,
            "align_items": null,
            "align_self": null,
            "border": null,
            "bottom": null,
            "display": null,
            "flex": null,
            "flex_flow": null,
            "grid_area": null,
            "grid_auto_columns": null,
            "grid_auto_flow": null,
            "grid_auto_rows": null,
            "grid_column": null,
            "grid_gap": null,
            "grid_row": null,
            "grid_template_areas": null,
            "grid_template_columns": null,
            "grid_template_rows": null,
            "height": null,
            "justify_content": null,
            "justify_items": null,
            "left": null,
            "margin": null,
            "max_height": null,
            "max_width": null,
            "min_height": null,
            "min_width": null,
            "object_fit": null,
            "object_position": null,
            "order": null,
            "overflow": null,
            "overflow_x": null,
            "overflow_y": null,
            "padding": null,
            "right": null,
            "top": null,
            "visibility": null,
            "width": null
          }
        },
        "ecf22ab90d84443aa5bd122562c05ac9": {
          "model_module": "@jupyter-widgets/controls",
          "model_module_version": "1.5.0",
          "model_name": "ProgressStyleModel",
          "state": {
            "_model_module": "@jupyter-widgets/controls",
            "_model_module_version": "1.5.0",
            "_model_name": "ProgressStyleModel",
            "_view_count": null,
            "_view_module": "@jupyter-widgets/base",
            "_view_module_version": "1.2.0",
            "_view_name": "StyleView",
            "bar_color": null,
            "description_width": ""
          }
        },
        "fc7a341595f44f23a7b073ed3a10aec2": {
          "model_module": "@jupyter-widgets/controls",
          "model_module_version": "1.5.0",
          "model_name": "HTMLModel",
          "state": {
            "_dom_classes": [],
            "_model_module": "@jupyter-widgets/controls",
            "_model_module_version": "1.5.0",
            "_model_name": "HTMLModel",
            "_view_count": null,
            "_view_module": "@jupyter-widgets/controls",
            "_view_module_version": "1.5.0",
            "_view_name": "HTMLView",
            "description": "",
            "description_tooltip": null,
            "layout": "IPY_MODEL_e120ba3f0ff84cc4ad5b8e3feeff5a13",
            "placeholder": "​",
            "style": "IPY_MODEL_8873633682a742639abafcec2c19b8ef",
            "value": " 213k/213k [00:00&lt;00:00, 4.94MB/s]"
          }
        }
      }
    }
  },
  "nbformat": 4,
  "nbformat_minor": 0
}
